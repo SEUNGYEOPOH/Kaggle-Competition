{
 "cells": [
  {
   "cell_type": "code",
   "execution_count": 1,
   "id": "208ac8e8",
   "metadata": {},
   "outputs": [],
   "source": [
    "import tensorflow as tf\n",
    "from tensorflow import keras\n",
    "import matplotlib as mpl\n",
    "import matplotlib.pyplot as plt\n",
    "import numpy as np\n",
    "import pandas as pd\n",
    "import seaborn as sns\n",
    "import sklearn\n",
    "import random\n",
    "from sklearn.metrics import confusion_matrix\n",
    "from sklearn.model_selection import train_test_split\n",
    "from sklearn.preprocessing import StandardScaler\n",
    "from sklearn.metrics import roc_auc_score\n",
    "from sklearn.preprocessing import LabelEncoder\n",
    "import os\n",
    "import tempfile"
   ]
  },
  {
   "cell_type": "code",
   "execution_count": 2,
   "id": "da066e1b",
   "metadata": {},
   "outputs": [
    {
     "data": {
      "text/plain": [
       "[name: \"/device:CPU:0\"\n",
       " device_type: \"CPU\"\n",
       " memory_limit: 268435456\n",
       " locality {\n",
       " }\n",
       " incarnation: 11242664112583173373\n",
       " xla_global_id: -1,\n",
       " name: \"/device:GPU:0\"\n",
       " device_type: \"GPU\"\n",
       " memory_limit: 1734816564\n",
       " locality {\n",
       "   bus_id: 1\n",
       "   links {\n",
       "   }\n",
       " }\n",
       " incarnation: 10343484271954322518\n",
       " physical_device_desc: \"device: 0, name: NVIDIA GeForce RTX 3050 Laptop GPU, pci bus id: 0000:01:00.0, compute capability: 8.6\"\n",
       " xla_global_id: 416903419]"
      ]
     },
     "execution_count": 2,
     "metadata": {},
     "output_type": "execute_result"
    }
   ],
   "source": [
    "from tensorflow.python.client import device_lib\n",
    "device_lib.list_local_devices()"
   ]
  },
  {
   "cell_type": "code",
   "execution_count": 3,
   "id": "de37b859",
   "metadata": {},
   "outputs": [],
   "source": [
    "def reduce_mem(df: pd.DataFrame):\n",
    "    \"This method reduces memory for numeric columns in the dataframe\";\n",
    "\n",
    "    numerics = ['int16', 'int32', 'int64', 'float16', 'float32', 'float64', \"uint16\", \"uint32\", \"uint64\"];\n",
    "    start_mem = df.memory_usage().sum() / 1024**2;\n",
    "\n",
    "    for col in df.columns:\n",
    "        col_type = df[col].dtypes\n",
    "\n",
    "        if col_type in numerics:\n",
    "            c_min = df[col].min();\n",
    "            c_max = df[col].max();\n",
    "\n",
    "            if \"int\" in str(col_type):\n",
    "                if c_min >= np.iinfo(np.int8).min and c_max < np.iinfo(np.int8).max:\n",
    "                    df[col] = df[col].astype(np.int8)\n",
    "                elif c_min >= np.iinfo(np.int16).min and c_max < np.iinfo(np.int16).max:\n",
    "                    df[col] = df[col].astype(np.int16)\n",
    "                elif c_min >= np.iinfo(np.int32).min and c_max < np.iinfo(np.int32).max:\n",
    "                    df[col] = df[col].astype(np.int32)\n",
    "                elif c_min >= np.iinfo(np.int64).min and c_max < np.iinfo(np.int64).max:\n",
    "                    df[col] = df[col].astype(np.int64)  \n",
    "            else:\n",
    "                if c_min >= np.finfo(np.float16).min and c_max < np.finfo(np.float16).max:\n",
    "                    df[col] = df[col].astype(np.float16)\n",
    "                if c_min >= np.finfo(np.float32).min and c_max < np.finfo(np.float32).max:\n",
    "                    df[col] = df[col].astype(np.float32)\n",
    "                else:\n",
    "                    df[col] = df[col].astype(np.float64)  \n",
    "\n",
    "    end_mem = df.memory_usage().sum() / 1024**2\n",
    "\n",
    "    print(f\"Start - end memory:- {start_mem:5.2f} - {end_mem:5.2f} Mb\");\n",
    "    return df;"
   ]
  },
  {
   "cell_type": "code",
   "execution_count": 4,
   "id": "38d6331c",
   "metadata": {},
   "outputs": [],
   "source": [
    "def my_seed_everywhere(seed: int = 42):\n",
    "    random.seed(seed) # random\n",
    "    np.random.seed(seed) # np\n",
    "    os.environ[\"PYTHONHASHSEED\"] = str(seed) # os\n",
    "    tf.random.set_seed(seed) # tensorflow\n",
    "\n",
    "my_seed = 42\n",
    "my_seed_everywhere(my_seed)"
   ]
  },
  {
   "cell_type": "code",
   "execution_count": 6,
   "id": "ae2a45fa",
   "metadata": {},
   "outputs": [],
   "source": [
    "train = pd.read_csv(\"./playground-series-s4e7/train.csv\")\n",
    "target = pd.read_csv(\"./playground-series-s4e7/test.csv\")"
   ]
  },
  {
   "cell_type": "code",
   "execution_count": 7,
   "id": "8272b063",
   "metadata": {},
   "outputs": [
    {
     "name": "stdout",
     "output_type": "stream",
     "text": [
      "Examples:\n",
      "    Total: 11504798\n",
      "    Positive: 1415059 (12.30% of total)\n",
      "\n"
     ]
    }
   ],
   "source": [
    "neg, pos = np.bincount(train['Response'])\n",
    "total = neg + pos\n",
    "print('Examples:\\n    Total: {}\\n    Positive: {} ({:.2f}% of total)\\n'.format(\n",
    "    total, pos, 100 * pos / total))"
   ]
  },
  {
   "cell_type": "code",
   "execution_count": 8,
   "id": "efc483d3",
   "metadata": {},
   "outputs": [],
   "source": [
    "category_columns = train.select_dtypes(include=\"object\").columns\n",
    "category_columns = category_columns.tolist()\n",
    "\n",
    "def label_encoding(df):\n",
    "    # Instance of LabelEncoder\n",
    "    label_encoders = {col: LabelEncoder() for col in category_columns}\n",
    "\n",
    "    # Label Encoding\n",
    "    for col in category_columns:\n",
    "        df[col] = label_encoders[col].fit_transform(df[col])\n",
    "\n",
    "label_encoding(train)"
   ]
  },
  {
   "cell_type": "code",
   "execution_count": 9,
   "id": "7ee9511c",
   "metadata": {},
   "outputs": [],
   "source": [
    "category_columns = target.select_dtypes(include=\"object\").columns\n",
    "category_columns = category_columns.tolist()\n",
    "\n",
    "def label_encoding(df):\n",
    "    # Instance of LabelEncoder\n",
    "    label_encoders = {col: LabelEncoder() for col in category_columns}\n",
    "\n",
    "    # Label Encoding\n",
    "    for col in category_columns:\n",
    "        df[col] = label_encoders[col].fit_transform(df[col])\n",
    "\n",
    "label_encoding(target)"
   ]
  },
  {
   "cell_type": "code",
   "execution_count": 10,
   "id": "d94a3b52",
   "metadata": {},
   "outputs": [],
   "source": [
    "train = train.drop(columns=['id'])\n",
    "target = target.drop(columns=['id'])"
   ]
  },
  {
   "cell_type": "code",
   "execution_count": 11,
   "id": "1f4e4c57",
   "metadata": {},
   "outputs": [
    {
     "data": {
      "text/html": [
       "<div>\n",
       "<style scoped>\n",
       "    .dataframe tbody tr th:only-of-type {\n",
       "        vertical-align: middle;\n",
       "    }\n",
       "\n",
       "    .dataframe tbody tr th {\n",
       "        vertical-align: top;\n",
       "    }\n",
       "\n",
       "    .dataframe thead th {\n",
       "        text-align: right;\n",
       "    }\n",
       "</style>\n",
       "<table border=\"1\" class=\"dataframe\">\n",
       "  <thead>\n",
       "    <tr style=\"text-align: right;\">\n",
       "      <th></th>\n",
       "      <th>Gender</th>\n",
       "      <th>Age</th>\n",
       "      <th>Driving_License</th>\n",
       "      <th>Region_Code</th>\n",
       "      <th>Previously_Insured</th>\n",
       "      <th>Vehicle_Age</th>\n",
       "      <th>Vehicle_Damage</th>\n",
       "      <th>Annual_Premium</th>\n",
       "      <th>Policy_Sales_Channel</th>\n",
       "      <th>Vintage</th>\n",
       "    </tr>\n",
       "  </thead>\n",
       "  <tbody>\n",
       "    <tr>\n",
       "      <th>0</th>\n",
       "      <td>0</td>\n",
       "      <td>20</td>\n",
       "      <td>1</td>\n",
       "      <td>47.0</td>\n",
       "      <td>0</td>\n",
       "      <td>1</td>\n",
       "      <td>0</td>\n",
       "      <td>2630.0</td>\n",
       "      <td>160.0</td>\n",
       "      <td>228</td>\n",
       "    </tr>\n",
       "    <tr>\n",
       "      <th>1</th>\n",
       "      <td>1</td>\n",
       "      <td>47</td>\n",
       "      <td>1</td>\n",
       "      <td>28.0</td>\n",
       "      <td>0</td>\n",
       "      <td>0</td>\n",
       "      <td>1</td>\n",
       "      <td>37483.0</td>\n",
       "      <td>124.0</td>\n",
       "      <td>123</td>\n",
       "    </tr>\n",
       "    <tr>\n",
       "      <th>2</th>\n",
       "      <td>1</td>\n",
       "      <td>47</td>\n",
       "      <td>1</td>\n",
       "      <td>43.0</td>\n",
       "      <td>0</td>\n",
       "      <td>0</td>\n",
       "      <td>1</td>\n",
       "      <td>2630.0</td>\n",
       "      <td>26.0</td>\n",
       "      <td>271</td>\n",
       "    </tr>\n",
       "    <tr>\n",
       "      <th>3</th>\n",
       "      <td>0</td>\n",
       "      <td>22</td>\n",
       "      <td>1</td>\n",
       "      <td>47.0</td>\n",
       "      <td>1</td>\n",
       "      <td>1</td>\n",
       "      <td>0</td>\n",
       "      <td>24502.0</td>\n",
       "      <td>152.0</td>\n",
       "      <td>115</td>\n",
       "    </tr>\n",
       "    <tr>\n",
       "      <th>4</th>\n",
       "      <td>1</td>\n",
       "      <td>51</td>\n",
       "      <td>1</td>\n",
       "      <td>19.0</td>\n",
       "      <td>0</td>\n",
       "      <td>0</td>\n",
       "      <td>0</td>\n",
       "      <td>34115.0</td>\n",
       "      <td>124.0</td>\n",
       "      <td>148</td>\n",
       "    </tr>\n",
       "    <tr>\n",
       "      <th>...</th>\n",
       "      <td>...</td>\n",
       "      <td>...</td>\n",
       "      <td>...</td>\n",
       "      <td>...</td>\n",
       "      <td>...</td>\n",
       "      <td>...</td>\n",
       "      <td>...</td>\n",
       "      <td>...</td>\n",
       "      <td>...</td>\n",
       "      <td>...</td>\n",
       "    </tr>\n",
       "    <tr>\n",
       "      <th>7669861</th>\n",
       "      <td>1</td>\n",
       "      <td>57</td>\n",
       "      <td>1</td>\n",
       "      <td>28.0</td>\n",
       "      <td>0</td>\n",
       "      <td>0</td>\n",
       "      <td>1</td>\n",
       "      <td>51661.0</td>\n",
       "      <td>124.0</td>\n",
       "      <td>109</td>\n",
       "    </tr>\n",
       "    <tr>\n",
       "      <th>7669862</th>\n",
       "      <td>1</td>\n",
       "      <td>28</td>\n",
       "      <td>1</td>\n",
       "      <td>50.0</td>\n",
       "      <td>1</td>\n",
       "      <td>1</td>\n",
       "      <td>0</td>\n",
       "      <td>25651.0</td>\n",
       "      <td>152.0</td>\n",
       "      <td>184</td>\n",
       "    </tr>\n",
       "    <tr>\n",
       "      <th>7669863</th>\n",
       "      <td>1</td>\n",
       "      <td>47</td>\n",
       "      <td>1</td>\n",
       "      <td>33.0</td>\n",
       "      <td>1</td>\n",
       "      <td>0</td>\n",
       "      <td>0</td>\n",
       "      <td>2630.0</td>\n",
       "      <td>138.0</td>\n",
       "      <td>63</td>\n",
       "    </tr>\n",
       "    <tr>\n",
       "      <th>7669864</th>\n",
       "      <td>1</td>\n",
       "      <td>30</td>\n",
       "      <td>1</td>\n",
       "      <td>28.0</td>\n",
       "      <td>0</td>\n",
       "      <td>1</td>\n",
       "      <td>1</td>\n",
       "      <td>38866.0</td>\n",
       "      <td>124.0</td>\n",
       "      <td>119</td>\n",
       "    </tr>\n",
       "    <tr>\n",
       "      <th>7669865</th>\n",
       "      <td>1</td>\n",
       "      <td>23</td>\n",
       "      <td>1</td>\n",
       "      <td>46.0</td>\n",
       "      <td>1</td>\n",
       "      <td>1</td>\n",
       "      <td>0</td>\n",
       "      <td>27498.0</td>\n",
       "      <td>152.0</td>\n",
       "      <td>79</td>\n",
       "    </tr>\n",
       "  </tbody>\n",
       "</table>\n",
       "<p>7669866 rows × 10 columns</p>\n",
       "</div>"
      ],
      "text/plain": [
       "         Gender  Age  Driving_License  Region_Code  Previously_Insured  \\\n",
       "0             0   20                1         47.0                   0   \n",
       "1             1   47                1         28.0                   0   \n",
       "2             1   47                1         43.0                   0   \n",
       "3             0   22                1         47.0                   1   \n",
       "4             1   51                1         19.0                   0   \n",
       "...         ...  ...              ...          ...                 ...   \n",
       "7669861       1   57                1         28.0                   0   \n",
       "7669862       1   28                1         50.0                   1   \n",
       "7669863       1   47                1         33.0                   1   \n",
       "7669864       1   30                1         28.0                   0   \n",
       "7669865       1   23                1         46.0                   1   \n",
       "\n",
       "         Vehicle_Age  Vehicle_Damage  Annual_Premium  Policy_Sales_Channel  \\\n",
       "0                  1               0          2630.0                 160.0   \n",
       "1                  0               1         37483.0                 124.0   \n",
       "2                  0               1          2630.0                  26.0   \n",
       "3                  1               0         24502.0                 152.0   \n",
       "4                  0               0         34115.0                 124.0   \n",
       "...              ...             ...             ...                   ...   \n",
       "7669861            0               1         51661.0                 124.0   \n",
       "7669862            1               0         25651.0                 152.0   \n",
       "7669863            0               0          2630.0                 138.0   \n",
       "7669864            1               1         38866.0                 124.0   \n",
       "7669865            1               0         27498.0                 152.0   \n",
       "\n",
       "         Vintage  \n",
       "0            228  \n",
       "1            123  \n",
       "2            271  \n",
       "3            115  \n",
       "4            148  \n",
       "...          ...  \n",
       "7669861      109  \n",
       "7669862      184  \n",
       "7669863       63  \n",
       "7669864      119  \n",
       "7669865       79  \n",
       "\n",
       "[7669866 rows x 10 columns]"
      ]
     },
     "execution_count": 11,
     "metadata": {},
     "output_type": "execute_result"
    }
   ],
   "source": [
    "target"
   ]
  },
  {
   "cell_type": "code",
   "execution_count": 12,
   "id": "91008bea",
   "metadata": {},
   "outputs": [
    {
     "name": "stdout",
     "output_type": "stream",
     "text": [
      "Start - end memory:- 833.86 - 230.41 Mb\n",
      "Start - end memory:- 497.39 - 146.29 Mb\n"
     ]
    }
   ],
   "source": [
    "train = reduce_mem(train)\n",
    "target = reduce_mem(target)"
   ]
  },
  {
   "cell_type": "code",
   "execution_count": 13,
   "id": "75bfe93c",
   "metadata": {},
   "outputs": [],
   "source": [
    "# Use a utility from sklearn to split and shuffle your dataset.\n",
    "train_df, test_df = train_test_split(train, test_size=0.2)\n",
    "train_df, val_df = train_test_split(train_df, test_size=0.2)\n",
    "\n",
    "# Form np arrays of labels and features.\n",
    "train_labels = np.array(train_df.pop('Response'))\n",
    "bool_train_labels = train_labels != 0\n",
    "val_labels = np.array(val_df.pop('Response'))\n",
    "test_labels = np.array(test_df.pop('Response'))\n",
    "\n",
    "train_features = np.array(train_df)\n",
    "val_features = np.array(val_df)\n",
    "test_features = np.array(test_df)"
   ]
  },
  {
   "cell_type": "code",
   "execution_count": 14,
   "id": "c59ca44e",
   "metadata": {},
   "outputs": [
    {
     "name": "stderr",
     "output_type": "stream",
     "text": [
      "C:\\Users\\OSY\\anaconda3\\envs\\osy\\lib\\site-packages\\sklearn\\base.py:432: UserWarning: X has feature names, but StandardScaler was fitted without feature names\n",
      "  warnings.warn(\n"
     ]
    },
    {
     "name": "stdout",
     "output_type": "stream",
     "text": [
      "Training labels shape: (7363070,)\n",
      "Validation labels shape: (1840768,)\n",
      "Test labels shape: (2300960,)\n",
      "Training features shape: (7363070, 10)\n",
      "Validation features shape: (1840768, 10)\n",
      "Test features shape: (2300960, 10)\n",
      "Target features shape: (7669866, 10)\n"
     ]
    }
   ],
   "source": [
    "scaler = StandardScaler()\n",
    "train_features = scaler.fit_transform(train_features)\n",
    "\n",
    "val_features = scaler.transform(val_features)\n",
    "test_features = scaler.transform(test_features)\n",
    "target_features = scaler.transform(target)\n",
    "\n",
    "train_features = np.clip(train_features, -5, 5)\n",
    "val_features = np.clip(val_features, -5, 5)\n",
    "test_features = np.clip(test_features, -5, 5)\n",
    "\n",
    "\n",
    "print('Training labels shape:', train_labels.shape)\n",
    "print('Validation labels shape:', val_labels.shape)\n",
    "print('Test labels shape:', test_labels.shape)\n",
    "\n",
    "print('Training features shape:', train_features.shape)\n",
    "print('Validation features shape:', val_features.shape)\n",
    "print('Test features shape:', test_features.shape)\n",
    "print('Target features shape:', target_features.shape)"
   ]
  },
  {
   "cell_type": "code",
   "execution_count": 15,
   "id": "0ad2d502",
   "metadata": {},
   "outputs": [],
   "source": [
    "# Define the metrics\n",
    "METRICS = [\n",
    "    keras.metrics.TruePositives(name='tp'),\n",
    "    keras.metrics.FalsePositives(name='fp'),\n",
    "    keras.metrics.TrueNegatives(name='tn'),\n",
    "    keras.metrics.FalseNegatives(name='fn'),\n",
    "    keras.metrics.BinaryAccuracy(name='accuracy'),\n",
    "    keras.metrics.Precision(name='precision'),\n",
    "    keras.metrics.Recall(name='recall'),\n",
    "    keras.metrics.AUC(name='auc'),\n",
    "    keras.metrics.AUC(name='prc', curve='PR'),  # precision-recall curve\n",
    "]\n",
    "def make_model(metrics=METRICS, output_bias=None):\n",
    "    if output_bias is not None:\n",
    "        output_bias = tf.keras.initializers.Constant(output_bias)\n",
    "    \n",
    "    model = keras.Sequential([\n",
    "    keras.layers.Dense(16, activation='relu', input_shape=(train_features.shape[-1],)),\n",
    "    \n",
    "    # 두 번째 은닉층: 12개의 뉴런, ReLU 활성화 함수\n",
    "    keras.layers.Dense(12, activation='relu'),\n",
    "    \n",
    "    # 드롭아웃 레이어: 50%의 뉴런을 랜덤하게 비활성화\n",
    "    keras.layers.Dropout(0.5),\n",
    "    \n",
    "    # 세 번째 은닉층: 8개의 뉴런, ReLU 활성화 함수\n",
    "    keras.layers.Dense(8, activation='relu'),\n",
    "    \n",
    "    # 출력층: 1개의 뉴런, 시그모이드 활성화 함수, 바이어스 초기화\n",
    "    keras.layers.Dense(1, activation='sigmoid', bias_initializer=output_bias),\n",
    "    ])\n",
    "\n",
    "    model.compile(\n",
    "        optimizer=keras.optimizers.Adam(learning_rate=1e-3),\n",
    "        loss=keras.losses.BinaryCrossentropy(),\n",
    "        metrics=metrics\n",
    "    )\n",
    "\n",
    "    return model"
   ]
  },
  {
   "cell_type": "code",
   "execution_count": 16,
   "id": "aad85ee7",
   "metadata": {},
   "outputs": [],
   "source": [
    "EPOCHS = 100\n",
    "BATCH_SIZE = 2048\n",
    "\n",
    "early_stopping = tf.keras.callbacks.EarlyStopping(\n",
    "    monitor='val_prc', \n",
    "    verbose=1,\n",
    "    patience=10,\n",
    "    mode='max',\n",
    "    restore_best_weights=True)"
   ]
  },
  {
   "cell_type": "code",
   "execution_count": 17,
   "id": "91721c98",
   "metadata": {},
   "outputs": [],
   "source": [
    "pos_features = train_features[bool_train_labels]\n",
    "neg_features = train_features[~bool_train_labels]\n",
    "\n",
    "pos_labels = train_labels[bool_train_labels]\n",
    "neg_labels = train_labels[~bool_train_labels]"
   ]
  },
  {
   "cell_type": "code",
   "execution_count": 18,
   "id": "6a05bdfd",
   "metadata": {},
   "outputs": [
    {
     "data": {
      "text/plain": [
       "(6457618, 10)"
      ]
     },
     "execution_count": 18,
     "metadata": {},
     "output_type": "execute_result"
    }
   ],
   "source": [
    "ids = np.arange(len(pos_features))\n",
    "choices = np.random.choice(ids, len(neg_features))\n",
    "\n",
    "res_pos_features = pos_features[choices]\n",
    "res_pos_labels = pos_labels[choices]\n",
    "\n",
    "res_pos_features.shape"
   ]
  },
  {
   "cell_type": "code",
   "execution_count": 19,
   "id": "c8ec5821",
   "metadata": {},
   "outputs": [
    {
     "data": {
      "text/plain": [
       "(12915236, 10)"
      ]
     },
     "execution_count": 19,
     "metadata": {},
     "output_type": "execute_result"
    }
   ],
   "source": [
    "resampled_features = np.concatenate([res_pos_features, neg_features], axis=0)\n",
    "resampled_labels = np.concatenate([res_pos_labels, neg_labels], axis=0)\n",
    "\n",
    "order = np.arange(len(resampled_labels))\n",
    "np.random.shuffle(order)\n",
    "resampled_features = resampled_features[order]\n",
    "resampled_labels = resampled_labels[order]\n",
    "\n",
    "resampled_features.shape"
   ]
  },
  {
   "cell_type": "code",
   "execution_count": 20,
   "id": "95d04af7",
   "metadata": {},
   "outputs": [],
   "source": [
    "BUFFER_SIZE = 100000\n",
    "\n",
    "def make_ds(features, labels):\n",
    "    ds = tf.data.Dataset.from_tensor_slices((features, labels))#.cache()\n",
    "    ds = ds.shuffle(BUFFER_SIZE).repeat()\n",
    "    return ds\n",
    "\n",
    "pos_ds = make_ds(pos_features, pos_labels)\n",
    "neg_ds = make_ds(neg_features, neg_labels)"
   ]
  },
  {
   "cell_type": "code",
   "execution_count": 21,
   "id": "48d5c7cc",
   "metadata": {},
   "outputs": [
    {
     "name": "stdout",
     "output_type": "stream",
     "text": [
      "Features:\n",
      " [ 0.9202957   0.57515174  0.04449861  0.27560756 -0.9281243  -0.9046776\n",
      "  0.99428636 -1.6898099   0.21376617 -1.4619182 ]\n",
      "\n",
      "Label:  1\n"
     ]
    }
   ],
   "source": [
    "for features, label in pos_ds.take(1):\n",
    "    print(\"Features:\\n\", features.numpy())\n",
    "    print()\n",
    "    print(\"Label: \", label.numpy())"
   ]
  },
  {
   "cell_type": "code",
   "execution_count": 22,
   "id": "29b1bb73",
   "metadata": {},
   "outputs": [],
   "source": [
    "resampled_ds = tf.data.Dataset.sample_from_datasets([pos_ds, neg_ds], weights=[0.5, 0.5])\n",
    "resampled_ds = resampled_ds.batch(BATCH_SIZE).prefetch(2)"
   ]
  },
  {
   "cell_type": "code",
   "execution_count": 23,
   "id": "ff485e3f",
   "metadata": {},
   "outputs": [
    {
     "name": "stdout",
     "output_type": "stream",
     "text": [
      "0.50830078125\n"
     ]
    }
   ],
   "source": [
    "for features, label in resampled_ds.take(1):\n",
    "    print(label.numpy().mean())"
   ]
  },
  {
   "cell_type": "code",
   "execution_count": 24,
   "id": "bf929273",
   "metadata": {},
   "outputs": [
    {
     "data": {
      "text/plain": [
       "9854.0"
      ]
     },
     "execution_count": 24,
     "metadata": {},
     "output_type": "execute_result"
    }
   ],
   "source": [
    "resampled_steps_per_epoch = np.ceil(2.0*neg/BATCH_SIZE)\n",
    "resampled_steps_per_epoch"
   ]
  },
  {
   "cell_type": "code",
   "execution_count": 25,
   "id": "f3053c2b",
   "metadata": {},
   "outputs": [],
   "source": [
    "resampled_model = make_model()"
   ]
  },
  {
   "cell_type": "code",
   "execution_count": 26,
   "id": "b770323d",
   "metadata": {},
   "outputs": [
    {
     "name": "stdout",
     "output_type": "stream",
     "text": [
      "Model: \"sequential\"\n",
      "_________________________________________________________________\n",
      " Layer (type)                Output Shape              Param #   \n",
      "=================================================================\n",
      " dense (Dense)               (None, 16)                176       \n",
      "                                                                 \n",
      " dense_1 (Dense)             (None, 12)                204       \n",
      "                                                                 \n",
      " dropout (Dropout)           (None, 12)                0         \n",
      "                                                                 \n",
      " dense_2 (Dense)             (None, 8)                 104       \n",
      "                                                                 \n",
      " dense_3 (Dense)             (None, 1)                 9         \n",
      "                                                                 \n",
      "=================================================================\n",
      "Total params: 493\n",
      "Trainable params: 493\n",
      "Non-trainable params: 0\n",
      "_________________________________________________________________\n"
     ]
    }
   ],
   "source": [
    "resampled_model.summary()"
   ]
  },
  {
   "cell_type": "code",
   "execution_count": 27,
   "id": "067aa4d6",
   "metadata": {
    "scrolled": true
   },
   "outputs": [
    {
     "name": "stdout",
     "output_type": "stream",
     "text": [
      "1/1 [==============================] - 2s 2s/step\n"
     ]
    },
    {
     "data": {
      "text/plain": [
       "array([[0.88937527],\n",
       "       [0.8931116 ],\n",
       "       [0.90248084],\n",
       "       [0.94258714],\n",
       "       [0.87929577],\n",
       "       [0.8821278 ],\n",
       "       [0.88500327],\n",
       "       [0.9293072 ],\n",
       "       [0.88992506],\n",
       "       [0.92086816]], dtype=float32)"
      ]
     },
     "execution_count": 27,
     "metadata": {},
     "output_type": "execute_result"
    }
   ],
   "source": [
    "resampled_model.predict(train_features[:10])"
   ]
  },
  {
   "cell_type": "code",
   "execution_count": 28,
   "id": "b700ea34",
   "metadata": {},
   "outputs": [
    {
     "name": "stdout",
     "output_type": "stream",
     "text": [
      "Loss: 2.1216\n"
     ]
    }
   ],
   "source": [
    "results = resampled_model.evaluate(train_features, train_labels, batch_size=BATCH_SIZE, verbose=0)\n",
    "print(\"Loss: {:0.4f}\".format(results[0]))"
   ]
  },
  {
   "cell_type": "code",
   "execution_count": 29,
   "id": "ccbf52a9",
   "metadata": {},
   "outputs": [
    {
     "data": {
      "text/plain": [
       "array([-1.96434774])"
      ]
     },
     "execution_count": 29,
     "metadata": {},
     "output_type": "execute_result"
    }
   ],
   "source": [
    "initial_bias = np.log([pos/neg])\n",
    "initial_bias"
   ]
  },
  {
   "cell_type": "code",
   "execution_count": 30,
   "id": "c332e1f9",
   "metadata": {},
   "outputs": [
    {
     "name": "stdout",
     "output_type": "stream",
     "text": [
      "1/1 [==============================] - 0s 77ms/step\n"
     ]
    },
    {
     "data": {
      "text/plain": [
       "array([[0.17884915],\n",
       "       [0.14621922],\n",
       "       [0.17297141],\n",
       "       [0.21432428],\n",
       "       [0.25864837],\n",
       "       [0.15943715],\n",
       "       [0.16320243],\n",
       "       [0.1559958 ],\n",
       "       [0.19637148],\n",
       "       [0.3861751 ]], dtype=float32)"
      ]
     },
     "execution_count": 30,
     "metadata": {},
     "output_type": "execute_result"
    }
   ],
   "source": [
    "resampled_model = make_model(output_bias=initial_bias)\n",
    "resampled_model.predict(train_features[:10])"
   ]
  },
  {
   "cell_type": "code",
   "execution_count": 31,
   "id": "c77aa788",
   "metadata": {},
   "outputs": [
    {
     "name": "stdout",
     "output_type": "stream",
     "text": [
      "Loss: 0.4105\n"
     ]
    }
   ],
   "source": [
    "results = resampled_model.evaluate(train_features, train_labels, batch_size=BATCH_SIZE, verbose=0)\n",
    "print(\"Loss: {:0.4f}\".format(results[0]))"
   ]
  },
  {
   "cell_type": "code",
   "execution_count": 33,
   "id": "b2f4be94",
   "metadata": {},
   "outputs": [],
   "source": [
    "initial_weights = os.path.join(tempfile.mkdtemp(), 'initial_weights')\n",
    "resampled_model.save_weights(initial_weights)"
   ]
  },
  {
   "cell_type": "code",
   "execution_count": 34,
   "id": "a29da903",
   "metadata": {},
   "outputs": [
    {
     "name": "stdout",
     "output_type": "stream",
     "text": [
      "Weight for class 0: 0.57\n",
      "Weight for class 1: 4.07\n"
     ]
    }
   ],
   "source": [
    "weight_for_0 = (1 / neg) * (total / 2.0)\n",
    "weight_for_1 = (1 / pos) * (total / 2.0)\n",
    "\n",
    "class_weight = {0: weight_for_0, 1: weight_for_1}\n",
    "\n",
    "print('Weight for class 0: {:.2f}'.format(weight_for_0))\n",
    "print('Weight for class 1: {:.2f}'.format(weight_for_1))"
   ]
  },
  {
   "cell_type": "code",
   "execution_count": 35,
   "id": "8c37518d",
   "metadata": {},
   "outputs": [
    {
     "name": "stdout",
     "output_type": "stream",
     "text": [
      "Epoch 1/100\n",
      "9854/9854 [==============================] - 133s 13ms/step - loss: 0.4331 - tp: 9278247.0000 - fp: 3406408.0000 - tn: 6683918.0000 - fn: 812419.0000 - accuracy: 0.7910 - precision: 0.7315 - recall: 0.9195 - auc: 0.8480 - prc: 0.7890 - val_loss: 0.3567 - val_tp: 186289.0000 - val_fp: 405617.0000 - val_tn: 1208728.0000 - val_fn: 40134.0000 - val_accuracy: 0.7578 - val_precision: 0.3147 - val_recall: 0.8227 - val_auc: 0.8561 - val_prc: 0.3647\n",
      "Epoch 2/100\n",
      "9854/9854 [==============================] - 133s 14ms/step - loss: 0.4242 - tp: 9201900.0000 - fp: 3230227.0000 - tn: 6858428.0000 - fn: 890437.0000 - accuracy: 0.7958 - precision: 0.7402 - recall: 0.9118 - auc: 0.8535 - prc: 0.7966 - val_loss: 0.3415 - val_tp: 152953.0000 - val_fp: 296468.0000 - val_tn: 1317877.0000 - val_fn: 73470.0000 - val_accuracy: 0.7990 - val_precision: 0.3403 - val_recall: 0.6755 - val_auc: 0.8565 - val_prc: 0.3656\n",
      "Epoch 3/100\n",
      " 681/9854 [=>............................] - ETA: 2:01 - loss: 0.4246 - tp: 636796.0000 - fp: 225282.0000 - tn: 472327.0000 - fn: 60283.0000 - accuracy: 0.7952 - precision: 0.7387 - recall: 0.9135 - auc: 0.8531 - prc: 0.7961"
     ]
    },
    {
     "ename": "KeyboardInterrupt",
     "evalue": "",
     "output_type": "error",
     "traceback": [
      "\u001b[1;31m---------------------------------------------------------------------------\u001b[0m",
      "\u001b[1;31mKeyboardInterrupt\u001b[0m                         Traceback (most recent call last)",
      "\u001b[1;32m~\\AppData\\Local\\Temp\\ipykernel_7232\\1249093506.py\u001b[0m in \u001b[0;36m<cell line: 1>\u001b[1;34m()\u001b[0m\n\u001b[0;32m      9\u001b[0m     \u001b[0mval_ds\u001b[0m \u001b[1;33m=\u001b[0m \u001b[0mval_ds\u001b[0m\u001b[1;33m.\u001b[0m\u001b[0mbatch\u001b[0m\u001b[1;33m(\u001b[0m\u001b[0mBATCH_SIZE\u001b[0m\u001b[1;33m)\u001b[0m\u001b[1;33m.\u001b[0m\u001b[0mprefetch\u001b[0m\u001b[1;33m(\u001b[0m\u001b[1;36m2\u001b[0m\u001b[1;33m)\u001b[0m\u001b[1;33m\u001b[0m\u001b[1;33m\u001b[0m\u001b[0m\n\u001b[0;32m     10\u001b[0m \u001b[1;33m\u001b[0m\u001b[0m\n\u001b[1;32m---> 11\u001b[1;33m     resampled_history = resampled_model.fit(\n\u001b[0m\u001b[0;32m     12\u001b[0m         \u001b[0mresampled_ds\u001b[0m\u001b[1;33m,\u001b[0m\u001b[1;33m\u001b[0m\u001b[1;33m\u001b[0m\u001b[0m\n\u001b[0;32m     13\u001b[0m         \u001b[0mepochs\u001b[0m\u001b[1;33m=\u001b[0m\u001b[0mEPOCHS\u001b[0m\u001b[1;33m,\u001b[0m\u001b[1;33m\u001b[0m\u001b[1;33m\u001b[0m\u001b[0m\n",
      "\u001b[1;32m~\\anaconda3\\envs\\osy\\lib\\site-packages\\keras\\utils\\traceback_utils.py\u001b[0m in \u001b[0;36merror_handler\u001b[1;34m(*args, **kwargs)\u001b[0m\n\u001b[0;32m     63\u001b[0m         \u001b[0mfiltered_tb\u001b[0m \u001b[1;33m=\u001b[0m \u001b[1;32mNone\u001b[0m\u001b[1;33m\u001b[0m\u001b[1;33m\u001b[0m\u001b[0m\n\u001b[0;32m     64\u001b[0m         \u001b[1;32mtry\u001b[0m\u001b[1;33m:\u001b[0m\u001b[1;33m\u001b[0m\u001b[1;33m\u001b[0m\u001b[0m\n\u001b[1;32m---> 65\u001b[1;33m             \u001b[1;32mreturn\u001b[0m \u001b[0mfn\u001b[0m\u001b[1;33m(\u001b[0m\u001b[1;33m*\u001b[0m\u001b[0margs\u001b[0m\u001b[1;33m,\u001b[0m \u001b[1;33m**\u001b[0m\u001b[0mkwargs\u001b[0m\u001b[1;33m)\u001b[0m\u001b[1;33m\u001b[0m\u001b[1;33m\u001b[0m\u001b[0m\n\u001b[0m\u001b[0;32m     66\u001b[0m         \u001b[1;32mexcept\u001b[0m \u001b[0mException\u001b[0m \u001b[1;32mas\u001b[0m \u001b[0me\u001b[0m\u001b[1;33m:\u001b[0m\u001b[1;33m\u001b[0m\u001b[1;33m\u001b[0m\u001b[0m\n\u001b[0;32m     67\u001b[0m             \u001b[0mfiltered_tb\u001b[0m \u001b[1;33m=\u001b[0m \u001b[0m_process_traceback_frames\u001b[0m\u001b[1;33m(\u001b[0m\u001b[0me\u001b[0m\u001b[1;33m.\u001b[0m\u001b[0m__traceback__\u001b[0m\u001b[1;33m)\u001b[0m\u001b[1;33m\u001b[0m\u001b[1;33m\u001b[0m\u001b[0m\n",
      "\u001b[1;32m~\\anaconda3\\envs\\osy\\lib\\site-packages\\keras\\engine\\training.py\u001b[0m in \u001b[0;36mfit\u001b[1;34m(self, x, y, batch_size, epochs, verbose, callbacks, validation_split, validation_data, shuffle, class_weight, sample_weight, initial_epoch, steps_per_epoch, validation_steps, validation_batch_size, validation_freq, max_queue_size, workers, use_multiprocessing)\u001b[0m\n\u001b[0;32m   1562\u001b[0m                         ):\n\u001b[0;32m   1563\u001b[0m                             \u001b[0mcallbacks\u001b[0m\u001b[1;33m.\u001b[0m\u001b[0mon_train_batch_begin\u001b[0m\u001b[1;33m(\u001b[0m\u001b[0mstep\u001b[0m\u001b[1;33m)\u001b[0m\u001b[1;33m\u001b[0m\u001b[1;33m\u001b[0m\u001b[0m\n\u001b[1;32m-> 1564\u001b[1;33m                             \u001b[0mtmp_logs\u001b[0m \u001b[1;33m=\u001b[0m \u001b[0mself\u001b[0m\u001b[1;33m.\u001b[0m\u001b[0mtrain_function\u001b[0m\u001b[1;33m(\u001b[0m\u001b[0miterator\u001b[0m\u001b[1;33m)\u001b[0m\u001b[1;33m\u001b[0m\u001b[1;33m\u001b[0m\u001b[0m\n\u001b[0m\u001b[0;32m   1565\u001b[0m                             \u001b[1;32mif\u001b[0m \u001b[0mdata_handler\u001b[0m\u001b[1;33m.\u001b[0m\u001b[0mshould_sync\u001b[0m\u001b[1;33m:\u001b[0m\u001b[1;33m\u001b[0m\u001b[1;33m\u001b[0m\u001b[0m\n\u001b[0;32m   1566\u001b[0m                                 \u001b[0mcontext\u001b[0m\u001b[1;33m.\u001b[0m\u001b[0masync_wait\u001b[0m\u001b[1;33m(\u001b[0m\u001b[1;33m)\u001b[0m\u001b[1;33m\u001b[0m\u001b[1;33m\u001b[0m\u001b[0m\n",
      "\u001b[1;32m~\\anaconda3\\envs\\osy\\lib\\site-packages\\tensorflow\\python\\util\\traceback_utils.py\u001b[0m in \u001b[0;36merror_handler\u001b[1;34m(*args, **kwargs)\u001b[0m\n\u001b[0;32m    148\u001b[0m     \u001b[0mfiltered_tb\u001b[0m \u001b[1;33m=\u001b[0m \u001b[1;32mNone\u001b[0m\u001b[1;33m\u001b[0m\u001b[1;33m\u001b[0m\u001b[0m\n\u001b[0;32m    149\u001b[0m     \u001b[1;32mtry\u001b[0m\u001b[1;33m:\u001b[0m\u001b[1;33m\u001b[0m\u001b[1;33m\u001b[0m\u001b[0m\n\u001b[1;32m--> 150\u001b[1;33m       \u001b[1;32mreturn\u001b[0m \u001b[0mfn\u001b[0m\u001b[1;33m(\u001b[0m\u001b[1;33m*\u001b[0m\u001b[0margs\u001b[0m\u001b[1;33m,\u001b[0m \u001b[1;33m**\u001b[0m\u001b[0mkwargs\u001b[0m\u001b[1;33m)\u001b[0m\u001b[1;33m\u001b[0m\u001b[1;33m\u001b[0m\u001b[0m\n\u001b[0m\u001b[0;32m    151\u001b[0m     \u001b[1;32mexcept\u001b[0m \u001b[0mException\u001b[0m \u001b[1;32mas\u001b[0m \u001b[0me\u001b[0m\u001b[1;33m:\u001b[0m\u001b[1;33m\u001b[0m\u001b[1;33m\u001b[0m\u001b[0m\n\u001b[0;32m    152\u001b[0m       \u001b[0mfiltered_tb\u001b[0m \u001b[1;33m=\u001b[0m \u001b[0m_process_traceback_frames\u001b[0m\u001b[1;33m(\u001b[0m\u001b[0me\u001b[0m\u001b[1;33m.\u001b[0m\u001b[0m__traceback__\u001b[0m\u001b[1;33m)\u001b[0m\u001b[1;33m\u001b[0m\u001b[1;33m\u001b[0m\u001b[0m\n",
      "\u001b[1;32m~\\anaconda3\\envs\\osy\\lib\\site-packages\\tensorflow\\python\\eager\\def_function.py\u001b[0m in \u001b[0;36m__call__\u001b[1;34m(self, *args, **kwds)\u001b[0m\n\u001b[0;32m    913\u001b[0m \u001b[1;33m\u001b[0m\u001b[0m\n\u001b[0;32m    914\u001b[0m       \u001b[1;32mwith\u001b[0m \u001b[0mOptionalXlaContext\u001b[0m\u001b[1;33m(\u001b[0m\u001b[0mself\u001b[0m\u001b[1;33m.\u001b[0m\u001b[0m_jit_compile\u001b[0m\u001b[1;33m)\u001b[0m\u001b[1;33m:\u001b[0m\u001b[1;33m\u001b[0m\u001b[1;33m\u001b[0m\u001b[0m\n\u001b[1;32m--> 915\u001b[1;33m         \u001b[0mresult\u001b[0m \u001b[1;33m=\u001b[0m \u001b[0mself\u001b[0m\u001b[1;33m.\u001b[0m\u001b[0m_call\u001b[0m\u001b[1;33m(\u001b[0m\u001b[1;33m*\u001b[0m\u001b[0margs\u001b[0m\u001b[1;33m,\u001b[0m \u001b[1;33m**\u001b[0m\u001b[0mkwds\u001b[0m\u001b[1;33m)\u001b[0m\u001b[1;33m\u001b[0m\u001b[1;33m\u001b[0m\u001b[0m\n\u001b[0m\u001b[0;32m    916\u001b[0m \u001b[1;33m\u001b[0m\u001b[0m\n\u001b[0;32m    917\u001b[0m       \u001b[0mnew_tracing_count\u001b[0m \u001b[1;33m=\u001b[0m \u001b[0mself\u001b[0m\u001b[1;33m.\u001b[0m\u001b[0mexperimental_get_tracing_count\u001b[0m\u001b[1;33m(\u001b[0m\u001b[1;33m)\u001b[0m\u001b[1;33m\u001b[0m\u001b[1;33m\u001b[0m\u001b[0m\n",
      "\u001b[1;32m~\\anaconda3\\envs\\osy\\lib\\site-packages\\tensorflow\\python\\eager\\def_function.py\u001b[0m in \u001b[0;36m_call\u001b[1;34m(self, *args, **kwds)\u001b[0m\n\u001b[0;32m    945\u001b[0m       \u001b[1;31m# In this case we have created variables on the first call, so we run the\u001b[0m\u001b[1;33m\u001b[0m\u001b[1;33m\u001b[0m\u001b[0m\n\u001b[0;32m    946\u001b[0m       \u001b[1;31m# defunned version which is guaranteed to never create variables.\u001b[0m\u001b[1;33m\u001b[0m\u001b[1;33m\u001b[0m\u001b[0m\n\u001b[1;32m--> 947\u001b[1;33m       \u001b[1;32mreturn\u001b[0m \u001b[0mself\u001b[0m\u001b[1;33m.\u001b[0m\u001b[0m_stateless_fn\u001b[0m\u001b[1;33m(\u001b[0m\u001b[1;33m*\u001b[0m\u001b[0margs\u001b[0m\u001b[1;33m,\u001b[0m \u001b[1;33m**\u001b[0m\u001b[0mkwds\u001b[0m\u001b[1;33m)\u001b[0m  \u001b[1;31m# pylint: disable=not-callable\u001b[0m\u001b[1;33m\u001b[0m\u001b[1;33m\u001b[0m\u001b[0m\n\u001b[0m\u001b[0;32m    948\u001b[0m     \u001b[1;32melif\u001b[0m \u001b[0mself\u001b[0m\u001b[1;33m.\u001b[0m\u001b[0m_stateful_fn\u001b[0m \u001b[1;32mis\u001b[0m \u001b[1;32mnot\u001b[0m \u001b[1;32mNone\u001b[0m\u001b[1;33m:\u001b[0m\u001b[1;33m\u001b[0m\u001b[1;33m\u001b[0m\u001b[0m\n\u001b[0;32m    949\u001b[0m       \u001b[1;31m# Release the lock early so that multiple threads can perform the call\u001b[0m\u001b[1;33m\u001b[0m\u001b[1;33m\u001b[0m\u001b[0m\n",
      "\u001b[1;32m~\\anaconda3\\envs\\osy\\lib\\site-packages\\tensorflow\\python\\eager\\function.py\u001b[0m in \u001b[0;36m__call__\u001b[1;34m(self, *args, **kwargs)\u001b[0m\n\u001b[0;32m   2494\u001b[0m       (graph_function,\n\u001b[0;32m   2495\u001b[0m        filtered_flat_args) = self._maybe_define_function(args, kwargs)\n\u001b[1;32m-> 2496\u001b[1;33m     return graph_function._call_flat(\n\u001b[0m\u001b[0;32m   2497\u001b[0m         filtered_flat_args, captured_inputs=graph_function.captured_inputs)  # pylint: disable=protected-access\n\u001b[0;32m   2498\u001b[0m \u001b[1;33m\u001b[0m\u001b[0m\n",
      "\u001b[1;32m~\\anaconda3\\envs\\osy\\lib\\site-packages\\tensorflow\\python\\eager\\function.py\u001b[0m in \u001b[0;36m_call_flat\u001b[1;34m(self, args, captured_inputs, cancellation_manager)\u001b[0m\n\u001b[0;32m   1860\u001b[0m         and executing_eagerly):\n\u001b[0;32m   1861\u001b[0m       \u001b[1;31m# No tape is watching; skip to running the function.\u001b[0m\u001b[1;33m\u001b[0m\u001b[1;33m\u001b[0m\u001b[0m\n\u001b[1;32m-> 1862\u001b[1;33m       return self._build_call_outputs(self._inference_function.call(\n\u001b[0m\u001b[0;32m   1863\u001b[0m           ctx, args, cancellation_manager=cancellation_manager))\n\u001b[0;32m   1864\u001b[0m     forward_backward = self._select_forward_and_backward_functions(\n",
      "\u001b[1;32m~\\anaconda3\\envs\\osy\\lib\\site-packages\\tensorflow\\python\\eager\\function.py\u001b[0m in \u001b[0;36mcall\u001b[1;34m(self, ctx, args, cancellation_manager)\u001b[0m\n\u001b[0;32m    497\u001b[0m       \u001b[1;32mwith\u001b[0m \u001b[0m_InterpolateFunctionError\u001b[0m\u001b[1;33m(\u001b[0m\u001b[0mself\u001b[0m\u001b[1;33m)\u001b[0m\u001b[1;33m:\u001b[0m\u001b[1;33m\u001b[0m\u001b[1;33m\u001b[0m\u001b[0m\n\u001b[0;32m    498\u001b[0m         \u001b[1;32mif\u001b[0m \u001b[0mcancellation_manager\u001b[0m \u001b[1;32mis\u001b[0m \u001b[1;32mNone\u001b[0m\u001b[1;33m:\u001b[0m\u001b[1;33m\u001b[0m\u001b[1;33m\u001b[0m\u001b[0m\n\u001b[1;32m--> 499\u001b[1;33m           outputs = execute.execute(\n\u001b[0m\u001b[0;32m    500\u001b[0m               \u001b[0mstr\u001b[0m\u001b[1;33m(\u001b[0m\u001b[0mself\u001b[0m\u001b[1;33m.\u001b[0m\u001b[0msignature\u001b[0m\u001b[1;33m.\u001b[0m\u001b[0mname\u001b[0m\u001b[1;33m)\u001b[0m\u001b[1;33m,\u001b[0m\u001b[1;33m\u001b[0m\u001b[1;33m\u001b[0m\u001b[0m\n\u001b[0;32m    501\u001b[0m               \u001b[0mnum_outputs\u001b[0m\u001b[1;33m=\u001b[0m\u001b[0mself\u001b[0m\u001b[1;33m.\u001b[0m\u001b[0m_num_outputs\u001b[0m\u001b[1;33m,\u001b[0m\u001b[1;33m\u001b[0m\u001b[1;33m\u001b[0m\u001b[0m\n",
      "\u001b[1;32m~\\anaconda3\\envs\\osy\\lib\\site-packages\\tensorflow\\python\\eager\\execute.py\u001b[0m in \u001b[0;36mquick_execute\u001b[1;34m(op_name, num_outputs, inputs, attrs, ctx, name)\u001b[0m\n\u001b[0;32m     52\u001b[0m   \u001b[1;32mtry\u001b[0m\u001b[1;33m:\u001b[0m\u001b[1;33m\u001b[0m\u001b[1;33m\u001b[0m\u001b[0m\n\u001b[0;32m     53\u001b[0m     \u001b[0mctx\u001b[0m\u001b[1;33m.\u001b[0m\u001b[0mensure_initialized\u001b[0m\u001b[1;33m(\u001b[0m\u001b[1;33m)\u001b[0m\u001b[1;33m\u001b[0m\u001b[1;33m\u001b[0m\u001b[0m\n\u001b[1;32m---> 54\u001b[1;33m     tensors = pywrap_tfe.TFE_Py_Execute(ctx._handle, device_name, op_name,\n\u001b[0m\u001b[0;32m     55\u001b[0m                                         inputs, attrs, num_outputs)\n\u001b[0;32m     56\u001b[0m   \u001b[1;32mexcept\u001b[0m \u001b[0mcore\u001b[0m\u001b[1;33m.\u001b[0m\u001b[0m_NotOkStatusException\u001b[0m \u001b[1;32mas\u001b[0m \u001b[0me\u001b[0m\u001b[1;33m:\u001b[0m\u001b[1;33m\u001b[0m\u001b[1;33m\u001b[0m\u001b[0m\n",
      "\u001b[1;31mKeyboardInterrupt\u001b[0m: "
     ]
    }
   ],
   "source": [
    "with tf.device('/GPU:0'):\n",
    "    resampled_model.load_weights(initial_weights)\n",
    "\n",
    "    # Reset the bias to zero, since this dataset is balanced.\n",
    "    output_layer = resampled_model.layers[-1] \n",
    "    output_layer.bias.assign([0])\n",
    "\n",
    "    val_ds = tf.data.Dataset.from_tensor_slices((val_features, val_labels)).cache()\n",
    "    val_ds = val_ds.batch(BATCH_SIZE).prefetch(2) \n",
    "\n",
    "    resampled_history = resampled_model.fit(\n",
    "        resampled_ds,\n",
    "        epochs=EPOCHS,\n",
    "        steps_per_epoch=resampled_steps_per_epoch,\n",
    "        callbacks=[early_stopping],\n",
    "        validation_data=val_ds)"
   ]
  },
  {
   "cell_type": "code",
   "execution_count": 40,
   "id": "c6b7de3a",
   "metadata": {
    "scrolled": true
   },
   "outputs": [
    {
     "name": "stdout",
     "output_type": "stream",
     "text": [
      "Epoch 1/100\n",
      "20/20 [==============================] - 7s 271ms/step - loss: 0.7581 - tp: 28029.0000 - fp: 24190.0000 - tn: 6460.0000 - fn: 2761.0000 - accuracy: 0.5613 - precision: 0.5368 - recall: 0.9103 - auc: 0.5699 - prc: 0.5282 - val_loss: 0.8158 - val_tp: 219444.0000 - val_fp: 1515594.0000 - val_tn: 98751.0000 - val_fn: 6979.0000 - val_accuracy: 0.1729 - val_precision: 0.1265 - val_recall: 0.9692 - val_auc: 0.5492 - val_prc: 0.1303\n",
      "Epoch 2/100\n",
      "20/20 [==============================] - 5s 256ms/step - loss: 0.7030 - tp: 18527.0000 - fp: 17281.0000 - tn: 3038.0000 - fn: 2114.0000 - accuracy: 0.5265 - precision: 0.5174 - recall: 0.8976 - auc: 0.5543 - prc: 0.5364 - val_loss: 0.7491 - val_tp: 209686.0000 - val_fp: 1256728.0000 - val_tn: 357617.0000 - val_fn: 16737.0000 - val_accuracy: 0.3082 - val_precision: 0.1430 - val_recall: 0.9261 - val_auc: 0.6470 - val_prc: 0.1745\n",
      "Epoch 3/100\n",
      "20/20 [==============================] - 5s 240ms/step - loss: 0.6796 - tp: 17604.0000 - fp: 14887.0000 - tn: 5613.0000 - fn: 2856.0000 - accuracy: 0.5668 - precision: 0.5418 - recall: 0.8604 - auc: 0.6286 - prc: 0.5981 - val_loss: 0.7177 - val_tp: 206168.0000 - val_fp: 987359.0000 - val_tn: 626986.0000 - val_fn: 20255.0000 - val_accuracy: 0.4526 - val_precision: 0.1727 - val_recall: 0.9105 - val_auc: 0.7255 - val_prc: 0.2260\n",
      "Epoch 4/100\n",
      "20/20 [==============================] - 6s 310ms/step - loss: 0.6620 - tp: 17025.0000 - fp: 12355.0000 - tn: 8199.0000 - fn: 3381.0000 - accuracy: 0.6158 - precision: 0.5795 - recall: 0.8343 - auc: 0.6846 - prc: 0.6487 - val_loss: 0.6979 - val_tp: 205974.0000 - val_fp: 772814.0000 - val_tn: 841531.0000 - val_fn: 20449.0000 - val_accuracy: 0.5691 - val_precision: 0.2104 - val_recall: 0.9097 - val_auc: 0.7742 - val_prc: 0.2600\n",
      "Epoch 5/100\n",
      "20/20 [==============================] - 5s 250ms/step - loss: 0.6432 - tp: 17145.0000 - fp: 10283.0000 - tn: 10108.0000 - fn: 3424.0000 - accuracy: 0.6654 - precision: 0.6251 - recall: 0.8335 - auc: 0.7270 - prc: 0.6861 - val_loss: 0.6824 - val_tp: 207934.0000 - val_fp: 664560.0000 - val_tn: 949785.0000 - val_fn: 18489.0000 - val_accuracy: 0.6289 - val_precision: 0.2383 - val_recall: 0.9183 - val_auc: 0.7976 - val_prc: 0.2787\n",
      "Epoch 6/100\n",
      "20/20 [==============================] - 5s 245ms/step - loss: 0.6266 - tp: 17241.0000 - fp: 9309.0000 - tn: 11171.0000 - fn: 3239.0000 - accuracy: 0.6937 - precision: 0.6494 - recall: 0.8418 - auc: 0.7506 - prc: 0.7023 - val_loss: 0.6600 - val_tp: 208423.0000 - val_fp: 627419.0000 - val_tn: 986926.0000 - val_fn: 18000.0000 - val_accuracy: 0.6494 - val_precision: 0.2494 - val_recall: 0.9205 - val_auc: 0.8094 - val_prc: 0.2900\n",
      "Epoch 7/100\n",
      "20/20 [==============================] - 6s 310ms/step - loss: 0.6072 - tp: 17348.0000 - fp: 8412.0000 - tn: 12063.0000 - fn: 3137.0000 - accuracy: 0.7180 - precision: 0.6734 - recall: 0.8469 - auc: 0.7696 - prc: 0.7150 - val_loss: 0.6275 - val_tp: 210705.0000 - val_fp: 613218.0000 - val_tn: 1001127.0000 - val_fn: 15718.0000 - val_accuracy: 0.6583 - val_precision: 0.2557 - val_recall: 0.9306 - val_auc: 0.8187 - val_prc: 0.3002\n",
      "Epoch 8/100\n",
      "20/20 [==============================] - 5s 242ms/step - loss: 0.5898 - tp: 17171.0000 - fp: 7855.0000 - tn: 12781.0000 - fn: 3153.0000 - accuracy: 0.7312 - precision: 0.6861 - recall: 0.8449 - auc: 0.7771 - prc: 0.7132 - val_loss: 0.5864 - val_tp: 210688.0000 - val_fp: 592160.0000 - val_tn: 1022185.0000 - val_fn: 15735.0000 - val_accuracy: 0.6698 - val_precision: 0.2624 - val_recall: 0.9305 - val_auc: 0.8254 - val_prc: 0.3073\n",
      "Epoch 9/100\n",
      "20/20 [==============================] - 5s 241ms/step - loss: 0.5623 - tp: 17552.0000 - fp: 7420.0000 - tn: 12924.0000 - fn: 3064.0000 - accuracy: 0.7440 - precision: 0.7029 - recall: 0.8514 - auc: 0.7925 - prc: 0.7326 - val_loss: 0.5505 - val_tp: 213349.0000 - val_fp: 593481.0000 - val_tn: 1020864.0000 - val_fn: 13074.0000 - val_accuracy: 0.6705 - val_precision: 0.2644 - val_recall: 0.9423 - val_auc: 0.8306 - val_prc: 0.3123\n",
      "Epoch 10/100\n",
      "20/20 [==============================] - 5s 237ms/step - loss: 0.5444 - tp: 17370.0000 - fp: 7335.0000 - tn: 13225.0000 - fn: 3030.0000 - accuracy: 0.7469 - precision: 0.7031 - recall: 0.8515 - auc: 0.7965 - prc: 0.7317 - val_loss: 0.5046 - val_tp: 212740.0000 - val_fp: 579532.0000 - val_tn: 1034813.0000 - val_fn: 13683.0000 - val_accuracy: 0.6777 - val_precision: 0.2685 - val_recall: 0.9396 - val_auc: 0.8344 - val_prc: 0.3170\n",
      "Epoch 11/100\n",
      "20/20 [==============================] - 5s 247ms/step - loss: 0.5242 - tp: 17484.0000 - fp: 7083.0000 - tn: 13319.0000 - fn: 3074.0000 - accuracy: 0.7520 - precision: 0.7117 - recall: 0.8505 - auc: 0.8013 - prc: 0.7333 - val_loss: 0.4792 - val_tp: 214812.0000 - val_fp: 588142.0000 - val_tn: 1026203.0000 - val_fn: 11611.0000 - val_accuracy: 0.6742 - val_precision: 0.2675 - val_recall: 0.9487 - val_auc: 0.8362 - val_prc: 0.3188\n",
      "Epoch 12/100\n",
      "20/20 [==============================] - 5s 239ms/step - loss: 0.5071 - tp: 17835.0000 - fp: 7077.0000 - tn: 13268.0000 - fn: 2780.0000 - accuracy: 0.7594 - precision: 0.7159 - recall: 0.8651 - auc: 0.8072 - prc: 0.7408 - val_loss: 0.4602 - val_tp: 216203.0000 - val_fp: 597943.0000 - val_tn: 1016402.0000 - val_fn: 10220.0000 - val_accuracy: 0.6696 - val_precision: 0.2656 - val_recall: 0.9549 - val_auc: 0.8373 - val_prc: 0.3210\n",
      "Epoch 13/100\n",
      "20/20 [==============================] - 5s 246ms/step - loss: 0.4966 - tp: 17843.0000 - fp: 7052.0000 - tn: 13430.0000 - fn: 2635.0000 - accuracy: 0.7635 - precision: 0.7167 - recall: 0.8713 - auc: 0.8086 - prc: 0.7395 - val_loss: 0.4389 - val_tp: 215688.0000 - val_fp: 593650.0000 - val_tn: 1020695.0000 - val_fn: 10735.0000 - val_accuracy: 0.6717 - val_precision: 0.2665 - val_recall: 0.9526 - val_auc: 0.8386 - val_prc: 0.3231\n",
      "Epoch 14/100\n",
      "20/20 [==============================] - 5s 256ms/step - loss: 0.4859 - tp: 18098.0000 - fp: 7156.0000 - tn: 13250.0000 - fn: 2456.0000 - accuracy: 0.7653 - precision: 0.7166 - recall: 0.8805 - auc: 0.8130 - prc: 0.7469 - val_loss: 0.4326 - val_tp: 217460.0000 - val_fp: 608271.0000 - val_tn: 1006074.0000 - val_fn: 8963.0000 - val_accuracy: 0.6647 - val_precision: 0.2634 - val_recall: 0.9604 - val_auc: 0.8383 - val_prc: 0.3218\n",
      "Epoch 15/100\n",
      "20/20 [==============================] - 5s 240ms/step - loss: 0.4805 - tp: 18059.0000 - fp: 7161.0000 - tn: 13337.0000 - fn: 2403.0000 - accuracy: 0.7665 - precision: 0.7161 - recall: 0.8826 - auc: 0.8141 - prc: 0.7438 - val_loss: 0.4203 - val_tp: 216342.0000 - val_fp: 598187.0000 - val_tn: 1016158.0000 - val_fn: 10081.0000 - val_accuracy: 0.6696 - val_precision: 0.2656 - val_recall: 0.9555 - val_auc: 0.8380 - val_prc: 0.3207\n",
      "Epoch 16/100\n",
      "20/20 [==============================] - 5s 247ms/step - loss: 0.4743 - tp: 18338.0000 - fp: 7152.0000 - tn: 13223.0000 - fn: 2247.0000 - accuracy: 0.7705 - precision: 0.7194 - recall: 0.8908 - auc: 0.8165 - prc: 0.7481 - val_loss: 0.4078 - val_tp: 214992.0000 - val_fp: 587139.0000 - val_tn: 1027206.0000 - val_fn: 11431.0000 - val_accuracy: 0.6748 - val_precision: 0.2680 - val_recall: 0.9495 - val_auc: 0.8397 - val_prc: 0.3224\n",
      "Epoch 17/100\n",
      "20/20 [==============================] - 5s 247ms/step - loss: 0.4722 - tp: 18175.0000 - fp: 7163.0000 - tn: 13321.0000 - fn: 2301.0000 - accuracy: 0.7689 - precision: 0.7173 - recall: 0.8876 - auc: 0.8165 - prc: 0.7479 - val_loss: 0.4031 - val_tp: 215985.0000 - val_fp: 593249.0000 - val_tn: 1021096.0000 - val_fn: 10438.0000 - val_accuracy: 0.6720 - val_precision: 0.2669 - val_recall: 0.9539 - val_auc: 0.8392 - val_prc: 0.3201\n",
      "Epoch 18/100\n",
      "20/20 [==============================] - 5s 272ms/step - loss: 0.4653 - tp: 18481.0000 - fp: 7338.0000 - tn: 13101.0000 - fn: 2040.0000 - accuracy: 0.7710 - precision: 0.7158 - recall: 0.9006 - auc: 0.8215 - prc: 0.7544 - val_loss: 0.4000 - val_tp: 216557.0000 - val_fp: 595935.0000 - val_tn: 1018410.0000 - val_fn: 9866.0000 - val_accuracy: 0.6709 - val_precision: 0.2665 - val_recall: 0.9564 - val_auc: 0.8392 - val_prc: 0.3181\n",
      "Epoch 19/100\n"
     ]
    },
    {
     "name": "stdout",
     "output_type": "stream",
     "text": [
      "20/20 [==============================] - 5s 256ms/step - loss: 0.4626 - tp: 18536.0000 - fp: 7163.0000 - tn: 13141.0000 - fn: 2120.0000 - accuracy: 0.7734 - precision: 0.7213 - recall: 0.8974 - auc: 0.8224 - prc: 0.7530 - val_loss: 0.3964 - val_tp: 215653.0000 - val_fp: 586648.0000 - val_tn: 1027697.0000 - val_fn: 10770.0000 - val_accuracy: 0.6755 - val_precision: 0.2688 - val_recall: 0.9524 - val_auc: 0.8397 - val_prc: 0.3175\n",
      "Epoch 20/100\n",
      "20/20 [==============================] - 5s 249ms/step - loss: 0.4632 - tp: 18492.0000 - fp: 7233.0000 - tn: 13078.0000 - fn: 2157.0000 - accuracy: 0.7708 - precision: 0.7188 - recall: 0.8955 - auc: 0.8230 - prc: 0.7580 - val_loss: 0.3933 - val_tp: 216051.0000 - val_fp: 587995.0000 - val_tn: 1026350.0000 - val_fn: 10372.0000 - val_accuracy: 0.6749 - val_precision: 0.2687 - val_recall: 0.9542 - val_auc: 0.8402 - val_prc: 0.3178\n",
      "Epoch 21/100\n",
      "20/20 [==============================] - 5s 249ms/step - loss: 0.4638 - tp: 18429.0000 - fp: 7380.0000 - tn: 13062.0000 - fn: 2089.0000 - accuracy: 0.7688 - precision: 0.7141 - recall: 0.8982 - auc: 0.8223 - prc: 0.7528 - val_loss: 0.3869 - val_tp: 213895.0000 - val_fp: 569340.0000 - val_tn: 1045005.0000 - val_fn: 12528.0000 - val_accuracy: 0.6839 - val_precision: 0.2731 - val_recall: 0.9447 - val_auc: 0.8411 - val_prc: 0.3190\n",
      "Epoch 22/100\n",
      "20/20 [==============================] - 6s 312ms/step - loss: 0.4545 - tp: 18312.0000 - fp: 7189.0000 - tn: 13394.0000 - fn: 2065.0000 - accuracy: 0.7741 - precision: 0.7181 - recall: 0.8987 - auc: 0.8301 - prc: 0.7609 - val_loss: 0.3864 - val_tp: 211116.0000 - val_fp: 544382.0000 - val_tn: 1069963.0000 - val_fn: 15307.0000 - val_accuracy: 0.6959 - val_precision: 0.2794 - val_recall: 0.9324 - val_auc: 0.8402 - val_prc: 0.3163\n",
      "Epoch 23/100\n",
      "20/20 [==============================] - 5s 262ms/step - loss: 0.4554 - tp: 18445.0000 - fp: 7192.0000 - tn: 13338.0000 - fn: 1985.0000 - accuracy: 0.7760 - precision: 0.7195 - recall: 0.9028 - auc: 0.8281 - prc: 0.7585 - val_loss: 0.3875 - val_tp: 212916.0000 - val_fp: 559090.0000 - val_tn: 1055255.0000 - val_fn: 13507.0000 - val_accuracy: 0.6889 - val_precision: 0.2758 - val_recall: 0.9403 - val_auc: 0.8411 - val_prc: 0.3169\n",
      "Epoch 24/100\n",
      "20/20 [==============================] - 5s 249ms/step - loss: 0.4507 - tp: 18593.0000 - fp: 7189.0000 - tn: 13278.0000 - fn: 1900.0000 - accuracy: 0.7781 - precision: 0.7212 - recall: 0.9073 - auc: 0.8300 - prc: 0.7590 - val_loss: 0.3894 - val_tp: 214649.0000 - val_fp: 576180.0000 - val_tn: 1038165.0000 - val_fn: 11774.0000 - val_accuracy: 0.6806 - val_precision: 0.2714 - val_recall: 0.9480 - val_auc: 0.8421 - val_prc: 0.3192\n",
      "Epoch 25/100\n",
      "20/20 [==============================] - 5s 254ms/step - loss: 0.4486 - tp: 18615.0000 - fp: 7290.0000 - tn: 13277.0000 - fn: 1778.0000 - accuracy: 0.7786 - precision: 0.7186 - recall: 0.9128 - auc: 0.8347 - prc: 0.7656 - val_loss: 0.3873 - val_tp: 213385.0000 - val_fp: 561862.0000 - val_tn: 1052483.0000 - val_fn: 13038.0000 - val_accuracy: 0.6877 - val_precision: 0.2752 - val_recall: 0.9424 - val_auc: 0.8422 - val_prc: 0.3194\n",
      "Epoch 26/100\n",
      "20/20 [==============================] - 5s 253ms/step - loss: 0.4510 - tp: 18776.0000 - fp: 7299.0000 - tn: 13154.0000 - fn: 1731.0000 - accuracy: 0.7795 - precision: 0.7201 - recall: 0.9156 - auc: 0.8304 - prc: 0.7619 - val_loss: 0.3875 - val_tp: 212530.0000 - val_fp: 553930.0000 - val_tn: 1060415.0000 - val_fn: 13893.0000 - val_accuracy: 0.6915 - val_precision: 0.2773 - val_recall: 0.9386 - val_auc: 0.8427 - val_prc: 0.3207\n",
      "Epoch 27/100\n",
      "20/20 [==============================] - 5s 248ms/step - loss: 0.4529 - tp: 18901.0000 - fp: 7472.0000 - tn: 12986.0000 - fn: 1601.0000 - accuracy: 0.7785 - precision: 0.7167 - recall: 0.9219 - auc: 0.8302 - prc: 0.7636 - val_loss: 0.3883 - val_tp: 213341.0000 - val_fp: 561562.0000 - val_tn: 1052783.0000 - val_fn: 13082.0000 - val_accuracy: 0.6878 - val_precision: 0.2753 - val_recall: 0.9422 - val_auc: 0.8436 - val_prc: 0.3228\n",
      "Epoch 28/100\n",
      "20/20 [==============================] - 5s 248ms/step - loss: 0.4470 - tp: 19012.0000 - fp: 7358.0000 - tn: 12988.0000 - fn: 1602.0000 - accuracy: 0.7812 - precision: 0.7210 - recall: 0.9223 - auc: 0.8333 - prc: 0.7690 - val_loss: 0.3906 - val_tp: 212583.0000 - val_fp: 554826.0000 - val_tn: 1059519.0000 - val_fn: 13840.0000 - val_accuracy: 0.6911 - val_precision: 0.2770 - val_recall: 0.9389 - val_auc: 0.8442 - val_prc: 0.3243\n",
      "Epoch 29/100\n",
      "20/20 [==============================] - 5s 250ms/step - loss: 0.4465 - tp: 18838.0000 - fp: 7279.0000 - tn: 13258.0000 - fn: 1585.0000 - accuracy: 0.7836 - precision: 0.7213 - recall: 0.9224 - auc: 0.8331 - prc: 0.7640 - val_loss: 0.3898 - val_tp: 210383.0000 - val_fp: 536739.0000 - val_tn: 1077606.0000 - val_fn: 16040.0000 - val_accuracy: 0.6997 - val_precision: 0.2816 - val_recall: 0.9292 - val_auc: 0.8446 - val_prc: 0.3254\n",
      "Epoch 30/100\n",
      "20/20 [==============================] - 5s 252ms/step - loss: 0.4490 - tp: 18814.0000 - fp: 7296.0000 - tn: 13178.0000 - fn: 1672.0000 - accuracy: 0.7811 - precision: 0.7206 - recall: 0.9184 - auc: 0.8323 - prc: 0.7629 - val_loss: 0.3888 - val_tp: 211023.0000 - val_fp: 540724.0000 - val_tn: 1073621.0000 - val_fn: 15400.0000 - val_accuracy: 0.6979 - val_precision: 0.2807 - val_recall: 0.9320 - val_auc: 0.8453 - val_prc: 0.3274\n",
      "Epoch 31/100\n",
      "20/20 [==============================] - 5s 244ms/step - loss: 0.4435 - tp: 18885.0000 - fp: 7144.0000 - tn: 13299.0000 - fn: 1632.0000 - accuracy: 0.7857 - precision: 0.7255 - recall: 0.9205 - auc: 0.8371 - prc: 0.7726 - val_loss: 0.3942 - val_tp: 211888.0000 - val_fp: 546705.0000 - val_tn: 1067640.0000 - val_fn: 14535.0000 - val_accuracy: 0.6951 - val_precision: 0.2793 - val_recall: 0.9358 - val_auc: 0.8458 - val_prc: 0.3292\n",
      "Epoch 32/100\n",
      "20/20 [==============================] - 5s 274ms/step - loss: 0.4395 - tp: 18945.0000 - fp: 7136.0000 - tn: 13299.0000 - fn: 1580.0000 - accuracy: 0.7872 - precision: 0.7264 - recall: 0.9230 - auc: 0.8414 - prc: 0.7763 - val_loss: 0.3968 - val_tp: 212697.0000 - val_fp: 552709.0000 - val_tn: 1061636.0000 - val_fn: 13726.0000 - val_accuracy: 0.6923 - val_precision: 0.2779 - val_recall: 0.9394 - val_auc: 0.8461 - val_prc: 0.3298\n",
      "Epoch 33/100\n",
      "20/20 [==============================] - 5s 248ms/step - loss: 0.4411 - tp: 18939.0000 - fp: 7199.0000 - tn: 13245.0000 - fn: 1577.0000 - accuracy: 0.7857 - precision: 0.7246 - recall: 0.9231 - auc: 0.8380 - prc: 0.7725 - val_loss: 0.3895 - val_tp: 209916.0000 - val_fp: 532042.0000 - val_tn: 1082303.0000 - val_fn: 16507.0000 - val_accuracy: 0.7020 - val_precision: 0.2829 - val_recall: 0.9271 - val_auc: 0.8469 - val_prc: 0.3323\n",
      "Epoch 34/100\n",
      "20/20 [==============================] - 5s 241ms/step - loss: 0.4419 - tp: 18850.0000 - fp: 7108.0000 - tn: 13316.0000 - fn: 1686.0000 - accuracy: 0.7853 - precision: 0.7262 - recall: 0.9179 - auc: 0.8391 - prc: 0.7765 - val_loss: 0.3952 - val_tp: 212262.0000 - val_fp: 547543.0000 - val_tn: 1066802.0000 - val_fn: 14161.0000 - val_accuracy: 0.6949 - val_precision: 0.2794 - val_recall: 0.9375 - val_auc: 0.8467 - val_prc: 0.3325\n",
      "Epoch 35/100\n",
      "20/20 [==============================] - 5s 260ms/step - loss: 0.4415 - tp: 18689.0000 - fp: 7345.0000 - tn: 13313.0000 - fn: 1613.0000 - accuracy: 0.7813 - precision: 0.7179 - recall: 0.9205 - auc: 0.8393 - prc: 0.7729 - val_loss: 0.3902 - val_tp: 211104.0000 - val_fp: 538468.0000 - val_tn: 1075877.0000 - val_fn: 15319.0000 - val_accuracy: 0.6992 - val_precision: 0.2816 - val_recall: 0.9323 - val_auc: 0.8473 - val_prc: 0.3346\n",
      "Epoch 36/100\n",
      "20/20 [==============================] - 5s 248ms/step - loss: 0.4393 - tp: 18912.0000 - fp: 7173.0000 - tn: 13340.0000 - fn: 1535.0000 - accuracy: 0.7874 - precision: 0.7250 - recall: 0.9249 - auc: 0.8386 - prc: 0.7713 - val_loss: 0.3923 - val_tp: 210910.0000 - val_fp: 537503.0000 - val_tn: 1076842.0000 - val_fn: 15513.0000 - val_accuracy: 0.6996 - val_precision: 0.2818 - val_recall: 0.9315 - val_auc: 0.8471 - val_prc: 0.3344\n",
      "Epoch 37/100\n"
     ]
    },
    {
     "name": "stdout",
     "output_type": "stream",
     "text": [
      "20/20 [==============================] - 5s 252ms/step - loss: 0.4418 - tp: 18923.0000 - fp: 7238.0000 - tn: 13146.0000 - fn: 1653.0000 - accuracy: 0.7829 - precision: 0.7233 - recall: 0.9197 - auc: 0.8379 - prc: 0.7730 - val_loss: 0.3961 - val_tp: 213379.0000 - val_fp: 556525.0000 - val_tn: 1057820.0000 - val_fn: 13044.0000 - val_accuracy: 0.6906 - val_precision: 0.2772 - val_recall: 0.9424 - val_auc: 0.8476 - val_prc: 0.3362\n",
      "Epoch 38/100\n",
      "20/20 [==============================] - 5s 252ms/step - loss: 0.4376 - tp: 18893.0000 - fp: 7049.0000 - tn: 13434.0000 - fn: 1584.0000 - accuracy: 0.7892 - precision: 0.7283 - recall: 0.9226 - auc: 0.8398 - prc: 0.7719 - val_loss: 0.3947 - val_tp: 211766.0000 - val_fp: 543077.0000 - val_tn: 1071268.0000 - val_fn: 14657.0000 - val_accuracy: 0.6970 - val_precision: 0.2805 - val_recall: 0.9353 - val_auc: 0.8476 - val_prc: 0.3367\n",
      "Epoch 39/100\n",
      "20/20 [==============================] - 5s 259ms/step - loss: 0.4416 - tp: 18735.0000 - fp: 7226.0000 - tn: 13302.0000 - fn: 1697.0000 - accuracy: 0.7822 - precision: 0.7217 - recall: 0.9169 - auc: 0.8384 - prc: 0.7734 - val_loss: 0.3921 - val_tp: 211692.0000 - val_fp: 543149.0000 - val_tn: 1071196.0000 - val_fn: 14731.0000 - val_accuracy: 0.6969 - val_precision: 0.2804 - val_recall: 0.9349 - val_auc: 0.8475 - val_prc: 0.3358\n",
      "Epoch 40/100\n",
      "20/20 [==============================] - 5s 248ms/step - loss: 0.4401 - tp: 19251.0000 - fp: 7449.0000 - tn: 12971.0000 - fn: 1289.0000 - accuracy: 0.7867 - precision: 0.7210 - recall: 0.9372 - auc: 0.8384 - prc: 0.7734 - val_loss: 0.3955 - val_tp: 213618.0000 - val_fp: 559733.0000 - val_tn: 1054612.0000 - val_fn: 12805.0000 - val_accuracy: 0.6890 - val_precision: 0.2762 - val_recall: 0.9434 - val_auc: 0.8480 - val_prc: 0.3381\n",
      "Epoch 41/100\n",
      "20/20 [==============================] - 5s 256ms/step - loss: 0.4337 - tp: 19443.0000 - fp: 7344.0000 - tn: 13046.0000 - fn: 1127.0000 - accuracy: 0.7932 - precision: 0.7258 - recall: 0.9452 - auc: 0.8429 - prc: 0.7795 - val_loss: 0.3997 - val_tp: 213171.0000 - val_fp: 554136.0000 - val_tn: 1060209.0000 - val_fn: 13252.0000 - val_accuracy: 0.6918 - val_precision: 0.2778 - val_recall: 0.9415 - val_auc: 0.8480 - val_prc: 0.3391\n",
      "Epoch 42/100\n",
      "20/20 [==============================] - 5s 243ms/step - loss: 0.4375 - tp: 19287.0000 - fp: 7577.0000 - tn: 13053.0000 - fn: 1043.0000 - accuracy: 0.7896 - precision: 0.7179 - recall: 0.9487 - auc: 0.8425 - prc: 0.7742 - val_loss: 0.3927 - val_tp: 211515.0000 - val_fp: 541258.0000 - val_tn: 1073087.0000 - val_fn: 14908.0000 - val_accuracy: 0.6979 - val_precision: 0.2810 - val_recall: 0.9342 - val_auc: 0.8485 - val_prc: 0.3401\n",
      "Epoch 43/100\n",
      "20/20 [==============================] - 5s 247ms/step - loss: 0.4376 - tp: 19333.0000 - fp: 7351.0000 - tn: 13076.0000 - fn: 1200.0000 - accuracy: 0.7912 - precision: 0.7245 - recall: 0.9416 - auc: 0.8429 - prc: 0.7786 - val_loss: 0.3969 - val_tp: 210288.0000 - val_fp: 532813.0000 - val_tn: 1081532.0000 - val_fn: 16135.0000 - val_accuracy: 0.7018 - val_precision: 0.2830 - val_recall: 0.9287 - val_auc: 0.8482 - val_prc: 0.3399\n",
      "Epoch 44/100\n",
      "20/20 [==============================] - 5s 258ms/step - loss: 0.4392 - tp: 19537.0000 - fp: 7450.0000 - tn: 12864.0000 - fn: 1109.0000 - accuracy: 0.7910 - precision: 0.7239 - recall: 0.9463 - auc: 0.8390 - prc: 0.7751 - val_loss: 0.3989 - val_tp: 212354.0000 - val_fp: 546974.0000 - val_tn: 1067371.0000 - val_fn: 14069.0000 - val_accuracy: 0.6952 - val_precision: 0.2797 - val_recall: 0.9379 - val_auc: 0.8485 - val_prc: 0.3408\n",
      "Epoch 45/100\n",
      "20/20 [==============================] - 5s 246ms/step - loss: 0.4396 - tp: 19299.0000 - fp: 7376.0000 - tn: 13095.0000 - fn: 1190.0000 - accuracy: 0.7909 - precision: 0.7235 - recall: 0.9419 - auc: 0.8407 - prc: 0.7764 - val_loss: 0.3916 - val_tp: 210619.0000 - val_fp: 534182.0000 - val_tn: 1080163.0000 - val_fn: 15804.0000 - val_accuracy: 0.7012 - val_precision: 0.2828 - val_recall: 0.9302 - val_auc: 0.8488 - val_prc: 0.3425\n",
      "Epoch 46/100\n",
      "20/20 [==============================] - 6s 309ms/step - loss: 0.4420 - tp: 19236.0000 - fp: 7492.0000 - tn: 13092.0000 - fn: 1140.0000 - accuracy: 0.7893 - precision: 0.7197 - recall: 0.9441 - auc: 0.8407 - prc: 0.7768 - val_loss: 0.3932 - val_tp: 210449.0000 - val_fp: 533123.0000 - val_tn: 1081222.0000 - val_fn: 15974.0000 - val_accuracy: 0.7017 - val_precision: 0.2830 - val_recall: 0.9295 - val_auc: 0.8491 - val_prc: 0.3438\n",
      "Epoch 47/100\n",
      "20/20 [==============================] - 5s 244ms/step - loss: 0.4381 - tp: 19303.0000 - fp: 7432.0000 - tn: 13045.0000 - fn: 1180.0000 - accuracy: 0.7897 - precision: 0.7220 - recall: 0.9424 - auc: 0.8430 - prc: 0.7787 - val_loss: 0.3955 - val_tp: 210171.0000 - val_fp: 531230.0000 - val_tn: 1083115.0000 - val_fn: 16252.0000 - val_accuracy: 0.7026 - val_precision: 0.2835 - val_recall: 0.9282 - val_auc: 0.8490 - val_prc: 0.3433\n",
      "Epoch 48/100\n",
      "20/20 [==============================] - 4s 234ms/step - loss: 0.4352 - tp: 19418.0000 - fp: 7234.0000 - tn: 13123.0000 - fn: 1185.0000 - accuracy: 0.7945 - precision: 0.7286 - recall: 0.9425 - auc: 0.8425 - prc: 0.7781 - val_loss: 0.3999 - val_tp: 211694.0000 - val_fp: 541440.0000 - val_tn: 1072905.0000 - val_fn: 14729.0000 - val_accuracy: 0.6979 - val_precision: 0.2811 - val_recall: 0.9349 - val_auc: 0.8491 - val_prc: 0.3435\n",
      "Epoch 49/100\n",
      "20/20 [==============================] - 5s 250ms/step - loss: 0.4355 - tp: 18978.0000 - fp: 7340.0000 - tn: 13437.0000 - fn: 1205.0000 - accuracy: 0.7914 - precision: 0.7211 - recall: 0.9403 - auc: 0.8429 - prc: 0.7731 - val_loss: 0.3884 - val_tp: 208528.0000 - val_fp: 519808.0000 - val_tn: 1094537.0000 - val_fn: 17895.0000 - val_accuracy: 0.7079 - val_precision: 0.2863 - val_recall: 0.9210 - val_auc: 0.8493 - val_prc: 0.3441\n",
      "Epoch 50/100\n",
      "20/20 [==============================] - 5s 254ms/step - loss: 0.4323 - tp: 19385.0000 - fp: 7327.0000 - tn: 13137.0000 - fn: 1111.0000 - accuracy: 0.7940 - precision: 0.7257 - recall: 0.9458 - auc: 0.8446 - prc: 0.7819 - val_loss: 0.3981 - val_tp: 210964.0000 - val_fp: 536171.0000 - val_tn: 1078174.0000 - val_fn: 15459.0000 - val_accuracy: 0.7003 - val_precision: 0.2824 - val_recall: 0.9317 - val_auc: 0.8494 - val_prc: 0.3441\n",
      "Epoch 51/100\n",
      "20/20 [==============================] - 5s 251ms/step - loss: 0.4357 - tp: 19188.0000 - fp: 7452.0000 - tn: 13150.0000 - fn: 1170.0000 - accuracy: 0.7895 - precision: 0.7203 - recall: 0.9425 - auc: 0.8423 - prc: 0.7767 - val_loss: 0.3932 - val_tp: 209169.0000 - val_fp: 525175.0000 - val_tn: 1089170.0000 - val_fn: 17254.0000 - val_accuracy: 0.7053 - val_precision: 0.2848 - val_recall: 0.9238 - val_auc: 0.8497 - val_prc: 0.3457\n",
      "Epoch 52/100\n",
      "20/20 [==============================] - 5s 243ms/step - loss: 0.4333 - tp: 19454.0000 - fp: 7327.0000 - tn: 13071.0000 - fn: 1108.0000 - accuracy: 0.7941 - precision: 0.7264 - recall: 0.9461 - auc: 0.8457 - prc: 0.7841 - val_loss: 0.3993 - val_tp: 210881.0000 - val_fp: 535971.0000 - val_tn: 1078374.0000 - val_fn: 15542.0000 - val_accuracy: 0.7004 - val_precision: 0.2824 - val_recall: 0.9314 - val_auc: 0.8496 - val_prc: 0.3457\n",
      "Epoch 53/100\n",
      "20/20 [==============================] - 5s 249ms/step - loss: 0.4317 - tp: 19287.0000 - fp: 7123.0000 - tn: 13287.0000 - fn: 1263.0000 - accuracy: 0.7953 - precision: 0.7303 - recall: 0.9385 - auc: 0.8465 - prc: 0.7857 - val_loss: 0.3979 - val_tp: 210936.0000 - val_fp: 535637.0000 - val_tn: 1078708.0000 - val_fn: 15487.0000 - val_accuracy: 0.7006 - val_precision: 0.2825 - val_recall: 0.9316 - val_auc: 0.8498 - val_prc: 0.3463\n",
      "Epoch 54/100\n",
      "20/20 [==============================] - 5s 246ms/step - loss: 0.4336 - tp: 19314.0000 - fp: 7240.0000 - tn: 13258.0000 - fn: 1148.0000 - accuracy: 0.7952 - precision: 0.7273 - recall: 0.9439 - auc: 0.8466 - prc: 0.7832 - val_loss: 0.3995 - val_tp: 211640.0000 - val_fp: 540974.0000 - val_tn: 1073371.0000 - val_fn: 14783.0000 - val_accuracy: 0.6981 - val_precision: 0.2812 - val_recall: 0.9347 - val_auc: 0.8498 - val_prc: 0.3469\n",
      "Epoch 55/100\n"
     ]
    },
    {
     "name": "stdout",
     "output_type": "stream",
     "text": [
      "20/20 [==============================] - 5s 247ms/step - loss: 0.4359 - tp: 19502.0000 - fp: 7229.0000 - tn: 13089.0000 - fn: 1140.0000 - accuracy: 0.7957 - precision: 0.7296 - recall: 0.9448 - auc: 0.8434 - prc: 0.7829 - val_loss: 0.3980 - val_tp: 210079.0000 - val_fp: 530731.0000 - val_tn: 1083614.0000 - val_fn: 16344.0000 - val_accuracy: 0.7028 - val_precision: 0.2836 - val_recall: 0.9278 - val_auc: 0.8499 - val_prc: 0.3468\n",
      "Epoch 56/100\n",
      "20/20 [==============================] - 5s 249ms/step - loss: 0.4340 - tp: 19265.0000 - fp: 7305.0000 - tn: 13216.0000 - fn: 1174.0000 - accuracy: 0.7930 - precision: 0.7251 - recall: 0.9426 - auc: 0.8447 - prc: 0.7828 - val_loss: 0.4008 - val_tp: 213270.0000 - val_fp: 554670.0000 - val_tn: 1059675.0000 - val_fn: 13153.0000 - val_accuracy: 0.6915 - val_precision: 0.2777 - val_recall: 0.9419 - val_auc: 0.8502 - val_prc: 0.3474\n",
      "Epoch 57/100\n",
      "20/20 [==============================] - 5s 240ms/step - loss: 0.4303 - tp: 19691.0000 - fp: 7327.0000 - tn: 12931.0000 - fn: 1011.0000 - accuracy: 0.7964 - precision: 0.7288 - recall: 0.9512 - auc: 0.8462 - prc: 0.7861 - val_loss: 0.3995 - val_tp: 210714.0000 - val_fp: 535400.0000 - val_tn: 1078945.0000 - val_fn: 15709.0000 - val_accuracy: 0.7006 - val_precision: 0.2824 - val_recall: 0.9306 - val_auc: 0.8504 - val_prc: 0.3479\n",
      "Epoch 58/100\n",
      "20/20 [==============================] - 5s 240ms/step - loss: 0.4315 - tp: 19278.0000 - fp: 7183.0000 - tn: 13265.0000 - fn: 1234.0000 - accuracy: 0.7945 - precision: 0.7285 - recall: 0.9398 - auc: 0.8464 - prc: 0.7845 - val_loss: 0.3995 - val_tp: 211135.0000 - val_fp: 537928.0000 - val_tn: 1076417.0000 - val_fn: 15288.0000 - val_accuracy: 0.6995 - val_precision: 0.2819 - val_recall: 0.9325 - val_auc: 0.8504 - val_prc: 0.3478\n",
      "Epoch 59/100\n",
      "20/20 [==============================] - 5s 241ms/step - loss: 0.4300 - tp: 19446.0000 - fp: 7186.0000 - tn: 13213.0000 - fn: 1115.0000 - accuracy: 0.7973 - precision: 0.7302 - recall: 0.9458 - auc: 0.8474 - prc: 0.7857 - val_loss: 0.3980 - val_tp: 210284.0000 - val_fp: 532159.0000 - val_tn: 1082186.0000 - val_fn: 16139.0000 - val_accuracy: 0.7021 - val_precision: 0.2832 - val_recall: 0.9287 - val_auc: 0.8506 - val_prc: 0.3482\n",
      "Epoch 60/100\n",
      "20/20 [==============================] - 5s 248ms/step - loss: 0.4332 - tp: 19350.0000 - fp: 7326.0000 - tn: 13148.0000 - fn: 1136.0000 - accuracy: 0.7934 - precision: 0.7254 - recall: 0.9445 - auc: 0.8457 - prc: 0.7832 - val_loss: 0.3978 - val_tp: 210190.0000 - val_fp: 530869.0000 - val_tn: 1083476.0000 - val_fn: 16233.0000 - val_accuracy: 0.7028 - val_precision: 0.2836 - val_recall: 0.9283 - val_auc: 0.8506 - val_prc: 0.3483\n",
      "Epoch 61/100\n",
      "20/20 [==============================] - 5s 241ms/step - loss: 0.4361 - tp: 19251.0000 - fp: 7310.0000 - tn: 13216.0000 - fn: 1183.0000 - accuracy: 0.7927 - precision: 0.7248 - recall: 0.9421 - auc: 0.8429 - prc: 0.7786 - val_loss: 0.3939 - val_tp: 210498.0000 - val_fp: 534033.0000 - val_tn: 1080312.0000 - val_fn: 15925.0000 - val_accuracy: 0.7012 - val_precision: 0.2827 - val_recall: 0.9297 - val_auc: 0.8506 - val_prc: 0.3482\n",
      "Epoch 62/100\n",
      "20/20 [==============================] - 5s 247ms/step - loss: 0.4363 - tp: 19328.0000 - fp: 7392.0000 - tn: 13112.0000 - fn: 1128.0000 - accuracy: 0.7920 - precision: 0.7234 - recall: 0.9449 - auc: 0.8436 - prc: 0.7834 - val_loss: 0.3961 - val_tp: 210701.0000 - val_fp: 534451.0000 - val_tn: 1079894.0000 - val_fn: 15722.0000 - val_accuracy: 0.7011 - val_precision: 0.2828 - val_recall: 0.9306 - val_auc: 0.8508 - val_prc: 0.3491\n",
      "Epoch 63/100\n",
      "20/20 [==============================] - 5s 245ms/step - loss: 0.4328 - tp: 19103.0000 - fp: 7259.0000 - tn: 13349.0000 - fn: 1249.0000 - accuracy: 0.7923 - precision: 0.7246 - recall: 0.9386 - auc: 0.8456 - prc: 0.7809 - val_loss: 0.3971 - val_tp: 207313.0000 - val_fp: 512904.0000 - val_tn: 1101441.0000 - val_fn: 19110.0000 - val_accuracy: 0.7110 - val_precision: 0.2878 - val_recall: 0.9156 - val_auc: 0.8509 - val_prc: 0.3495\n",
      "Epoch 64/100\n",
      "20/20 [==============================] - 5s 264ms/step - loss: 0.4314 - tp: 19354.0000 - fp: 7188.0000 - tn: 13201.0000 - fn: 1217.0000 - accuracy: 0.7948 - precision: 0.7292 - recall: 0.9408 - auc: 0.8464 - prc: 0.7847 - val_loss: 0.4004 - val_tp: 211588.0000 - val_fp: 540682.0000 - val_tn: 1073663.0000 - val_fn: 14835.0000 - val_accuracy: 0.6982 - val_precision: 0.2813 - val_recall: 0.9345 - val_auc: 0.8513 - val_prc: 0.3502\n",
      "Epoch 65/100\n",
      "20/20 [==============================] - 5s 237ms/step - loss: 0.4364 - tp: 19335.0000 - fp: 7304.0000 - tn: 13122.0000 - fn: 1199.0000 - accuracy: 0.7924 - precision: 0.7258 - recall: 0.9416 - auc: 0.8452 - prc: 0.7834 - val_loss: 0.3996 - val_tp: 209368.0000 - val_fp: 526825.0000 - val_tn: 1087520.0000 - val_fn: 17055.0000 - val_accuracy: 0.7045 - val_precision: 0.2844 - val_recall: 0.9247 - val_auc: 0.8511 - val_prc: 0.3500\n",
      "Epoch 66/100\n",
      "20/20 [==============================] - 4s 236ms/step - loss: 0.4312 - tp: 19207.0000 - fp: 7193.0000 - tn: 13402.0000 - fn: 1158.0000 - accuracy: 0.7961 - precision: 0.7275 - recall: 0.9431 - auc: 0.8466 - prc: 0.7832 - val_loss: 0.3969 - val_tp: 207945.0000 - val_fp: 516852.0000 - val_tn: 1097493.0000 - val_fn: 18478.0000 - val_accuracy: 0.7092 - val_precision: 0.2869 - val_recall: 0.9184 - val_auc: 0.8511 - val_prc: 0.3501\n",
      "Epoch 67/100\n",
      "20/20 [==============================] - 5s 241ms/step - loss: 0.4282 - tp: 19247.0000 - fp: 7041.0000 - tn: 13423.0000 - fn: 1249.0000 - accuracy: 0.7976 - precision: 0.7322 - recall: 0.9391 - auc: 0.8484 - prc: 0.7866 - val_loss: 0.4024 - val_tp: 209839.0000 - val_fp: 529049.0000 - val_tn: 1085296.0000 - val_fn: 16584.0000 - val_accuracy: 0.7036 - val_precision: 0.2840 - val_recall: 0.9268 - val_auc: 0.8513 - val_prc: 0.3506\n",
      "Epoch 68/100\n",
      "20/20 [==============================] - 5s 246ms/step - loss: 0.4342 - tp: 19322.0000 - fp: 7293.0000 - tn: 13176.0000 - fn: 1169.0000 - accuracy: 0.7934 - precision: 0.7260 - recall: 0.9430 - auc: 0.8449 - prc: 0.7813 - val_loss: 0.3952 - val_tp: 209316.0000 - val_fp: 524923.0000 - val_tn: 1089422.0000 - val_fn: 17107.0000 - val_accuracy: 0.7055 - val_precision: 0.2851 - val_recall: 0.9244 - val_auc: 0.8515 - val_prc: 0.3512\n",
      "Epoch 69/100\n",
      "20/20 [==============================] - 5s 244ms/step - loss: 0.4252 - tp: 19394.0000 - fp: 7051.0000 - tn: 13327.0000 - fn: 1188.0000 - accuracy: 0.7989 - precision: 0.7334 - recall: 0.9423 - auc: 0.8503 - prc: 0.7897 - val_loss: 0.4028 - val_tp: 210787.0000 - val_fp: 535862.0000 - val_tn: 1078483.0000 - val_fn: 15636.0000 - val_accuracy: 0.7004 - val_precision: 0.2823 - val_recall: 0.9309 - val_auc: 0.8513 - val_prc: 0.3507\n",
      "Epoch 70/100\n",
      "20/20 [==============================] - 5s 239ms/step - loss: 0.4264 - tp: 19442.0000 - fp: 7147.0000 - tn: 13197.0000 - fn: 1174.0000 - accuracy: 0.7969 - precision: 0.7312 - recall: 0.9431 - auc: 0.8493 - prc: 0.7904 - val_loss: 0.3965 - val_tp: 208926.0000 - val_fp: 522123.0000 - val_tn: 1092222.0000 - val_fn: 17497.0000 - val_accuracy: 0.7069 - val_precision: 0.2858 - val_recall: 0.9227 - val_auc: 0.8516 - val_prc: 0.3509\n",
      "Epoch 71/100\n",
      "20/20 [==============================] - 5s 240ms/step - loss: 0.4341 - tp: 19207.0000 - fp: 7207.0000 - tn: 13309.0000 - fn: 1237.0000 - accuracy: 0.7938 - precision: 0.7272 - recall: 0.9395 - auc: 0.8456 - prc: 0.7833 - val_loss: 0.3937 - val_tp: 209292.0000 - val_fp: 525056.0000 - val_tn: 1089289.0000 - val_fn: 17131.0000 - val_accuracy: 0.7055 - val_precision: 0.2850 - val_recall: 0.9243 - val_auc: 0.8517 - val_prc: 0.3514\n",
      "Epoch 72/100\n",
      "20/20 [==============================] - 5s 241ms/step - loss: 0.4333 - tp: 19396.0000 - fp: 7292.0000 - tn: 13123.0000 - fn: 1149.0000 - accuracy: 0.7939 - precision: 0.7268 - recall: 0.9441 - auc: 0.8447 - prc: 0.7810 - val_loss: 0.3990 - val_tp: 211746.0000 - val_fp: 541438.0000 - val_tn: 1072907.0000 - val_fn: 14677.0000 - val_accuracy: 0.6979 - val_precision: 0.2811 - val_recall: 0.9352 - val_auc: 0.8517 - val_prc: 0.3517\n",
      "Epoch 73/100\n"
     ]
    },
    {
     "name": "stdout",
     "output_type": "stream",
     "text": [
      "20/20 [==============================] - 5s 245ms/step - loss: 0.4311 - tp: 19383.0000 - fp: 7275.0000 - tn: 13190.0000 - fn: 1112.0000 - accuracy: 0.7952 - precision: 0.7271 - recall: 0.9457 - auc: 0.8469 - prc: 0.7857 - val_loss: 0.3980 - val_tp: 209636.0000 - val_fp: 527276.0000 - val_tn: 1087069.0000 - val_fn: 16787.0000 - val_accuracy: 0.7044 - val_precision: 0.2845 - val_recall: 0.9259 - val_auc: 0.8518 - val_prc: 0.3517\n",
      "Epoch 74/100\n",
      "20/20 [==============================] - 5s 241ms/step - loss: 0.4319 - tp: 19241.0000 - fp: 7256.0000 - tn: 13263.0000 - fn: 1200.0000 - accuracy: 0.7936 - precision: 0.7262 - recall: 0.9413 - auc: 0.8461 - prc: 0.7817 - val_loss: 0.3932 - val_tp: 209509.0000 - val_fp: 526436.0000 - val_tn: 1087909.0000 - val_fn: 16914.0000 - val_accuracy: 0.7048 - val_precision: 0.2847 - val_recall: 0.9253 - val_auc: 0.8519 - val_prc: 0.3517\n",
      "Epoch 75/100\n",
      "20/20 [==============================] - 5s 244ms/step - loss: 0.4343 - tp: 19050.0000 - fp: 7379.0000 - tn: 13334.0000 - fn: 1197.0000 - accuracy: 0.7906 - precision: 0.7208 - recall: 0.9409 - auc: 0.8445 - prc: 0.7767 - val_loss: 0.3962 - val_tp: 209721.0000 - val_fp: 527572.0000 - val_tn: 1086773.0000 - val_fn: 16702.0000 - val_accuracy: 0.7043 - val_precision: 0.2844 - val_recall: 0.9262 - val_auc: 0.8521 - val_prc: 0.3523\n",
      "Epoch 76/100\n",
      "20/20 [==============================] - 5s 241ms/step - loss: 0.4300 - tp: 18996.0000 - fp: 7144.0000 - tn: 13535.0000 - fn: 1285.0000 - accuracy: 0.7942 - precision: 0.7267 - recall: 0.9366 - auc: 0.8495 - prc: 0.7845 - val_loss: 0.3950 - val_tp: 208579.0000 - val_fp: 520239.0000 - val_tn: 1094106.0000 - val_fn: 17844.0000 - val_accuracy: 0.7077 - val_precision: 0.2862 - val_recall: 0.9212 - val_auc: 0.8520 - val_prc: 0.3520\n",
      "Epoch 77/100\n",
      "20/20 [==============================] - 5s 242ms/step - loss: 0.4338 - tp: 19290.0000 - fp: 7191.0000 - tn: 13225.0000 - fn: 1254.0000 - accuracy: 0.7938 - precision: 0.7284 - recall: 0.9390 - auc: 0.8450 - prc: 0.7839 - val_loss: 0.3927 - val_tp: 208414.0000 - val_fp: 518354.0000 - val_tn: 1095991.0000 - val_fn: 18009.0000 - val_accuracy: 0.7086 - val_precision: 0.2868 - val_recall: 0.9205 - val_auc: 0.8520 - val_prc: 0.3522\n",
      "Epoch 78/100\n",
      "20/20 [==============================] - 5s 239ms/step - loss: 0.4313 - tp: 19226.0000 - fp: 7204.0000 - tn: 13338.0000 - fn: 1192.0000 - accuracy: 0.7950 - precision: 0.7274 - recall: 0.9416 - auc: 0.8477 - prc: 0.7837 - val_loss: 0.3989 - val_tp: 210886.0000 - val_fp: 535128.0000 - val_tn: 1079217.0000 - val_fn: 15537.0000 - val_accuracy: 0.7009 - val_precision: 0.2827 - val_recall: 0.9314 - val_auc: 0.8521 - val_prc: 0.3527\n",
      "Epoch 79/100\n",
      "20/20 [==============================] - 5s 243ms/step - loss: 0.4238 - tp: 19442.0000 - fp: 6991.0000 - tn: 13325.0000 - fn: 1202.0000 - accuracy: 0.8000 - precision: 0.7355 - recall: 0.9418 - auc: 0.8506 - prc: 0.7935 - val_loss: 0.4000 - val_tp: 209747.0000 - val_fp: 526636.0000 - val_tn: 1087709.0000 - val_fn: 16676.0000 - val_accuracy: 0.7048 - val_precision: 0.2848 - val_recall: 0.9264 - val_auc: 0.8522 - val_prc: 0.3530\n",
      "Epoch 80/100\n",
      "20/20 [==============================] - 5s 247ms/step - loss: 0.4257 - tp: 19243.0000 - fp: 7042.0000 - tn: 13443.0000 - fn: 1232.0000 - accuracy: 0.7980 - precision: 0.7321 - recall: 0.9398 - auc: 0.8514 - prc: 0.7904 - val_loss: 0.3996 - val_tp: 208786.0000 - val_fp: 520459.0000 - val_tn: 1093886.0000 - val_fn: 17637.0000 - val_accuracy: 0.7077 - val_precision: 0.2863 - val_recall: 0.9221 - val_auc: 0.8523 - val_prc: 0.3533\n",
      "Epoch 81/100\n",
      "20/20 [==============================] - 5s 241ms/step - loss: 0.4361 - tp: 19249.0000 - fp: 7267.0000 - tn: 13190.0000 - fn: 1254.0000 - accuracy: 0.7920 - precision: 0.7259 - recall: 0.9388 - auc: 0.8446 - prc: 0.7829 - val_loss: 0.3941 - val_tp: 209081.0000 - val_fp: 522894.0000 - val_tn: 1091451.0000 - val_fn: 17342.0000 - val_accuracy: 0.7065 - val_precision: 0.2856 - val_recall: 0.9234 - val_auc: 0.8523 - val_prc: 0.3533\n",
      "Epoch 82/100\n",
      "20/20 [==============================] - 5s 242ms/step - loss: 0.4305 - tp: 19218.0000 - fp: 7366.0000 - tn: 13226.0000 - fn: 1150.0000 - accuracy: 0.7921 - precision: 0.7229 - recall: 0.9435 - auc: 0.8478 - prc: 0.7872 - val_loss: 0.3975 - val_tp: 209590.0000 - val_fp: 525428.0000 - val_tn: 1088917.0000 - val_fn: 16833.0000 - val_accuracy: 0.7054 - val_precision: 0.2851 - val_recall: 0.9257 - val_auc: 0.8524 - val_prc: 0.3534\n",
      "Epoch 83/100\n",
      "20/20 [==============================] - 5s 242ms/step - loss: 0.4254 - tp: 19202.0000 - fp: 7018.0000 - tn: 13496.0000 - fn: 1244.0000 - accuracy: 0.7983 - precision: 0.7323 - recall: 0.9392 - auc: 0.8510 - prc: 0.7873 - val_loss: 0.4015 - val_tp: 210373.0000 - val_fp: 530528.0000 - val_tn: 1083817.0000 - val_fn: 16050.0000 - val_accuracy: 0.7031 - val_precision: 0.2839 - val_recall: 0.9291 - val_auc: 0.8524 - val_prc: 0.3534\n",
      "Epoch 84/100\n",
      "18/20 [==========================>...] - ETA: 0s - loss: 0.4282 - tp: 17420.0000 - fp: 6501.0000 - tn: 11939.0000 - fn: 1004.0000 - accuracy: 0.7964 - precision: 0.7282 - recall: 0.9455 - auc: 0.8492 - prc: 0.7873"
     ]
    },
    {
     "ename": "KeyboardInterrupt",
     "evalue": "",
     "output_type": "error",
     "traceback": [
      "\u001b[1;31m---------------------------------------------------------------------------\u001b[0m",
      "\u001b[1;31mKeyboardInterrupt\u001b[0m                         Traceback (most recent call last)",
      "\u001b[1;32m~\\AppData\\Local\\Temp\\ipykernel_7232\\268491634.py\u001b[0m in \u001b[0;36m<cell line: 1>\u001b[1;34m()\u001b[0m\n\u001b[0;32m      7\u001b[0m     \u001b[0moutput_layer\u001b[0m\u001b[1;33m.\u001b[0m\u001b[0mbias\u001b[0m\u001b[1;33m.\u001b[0m\u001b[0massign\u001b[0m\u001b[1;33m(\u001b[0m\u001b[1;33m[\u001b[0m\u001b[1;36m0\u001b[0m\u001b[1;33m]\u001b[0m\u001b[1;33m)\u001b[0m\u001b[1;33m\u001b[0m\u001b[1;33m\u001b[0m\u001b[0m\n\u001b[0;32m      8\u001b[0m \u001b[1;33m\u001b[0m\u001b[0m\n\u001b[1;32m----> 9\u001b[1;33m     resampled_history = resampled_model.fit(\n\u001b[0m\u001b[0;32m     10\u001b[0m         \u001b[0mresampled_ds\u001b[0m\u001b[1;33m,\u001b[0m\u001b[1;33m\u001b[0m\u001b[1;33m\u001b[0m\u001b[0m\n\u001b[0;32m     11\u001b[0m         \u001b[1;31m# These are not real epochs\u001b[0m\u001b[1;33m\u001b[0m\u001b[1;33m\u001b[0m\u001b[0m\n",
      "\u001b[1;32m~\\anaconda3\\envs\\osy\\lib\\site-packages\\keras\\utils\\traceback_utils.py\u001b[0m in \u001b[0;36merror_handler\u001b[1;34m(*args, **kwargs)\u001b[0m\n\u001b[0;32m     63\u001b[0m         \u001b[0mfiltered_tb\u001b[0m \u001b[1;33m=\u001b[0m \u001b[1;32mNone\u001b[0m\u001b[1;33m\u001b[0m\u001b[1;33m\u001b[0m\u001b[0m\n\u001b[0;32m     64\u001b[0m         \u001b[1;32mtry\u001b[0m\u001b[1;33m:\u001b[0m\u001b[1;33m\u001b[0m\u001b[1;33m\u001b[0m\u001b[0m\n\u001b[1;32m---> 65\u001b[1;33m             \u001b[1;32mreturn\u001b[0m \u001b[0mfn\u001b[0m\u001b[1;33m(\u001b[0m\u001b[1;33m*\u001b[0m\u001b[0margs\u001b[0m\u001b[1;33m,\u001b[0m \u001b[1;33m**\u001b[0m\u001b[0mkwargs\u001b[0m\u001b[1;33m)\u001b[0m\u001b[1;33m\u001b[0m\u001b[1;33m\u001b[0m\u001b[0m\n\u001b[0m\u001b[0;32m     66\u001b[0m         \u001b[1;32mexcept\u001b[0m \u001b[0mException\u001b[0m \u001b[1;32mas\u001b[0m \u001b[0me\u001b[0m\u001b[1;33m:\u001b[0m\u001b[1;33m\u001b[0m\u001b[1;33m\u001b[0m\u001b[0m\n\u001b[0;32m     67\u001b[0m             \u001b[0mfiltered_tb\u001b[0m \u001b[1;33m=\u001b[0m \u001b[0m_process_traceback_frames\u001b[0m\u001b[1;33m(\u001b[0m\u001b[0me\u001b[0m\u001b[1;33m.\u001b[0m\u001b[0m__traceback__\u001b[0m\u001b[1;33m)\u001b[0m\u001b[1;33m\u001b[0m\u001b[1;33m\u001b[0m\u001b[0m\n",
      "\u001b[1;32m~\\anaconda3\\envs\\osy\\lib\\site-packages\\keras\\engine\\training.py\u001b[0m in \u001b[0;36mfit\u001b[1;34m(self, x, y, batch_size, epochs, verbose, callbacks, validation_split, validation_data, shuffle, class_weight, sample_weight, initial_epoch, steps_per_epoch, validation_steps, validation_batch_size, validation_freq, max_queue_size, workers, use_multiprocessing)\u001b[0m\n\u001b[0;32m   1604\u001b[0m                             \u001b[0msteps_per_execution\u001b[0m\u001b[1;33m=\u001b[0m\u001b[0mself\u001b[0m\u001b[1;33m.\u001b[0m\u001b[0m_steps_per_execution\u001b[0m\u001b[1;33m,\u001b[0m\u001b[1;33m\u001b[0m\u001b[1;33m\u001b[0m\u001b[0m\n\u001b[0;32m   1605\u001b[0m                         )\n\u001b[1;32m-> 1606\u001b[1;33m                     val_logs = self.evaluate(\n\u001b[0m\u001b[0;32m   1607\u001b[0m                         \u001b[0mx\u001b[0m\u001b[1;33m=\u001b[0m\u001b[0mval_x\u001b[0m\u001b[1;33m,\u001b[0m\u001b[1;33m\u001b[0m\u001b[1;33m\u001b[0m\u001b[0m\n\u001b[0;32m   1608\u001b[0m                         \u001b[0my\u001b[0m\u001b[1;33m=\u001b[0m\u001b[0mval_y\u001b[0m\u001b[1;33m,\u001b[0m\u001b[1;33m\u001b[0m\u001b[1;33m\u001b[0m\u001b[0m\n",
      "\u001b[1;32m~\\anaconda3\\envs\\osy\\lib\\site-packages\\keras\\utils\\traceback_utils.py\u001b[0m in \u001b[0;36merror_handler\u001b[1;34m(*args, **kwargs)\u001b[0m\n\u001b[0;32m     63\u001b[0m         \u001b[0mfiltered_tb\u001b[0m \u001b[1;33m=\u001b[0m \u001b[1;32mNone\u001b[0m\u001b[1;33m\u001b[0m\u001b[1;33m\u001b[0m\u001b[0m\n\u001b[0;32m     64\u001b[0m         \u001b[1;32mtry\u001b[0m\u001b[1;33m:\u001b[0m\u001b[1;33m\u001b[0m\u001b[1;33m\u001b[0m\u001b[0m\n\u001b[1;32m---> 65\u001b[1;33m             \u001b[1;32mreturn\u001b[0m \u001b[0mfn\u001b[0m\u001b[1;33m(\u001b[0m\u001b[1;33m*\u001b[0m\u001b[0margs\u001b[0m\u001b[1;33m,\u001b[0m \u001b[1;33m**\u001b[0m\u001b[0mkwargs\u001b[0m\u001b[1;33m)\u001b[0m\u001b[1;33m\u001b[0m\u001b[1;33m\u001b[0m\u001b[0m\n\u001b[0m\u001b[0;32m     66\u001b[0m         \u001b[1;32mexcept\u001b[0m \u001b[0mException\u001b[0m \u001b[1;32mas\u001b[0m \u001b[0me\u001b[0m\u001b[1;33m:\u001b[0m\u001b[1;33m\u001b[0m\u001b[1;33m\u001b[0m\u001b[0m\n\u001b[0;32m     67\u001b[0m             \u001b[0mfiltered_tb\u001b[0m \u001b[1;33m=\u001b[0m \u001b[0m_process_traceback_frames\u001b[0m\u001b[1;33m(\u001b[0m\u001b[0me\u001b[0m\u001b[1;33m.\u001b[0m\u001b[0m__traceback__\u001b[0m\u001b[1;33m)\u001b[0m\u001b[1;33m\u001b[0m\u001b[1;33m\u001b[0m\u001b[0m\n",
      "\u001b[1;31mKeyboardInterrupt\u001b[0m: "
     ]
    }
   ],
   "source": [
    "with tf.device('/GPU:0'):\n",
    "    resampled_model = make_model()\n",
    "    resampled_model.load_weights(initial_weights)\n",
    "\n",
    "    # Reset the bias to zero, since this dataset is balanced.\n",
    "    output_layer = resampled_model.layers[-1] \n",
    "    output_layer.bias.assign([0])\n",
    "\n",
    "    resampled_history = resampled_model.fit(\n",
    "        resampled_ds,\n",
    "        # These are not real epochs\n",
    "        steps_per_epoch=20,\n",
    "        epochs=EPOCHS,\n",
    "        validation_data=(val_ds))"
   ]
  },
  {
   "cell_type": "code",
   "execution_count": 41,
   "id": "d6ef7077",
   "metadata": {},
   "outputs": [
    {
     "name": "stdout",
     "output_type": "stream",
     "text": [
      "71905/71905 [==============================] - 113s 2ms/step\n",
      "ROC AUC: 0.85\n"
     ]
    }
   ],
   "source": [
    "y_pred_prob = resampled_model.predict(test_features)\n",
    "roc_auc = roc_auc_score(test_labels, y_pred_prob)\n",
    "print(f'ROC AUC: {roc_auc:.2f}')"
   ]
  },
  {
   "cell_type": "code",
   "execution_count": null,
   "id": "7af3e618",
   "metadata": {},
   "outputs": [],
   "source": []
  },
  {
   "cell_type": "code",
   "execution_count": 46,
   "id": "686337c3",
   "metadata": {},
   "outputs": [
    {
     "name": "stdout",
     "output_type": "stream",
     "text": [
      "239684/239684 [==============================] - 379s 2ms/step\n"
     ]
    }
   ],
   "source": [
    "y_pred_prob = resampled_model.predict(target)"
   ]
  },
  {
   "cell_type": "code",
   "execution_count": 47,
   "id": "5a0b86b0",
   "metadata": {},
   "outputs": [
    {
     "data": {
      "text/html": [
       "<div>\n",
       "<style scoped>\n",
       "    .dataframe tbody tr th:only-of-type {\n",
       "        vertical-align: middle;\n",
       "    }\n",
       "\n",
       "    .dataframe tbody tr th {\n",
       "        vertical-align: top;\n",
       "    }\n",
       "\n",
       "    .dataframe thead th {\n",
       "        text-align: right;\n",
       "    }\n",
       "</style>\n",
       "<table border=\"1\" class=\"dataframe\">\n",
       "  <thead>\n",
       "    <tr style=\"text-align: right;\">\n",
       "      <th></th>\n",
       "      <th>id</th>\n",
       "      <th>Response</th>\n",
       "    </tr>\n",
       "  </thead>\n",
       "  <tbody>\n",
       "    <tr>\n",
       "      <th>0</th>\n",
       "      <td>11504798</td>\n",
       "      <td>0.0</td>\n",
       "    </tr>\n",
       "    <tr>\n",
       "      <th>1</th>\n",
       "      <td>11504799</td>\n",
       "      <td>0.0</td>\n",
       "    </tr>\n",
       "    <tr>\n",
       "      <th>2</th>\n",
       "      <td>11504800</td>\n",
       "      <td>0.0</td>\n",
       "    </tr>\n",
       "    <tr>\n",
       "      <th>3</th>\n",
       "      <td>11504801</td>\n",
       "      <td>0.0</td>\n",
       "    </tr>\n",
       "    <tr>\n",
       "      <th>4</th>\n",
       "      <td>11504802</td>\n",
       "      <td>0.0</td>\n",
       "    </tr>\n",
       "  </tbody>\n",
       "</table>\n",
       "</div>"
      ],
      "text/plain": [
       "         id  Response\n",
       "0  11504798       0.0\n",
       "1  11504799       0.0\n",
       "2  11504800       0.0\n",
       "3  11504801       0.0\n",
       "4  11504802       0.0"
      ]
     },
     "execution_count": 47,
     "metadata": {},
     "output_type": "execute_result"
    }
   ],
   "source": [
    "submit = pd.read_csv(\"./playground-series-s4e7/sample_submission.csv\")\n",
    "pred = y_pred_prob\n",
    "submit[\"Response\"] = pred\n",
    "submit.to_csv(\"submission_DNN.csv\", index=False)\n",
    "submit.head()"
   ]
  },
  {
   "cell_type": "code",
   "execution_count": null,
   "id": "1e496d73",
   "metadata": {},
   "outputs": [],
   "source": []
  }
 ],
 "metadata": {
  "kernelspec": {
   "display_name": "Python 3 (ipykernel)",
   "language": "python",
   "name": "python3"
  },
  "language_info": {
   "codemirror_mode": {
    "name": "ipython",
    "version": 3
   },
   "file_extension": ".py",
   "mimetype": "text/x-python",
   "name": "python",
   "nbconvert_exporter": "python",
   "pygments_lexer": "ipython3",
   "version": "3.9.16"
  }
 },
 "nbformat": 4,
 "nbformat_minor": 5
}
