{
 "cells": [
  {
   "cell_type": "code",
   "execution_count": 44,
   "id": "208ac8e8",
   "metadata": {},
   "outputs": [],
   "source": [
    "import tensorflow as tf\n",
    "from tensorflow import keras\n",
    "import matplotlib as mpl\n",
    "import matplotlib.pyplot as plt\n",
    "import numpy as np\n",
    "import pandas as pd\n",
    "import seaborn as sns\n",
    "import sklearn\n",
    "import random\n",
    "from sklearn.metrics import confusion_matrix\n",
    "from sklearn.model_selection import train_test_split\n",
    "from sklearn.preprocessing import StandardScaler\n",
    "from sklearn.metrics import roc_auc_score\n",
    "from sklearn.preprocessing import LabelEncoder\n",
    "import os\n",
    "import tempfile"
   ]
  },
  {
   "cell_type": "code",
   "execution_count": 45,
   "id": "da066e1b",
   "metadata": {},
   "outputs": [
    {
     "data": {
      "text/plain": [
       "[name: \"/device:CPU:0\"\n",
       " device_type: \"CPU\"\n",
       " memory_limit: 268435456\n",
       " locality {\n",
       " }\n",
       " incarnation: 11972072173442745435\n",
       " xla_global_id: -1,\n",
       " name: \"/device:GPU:0\"\n",
       " device_type: \"GPU\"\n",
       " memory_limit: 1734816564\n",
       " locality {\n",
       "   bus_id: 1\n",
       "   links {\n",
       "   }\n",
       " }\n",
       " incarnation: 4182668153557217124\n",
       " physical_device_desc: \"device: 0, name: NVIDIA GeForce RTX 3050 Laptop GPU, pci bus id: 0000:01:00.0, compute capability: 8.6\"\n",
       " xla_global_id: 416903419]"
      ]
     },
     "execution_count": 45,
     "metadata": {},
     "output_type": "execute_result"
    }
   ],
   "source": [
    "from tensorflow.python.client import device_lib\n",
    "device_lib.list_local_devices()"
   ]
  },
  {
   "cell_type": "code",
   "execution_count": 46,
   "id": "18fecc5c",
   "metadata": {},
   "outputs": [],
   "source": [
    "def my_seed_everywhere(seed: int = 42):\n",
    "    random.seed(seed) # random\n",
    "    np.random.seed(seed) # np\n",
    "    os.environ[\"PYTHONHASHSEED\"] = str(seed) # os\n",
    "    tf.random.set_seed(seed) # tensorflow\n",
    "\n",
    "my_seed = 42\n",
    "my_seed_everywhere(my_seed)"
   ]
  },
  {
   "cell_type": "code",
   "execution_count": 47,
   "id": "ae2a45fa",
   "metadata": {},
   "outputs": [],
   "source": [
    "train = pd.read_csv(\"./playground-series-s4e7/train.csv\")\n",
    "target = pd.read_csv(\"./playground-series-s4e7/test.csv\")"
   ]
  },
  {
   "cell_type": "code",
   "execution_count": 48,
   "id": "8272b063",
   "metadata": {},
   "outputs": [
    {
     "name": "stdout",
     "output_type": "stream",
     "text": [
      "Examples:\n",
      "    Total: 11504798\n",
      "    Positive: 1415059 (12.30% of total)\n",
      "\n"
     ]
    }
   ],
   "source": [
    "neg, pos = np.bincount(train['Response'])\n",
    "total = neg + pos\n",
    "print('Examples:\\n    Total: {}\\n    Positive: {} ({:.2f}% of total)\\n'.format(\n",
    "    total, pos, 100 * pos / total))"
   ]
  },
  {
   "cell_type": "code",
   "execution_count": 49,
   "id": "efc483d3",
   "metadata": {},
   "outputs": [],
   "source": [
    "category_columns = train.select_dtypes(include=\"object\").columns\n",
    "category_columns = category_columns.tolist()\n",
    "\n",
    "def label_encoding(df):\n",
    "    # Instance of LabelEncoder\n",
    "    label_encoders = {col: LabelEncoder() for col in category_columns}\n",
    "\n",
    "    # Label Encoding\n",
    "    for col in category_columns:\n",
    "        df[col] = label_encoders[col].fit_transform(df[col])\n",
    "\n",
    "label_encoding(train)"
   ]
  },
  {
   "cell_type": "code",
   "execution_count": 50,
   "id": "14a8a2bd",
   "metadata": {},
   "outputs": [],
   "source": [
    "category_columns = target.select_dtypes(include=\"object\").columns\n",
    "category_columns = category_columns.tolist()\n",
    "\n",
    "def label_encoding(df):\n",
    "    # Instance of LabelEncoder\n",
    "    label_encoders = {col: LabelEncoder() for col in category_columns}\n",
    "\n",
    "    # Label Encoding\n",
    "    for col in category_columns:\n",
    "        df[col] = label_encoders[col].fit_transform(df[col])\n",
    "\n",
    "label_encoding(target)"
   ]
  },
  {
   "cell_type": "code",
   "execution_count": 51,
   "id": "3bb962bb",
   "metadata": {},
   "outputs": [],
   "source": [
    "train = train.drop(columns=['id'])\n",
    "target = target.drop(columns=['id'])"
   ]
  },
  {
   "cell_type": "code",
   "execution_count": 52,
   "id": "337a9c8e",
   "metadata": {},
   "outputs": [
    {
     "data": {
      "text/html": [
       "<div>\n",
       "<style scoped>\n",
       "    .dataframe tbody tr th:only-of-type {\n",
       "        vertical-align: middle;\n",
       "    }\n",
       "\n",
       "    .dataframe tbody tr th {\n",
       "        vertical-align: top;\n",
       "    }\n",
       "\n",
       "    .dataframe thead th {\n",
       "        text-align: right;\n",
       "    }\n",
       "</style>\n",
       "<table border=\"1\" class=\"dataframe\">\n",
       "  <thead>\n",
       "    <tr style=\"text-align: right;\">\n",
       "      <th></th>\n",
       "      <th>Gender</th>\n",
       "      <th>Age</th>\n",
       "      <th>Driving_License</th>\n",
       "      <th>Region_Code</th>\n",
       "      <th>Previously_Insured</th>\n",
       "      <th>Vehicle_Age</th>\n",
       "      <th>Vehicle_Damage</th>\n",
       "      <th>Annual_Premium</th>\n",
       "      <th>Policy_Sales_Channel</th>\n",
       "      <th>Vintage</th>\n",
       "    </tr>\n",
       "  </thead>\n",
       "  <tbody>\n",
       "    <tr>\n",
       "      <th>0</th>\n",
       "      <td>0</td>\n",
       "      <td>20</td>\n",
       "      <td>1</td>\n",
       "      <td>47.0</td>\n",
       "      <td>0</td>\n",
       "      <td>1</td>\n",
       "      <td>0</td>\n",
       "      <td>2630.0</td>\n",
       "      <td>160.0</td>\n",
       "      <td>228</td>\n",
       "    </tr>\n",
       "    <tr>\n",
       "      <th>1</th>\n",
       "      <td>1</td>\n",
       "      <td>47</td>\n",
       "      <td>1</td>\n",
       "      <td>28.0</td>\n",
       "      <td>0</td>\n",
       "      <td>0</td>\n",
       "      <td>1</td>\n",
       "      <td>37483.0</td>\n",
       "      <td>124.0</td>\n",
       "      <td>123</td>\n",
       "    </tr>\n",
       "    <tr>\n",
       "      <th>2</th>\n",
       "      <td>1</td>\n",
       "      <td>47</td>\n",
       "      <td>1</td>\n",
       "      <td>43.0</td>\n",
       "      <td>0</td>\n",
       "      <td>0</td>\n",
       "      <td>1</td>\n",
       "      <td>2630.0</td>\n",
       "      <td>26.0</td>\n",
       "      <td>271</td>\n",
       "    </tr>\n",
       "    <tr>\n",
       "      <th>3</th>\n",
       "      <td>0</td>\n",
       "      <td>22</td>\n",
       "      <td>1</td>\n",
       "      <td>47.0</td>\n",
       "      <td>1</td>\n",
       "      <td>1</td>\n",
       "      <td>0</td>\n",
       "      <td>24502.0</td>\n",
       "      <td>152.0</td>\n",
       "      <td>115</td>\n",
       "    </tr>\n",
       "    <tr>\n",
       "      <th>4</th>\n",
       "      <td>1</td>\n",
       "      <td>51</td>\n",
       "      <td>1</td>\n",
       "      <td>19.0</td>\n",
       "      <td>0</td>\n",
       "      <td>0</td>\n",
       "      <td>0</td>\n",
       "      <td>34115.0</td>\n",
       "      <td>124.0</td>\n",
       "      <td>148</td>\n",
       "    </tr>\n",
       "    <tr>\n",
       "      <th>...</th>\n",
       "      <td>...</td>\n",
       "      <td>...</td>\n",
       "      <td>...</td>\n",
       "      <td>...</td>\n",
       "      <td>...</td>\n",
       "      <td>...</td>\n",
       "      <td>...</td>\n",
       "      <td>...</td>\n",
       "      <td>...</td>\n",
       "      <td>...</td>\n",
       "    </tr>\n",
       "    <tr>\n",
       "      <th>7669861</th>\n",
       "      <td>1</td>\n",
       "      <td>57</td>\n",
       "      <td>1</td>\n",
       "      <td>28.0</td>\n",
       "      <td>0</td>\n",
       "      <td>0</td>\n",
       "      <td>1</td>\n",
       "      <td>51661.0</td>\n",
       "      <td>124.0</td>\n",
       "      <td>109</td>\n",
       "    </tr>\n",
       "    <tr>\n",
       "      <th>7669862</th>\n",
       "      <td>1</td>\n",
       "      <td>28</td>\n",
       "      <td>1</td>\n",
       "      <td>50.0</td>\n",
       "      <td>1</td>\n",
       "      <td>1</td>\n",
       "      <td>0</td>\n",
       "      <td>25651.0</td>\n",
       "      <td>152.0</td>\n",
       "      <td>184</td>\n",
       "    </tr>\n",
       "    <tr>\n",
       "      <th>7669863</th>\n",
       "      <td>1</td>\n",
       "      <td>47</td>\n",
       "      <td>1</td>\n",
       "      <td>33.0</td>\n",
       "      <td>1</td>\n",
       "      <td>0</td>\n",
       "      <td>0</td>\n",
       "      <td>2630.0</td>\n",
       "      <td>138.0</td>\n",
       "      <td>63</td>\n",
       "    </tr>\n",
       "    <tr>\n",
       "      <th>7669864</th>\n",
       "      <td>1</td>\n",
       "      <td>30</td>\n",
       "      <td>1</td>\n",
       "      <td>28.0</td>\n",
       "      <td>0</td>\n",
       "      <td>1</td>\n",
       "      <td>1</td>\n",
       "      <td>38866.0</td>\n",
       "      <td>124.0</td>\n",
       "      <td>119</td>\n",
       "    </tr>\n",
       "    <tr>\n",
       "      <th>7669865</th>\n",
       "      <td>1</td>\n",
       "      <td>23</td>\n",
       "      <td>1</td>\n",
       "      <td>46.0</td>\n",
       "      <td>1</td>\n",
       "      <td>1</td>\n",
       "      <td>0</td>\n",
       "      <td>27498.0</td>\n",
       "      <td>152.0</td>\n",
       "      <td>79</td>\n",
       "    </tr>\n",
       "  </tbody>\n",
       "</table>\n",
       "<p>7669866 rows × 10 columns</p>\n",
       "</div>"
      ],
      "text/plain": [
       "         Gender  Age  Driving_License  Region_Code  Previously_Insured  \\\n",
       "0             0   20                1         47.0                   0   \n",
       "1             1   47                1         28.0                   0   \n",
       "2             1   47                1         43.0                   0   \n",
       "3             0   22                1         47.0                   1   \n",
       "4             1   51                1         19.0                   0   \n",
       "...         ...  ...              ...          ...                 ...   \n",
       "7669861       1   57                1         28.0                   0   \n",
       "7669862       1   28                1         50.0                   1   \n",
       "7669863       1   47                1         33.0                   1   \n",
       "7669864       1   30                1         28.0                   0   \n",
       "7669865       1   23                1         46.0                   1   \n",
       "\n",
       "         Vehicle_Age  Vehicle_Damage  Annual_Premium  Policy_Sales_Channel  \\\n",
       "0                  1               0          2630.0                 160.0   \n",
       "1                  0               1         37483.0                 124.0   \n",
       "2                  0               1          2630.0                  26.0   \n",
       "3                  1               0         24502.0                 152.0   \n",
       "4                  0               0         34115.0                 124.0   \n",
       "...              ...             ...             ...                   ...   \n",
       "7669861            0               1         51661.0                 124.0   \n",
       "7669862            1               0         25651.0                 152.0   \n",
       "7669863            0               0          2630.0                 138.0   \n",
       "7669864            1               1         38866.0                 124.0   \n",
       "7669865            1               0         27498.0                 152.0   \n",
       "\n",
       "         Vintage  \n",
       "0            228  \n",
       "1            123  \n",
       "2            271  \n",
       "3            115  \n",
       "4            148  \n",
       "...          ...  \n",
       "7669861      109  \n",
       "7669862      184  \n",
       "7669863       63  \n",
       "7669864      119  \n",
       "7669865       79  \n",
       "\n",
       "[7669866 rows x 10 columns]"
      ]
     },
     "execution_count": 52,
     "metadata": {},
     "output_type": "execute_result"
    }
   ],
   "source": [
    "target"
   ]
  },
  {
   "cell_type": "code",
   "execution_count": 53,
   "id": "75bfe93c",
   "metadata": {},
   "outputs": [],
   "source": [
    "# Use a utility from sklearn to split and shuffle your dataset.\n",
    "train_df, test_df = train_test_split(train, test_size=0.2)\n",
    "train_df, val_df = train_test_split(train_df, test_size=0.2)\n",
    "\n",
    "# Form np arrays of labels and features.\n",
    "train_labels = np.array(train_df.pop('Response'))\n",
    "bool_train_labels = train_labels != 0\n",
    "val_labels = np.array(val_df.pop('Response'))\n",
    "test_labels = np.array(test_df.pop('Response'))\n",
    "\n",
    "train_features = np.array(train_df)\n",
    "val_features = np.array(val_df)\n",
    "test_features = np.array(test_df)"
   ]
  },
  {
   "cell_type": "code",
   "execution_count": 54,
   "id": "f3fe3798",
   "metadata": {},
   "outputs": [
    {
     "name": "stderr",
     "output_type": "stream",
     "text": [
      "C:\\Users\\OSY\\anaconda3\\envs\\osy\\lib\\site-packages\\sklearn\\base.py:432: UserWarning: X has feature names, but StandardScaler was fitted without feature names\n",
      "  warnings.warn(\n"
     ]
    },
    {
     "name": "stdout",
     "output_type": "stream",
     "text": [
      "Training labels shape: (7363070,)\n",
      "Validation labels shape: (1840768,)\n",
      "Test labels shape: (2300960,)\n",
      "Training features shape: (7363070, 10)\n",
      "Validation features shape: (1840768, 10)\n",
      "Test features shape: (2300960, 10)\n",
      "Target features shape: (7669866, 10)\n"
     ]
    }
   ],
   "source": [
    "scaler = StandardScaler()\n",
    "train_features = scaler.fit_transform(train_features)\n",
    "\n",
    "val_features = scaler.transform(val_features)\n",
    "test_features = scaler.transform(test_features)\n",
    "target_features = scaler.transform(target)\n",
    "\n",
    "train_features = np.clip(train_features, -5, 5)\n",
    "val_features = np.clip(val_features, -5, 5)\n",
    "test_features = np.clip(test_features, -5, 5)\n",
    "\n",
    "\n",
    "print('Training labels shape:', train_labels.shape)\n",
    "print('Validation labels shape:', val_labels.shape)\n",
    "print('Test labels shape:', test_labels.shape)\n",
    "\n",
    "print('Training features shape:', train_features.shape)\n",
    "print('Validation features shape:', val_features.shape)\n",
    "print('Test features shape:', test_features.shape)\n",
    "print('Target features shape:', target_features.shape)"
   ]
  },
  {
   "cell_type": "code",
   "execution_count": 55,
   "id": "0e0d23f7",
   "metadata": {},
   "outputs": [],
   "source": [
    "import tensorflow as tf\n",
    "from tensorflow import keras\n",
    "\n",
    "# Define the metrics\n",
    "METRICS = [\n",
    "    keras.metrics.TruePositives(name='tp'),\n",
    "    keras.metrics.FalsePositives(name='fp'),\n",
    "    keras.metrics.TrueNegatives(name='tn'),\n",
    "    keras.metrics.FalseNegatives(name='fn'),\n",
    "    keras.metrics.BinaryAccuracy(name='accuracy'),\n",
    "    keras.metrics.Precision(name='precision'),\n",
    "    keras.metrics.Recall(name='recall'),\n",
    "    keras.metrics.AUC(name='auc'),\n",
    "    keras.metrics.AUC(name='prc', curve='PR'),  # precision-recall curve\n",
    "]\n",
    "\n",
    "def make_model(metrics=METRICS, output_bias=None):\n",
    "    if output_bias is not None:\n",
    "        output_bias = tf.keras.initializers.Constant(output_bias)\n",
    "    \n",
    "    model = keras.Sequential([\n",
    "        keras.layers.Dense(\n",
    "            8, activation='relu',\n",
    "            input_shape=(train_features.shape[-1],)\n",
    "        ),\n",
    "        keras.layers.Dropout(0.5),\n",
    "        keras.layers.Dense(\n",
    "            1, activation='sigmoid',\n",
    "            bias_initializer=output_bias\n",
    "        ),\n",
    "    ])\n",
    "\n",
    "    model.compile(\n",
    "        optimizer=keras.optimizers.Adam(learning_rate=1e-3),\n",
    "        loss=keras.losses.BinaryCrossentropy(),\n",
    "        metrics=metrics\n",
    "    )\n",
    "\n",
    "    return model\n"
   ]
  },
  {
   "cell_type": "code",
   "execution_count": 57,
   "id": "b2fa6a97",
   "metadata": {},
   "outputs": [],
   "source": [
    "# Define the metrics\n",
    "METRICS = [\n",
    "    keras.metrics.TruePositives(name='tp'),\n",
    "    keras.metrics.FalsePositives(name='fp'),\n",
    "    keras.metrics.TrueNegatives(name='tn'),\n",
    "    keras.metrics.FalseNegatives(name='fn'),\n",
    "    keras.metrics.BinaryAccuracy(name='accuracy'),\n",
    "    keras.metrics.Precision(name='precision'),\n",
    "    keras.metrics.Recall(name='recall'),\n",
    "    keras.metrics.AUC(name='auc'),\n",
    "    keras.metrics.AUC(name='prc', curve='PR'),  # precision-recall curve\n",
    "]\n",
    "def make_model(metrics=METRICS, output_bias=None):\n",
    "    if output_bias is not None:\n",
    "        output_bias = tf.keras.initializers.Constant(output_bias)\n",
    "    \n",
    "    model = keras.Sequential([\n",
    "    keras.layers.Dense(10, activation='relu', input_shape=(train_features.shape[-1],)),\n",
    "    \n",
    "    keras.layers.Dropout(0.3),\n",
    "    # 두 번째 은닉층: 12개의 뉴런, ReLU 활성화 함수\n",
    "    keras.layers.Dense(10, activation='relu'),\n",
    "    \n",
    "    # 드롭아웃 레이어: 50%의 뉴런을 랜덤하게 비활성화\n",
    "    keras.layers.Dropout(0.3),\n",
    "    \n",
    "    # 세 번째 은닉층: 8개의 뉴런, ReLU 활성화 함수\n",
    "    keras.layers.Dense(5, activation='relu'),\n",
    "    \n",
    "    # 출력층: 1개의 뉴런, 시그모이드 활성화 함수, 바이어스 초기화\n",
    "    keras.layers.Dense(1, activation='sigmoid', bias_initializer=output_bias),\n",
    "    ])\n",
    "\n",
    "    model.compile(\n",
    "        optimizer=keras.optimizers.Adam(learning_rate=1e-3),\n",
    "        loss=keras.losses.BinaryCrossentropy(),\n",
    "        metrics=metrics\n",
    "    )\n",
    "\n",
    "    return model"
   ]
  },
  {
   "cell_type": "code",
   "execution_count": 58,
   "id": "734679bc",
   "metadata": {},
   "outputs": [],
   "source": [
    "EPOCHS = 100\n",
    "BATCH_SIZE = 1024\n",
    "\n",
    "early_stopping = tf.keras.callbacks.EarlyStopping(\n",
    "    monitor='val_prc', \n",
    "    verbose=1,\n",
    "    patience=10,\n",
    "    mode='max',\n",
    "    restore_best_weights=True)"
   ]
  },
  {
   "cell_type": "code",
   "execution_count": 59,
   "id": "b770323d",
   "metadata": {},
   "outputs": [
    {
     "name": "stdout",
     "output_type": "stream",
     "text": [
      "Model: \"sequential_4\"\n",
      "_________________________________________________________________\n",
      " Layer (type)                Output Shape              Param #   \n",
      "=================================================================\n",
      " dense_16 (Dense)            (None, 10)                110       \n",
      "                                                                 \n",
      " dropout_4 (Dropout)         (None, 10)                0         \n",
      "                                                                 \n",
      " dense_17 (Dense)            (None, 10)                110       \n",
      "                                                                 \n",
      " dropout_5 (Dropout)         (None, 10)                0         \n",
      "                                                                 \n",
      " dense_18 (Dense)            (None, 5)                 55        \n",
      "                                                                 \n",
      " dense_19 (Dense)            (None, 1)                 6         \n",
      "                                                                 \n",
      "=================================================================\n",
      "Total params: 281\n",
      "Trainable params: 281\n",
      "Non-trainable params: 0\n",
      "_________________________________________________________________\n"
     ]
    }
   ],
   "source": [
    "model = make_model()\n",
    "model.summary()"
   ]
  },
  {
   "cell_type": "code",
   "execution_count": 60,
   "id": "067aa4d6",
   "metadata": {
    "scrolled": true
   },
   "outputs": [
    {
     "name": "stdout",
     "output_type": "stream",
     "text": [
      "1/1 [==============================] - 0s 97ms/step\n"
     ]
    },
    {
     "data": {
      "text/plain": [
       "array([[0.847736  ],\n",
       "       [0.8911819 ],\n",
       "       [0.8697873 ],\n",
       "       [0.85211194],\n",
       "       [0.87210953],\n",
       "       [0.8629155 ],\n",
       "       [0.8649453 ],\n",
       "       [0.93545765],\n",
       "       [0.9094263 ],\n",
       "       [0.8710841 ]], dtype=float32)"
      ]
     },
     "execution_count": 60,
     "metadata": {},
     "output_type": "execute_result"
    }
   ],
   "source": [
    "model.predict(train_features[:10])"
   ]
  },
  {
   "cell_type": "code",
   "execution_count": 61,
   "id": "f49112bc",
   "metadata": {},
   "outputs": [
    {
     "name": "stdout",
     "output_type": "stream",
     "text": [
      "Loss: 1.9317\n"
     ]
    }
   ],
   "source": [
    "results = model.evaluate(train_features, train_labels, batch_size=BATCH_SIZE, verbose=0)\n",
    "print(\"Loss: {:0.4f}\".format(results[0]))"
   ]
  },
  {
   "cell_type": "code",
   "execution_count": 62,
   "id": "a2df2470",
   "metadata": {},
   "outputs": [
    {
     "data": {
      "text/plain": [
       "array([-1.96434774])"
      ]
     },
     "execution_count": 62,
     "metadata": {},
     "output_type": "execute_result"
    }
   ],
   "source": [
    "initial_bias = np.log([pos/neg])\n",
    "initial_bias"
   ]
  },
  {
   "cell_type": "code",
   "execution_count": 63,
   "id": "01e0fdc9",
   "metadata": {},
   "outputs": [
    {
     "name": "stdout",
     "output_type": "stream",
     "text": [
      "1/1 [==============================] - 0s 100ms/step\n"
     ]
    },
    {
     "data": {
      "text/plain": [
       "array([[0.34234032],\n",
       "       [0.2572313 ],\n",
       "       [0.27695364],\n",
       "       [0.44368958],\n",
       "       [0.2996594 ],\n",
       "       [0.24795197],\n",
       "       [0.38128504],\n",
       "       [0.3003234 ],\n",
       "       [0.18064061],\n",
       "       [0.14544916]], dtype=float32)"
      ]
     },
     "execution_count": 63,
     "metadata": {},
     "output_type": "execute_result"
    }
   ],
   "source": [
    "model = make_model(output_bias=initial_bias)\n",
    "model.predict(train_features[:10])"
   ]
  },
  {
   "cell_type": "code",
   "execution_count": 64,
   "id": "8a4cd23f",
   "metadata": {},
   "outputs": [
    {
     "name": "stdout",
     "output_type": "stream",
     "text": [
      "Loss: 0.4594\n"
     ]
    }
   ],
   "source": [
    "results = model.evaluate(train_features, train_labels, batch_size=BATCH_SIZE, verbose=0)\n",
    "print(\"Loss: {:0.4f}\".format(results[0]))"
   ]
  },
  {
   "cell_type": "code",
   "execution_count": 65,
   "id": "bd78f6af",
   "metadata": {},
   "outputs": [],
   "source": [
    "initial_weights = os.path.join(tempfile.mkdtemp(), 'initial_weights')\n",
    "model.save_weights(initial_weights)"
   ]
  },
  {
   "cell_type": "code",
   "execution_count": 66,
   "id": "1b412d32",
   "metadata": {},
   "outputs": [
    {
     "name": "stdout",
     "output_type": "stream",
     "text": [
      "Weight for class 0: 0.57\n",
      "Weight for class 1: 4.07\n"
     ]
    }
   ],
   "source": [
    "weight_for_0 = (1 / neg) * (total / 2.0)\n",
    "weight_for_1 = (1 / pos) * (total / 2.0)\n",
    "\n",
    "class_weight = {0: weight_for_0, 1: weight_for_1}\n",
    "\n",
    "print('Weight for class 0: {:.2f}'.format(weight_for_0))\n",
    "print('Weight for class 1: {:.2f}'.format(weight_for_1))"
   ]
  },
  {
   "cell_type": "code",
   "execution_count": 67,
   "id": "d72e8fca",
   "metadata": {},
   "outputs": [],
   "source": [
    "# with tf.device('/GPU:0'):\n",
    "#     model = make_model()\n",
    "#     model.load_weights(initial_weights)\n",
    "#     baseline_history = model.fit(\n",
    "#         train_features,\n",
    "#         train_labels,\n",
    "#         batch_size=BATCH_SIZE,\n",
    "#         epochs=EPOCHS,\n",
    "#         callbacks=[early_stopping],\n",
    "#         validation_data=(val_features, val_labels))"
   ]
  },
  {
   "cell_type": "code",
   "execution_count": 68,
   "id": "32792610",
   "metadata": {
    "scrolled": true
   },
   "outputs": [
    {
     "name": "stdout",
     "output_type": "stream",
     "text": [
      "Epoch 1/100\n",
      "7191/7191 [==============================] - 67s 9ms/step - loss: 0.4614 - tp: 1789718.0000 - fp: 8933821.0000 - tn: 10439033.0000 - fn: 926638.0000 - accuracy: 0.5536 - precision: 0.1669 - recall: 0.6589 - auc: 0.6039 - prc: 0.1403 - val_loss: 0.3448 - val_tp: 179286.0000 - val_fp: 392018.0000 - val_tn: 1222327.0000 - val_fn: 47137.0000 - val_accuracy: 0.7614 - val_precision: 0.3138 - val_recall: 0.7918 - val_auc: 0.8475 - val_prc: 0.3415\n",
      "Epoch 2/100\n",
      "7191/7191 [==============================] - 65s 9ms/step - loss: 0.4433 - tp: 835495.0000 - fp: 2234081.0000 - tn: 4223537.0000 - fn: 69957.0000 - accuracy: 0.6871 - precision: 0.2722 - recall: 0.9227 - auc: 0.8388 - prc: 0.3261 - val_loss: 0.3360 - val_tp: 158067.0000 - val_fp: 325724.0000 - val_tn: 1288621.0000 - val_fn: 68356.0000 - val_accuracy: 0.7859 - val_precision: 0.3267 - val_recall: 0.6981 - val_auc: 0.8482 - val_prc: 0.3413\n",
      "Epoch 3/100\n",
      "7191/7191 [==============================] - 65s 9ms/step - loss: 0.4404 - tp: 839378.0000 - fp: 2246302.0000 - tn: 4211316.0000 - fn: 66074.0000 - accuracy: 0.6859 - precision: 0.2720 - recall: 0.9270 - auc: 0.8399 - prc: 0.3284 - val_loss: 0.3262 - val_tp: 137954.0000 - val_fp: 274793.0000 - val_tn: 1339552.0000 - val_fn: 88469.0000 - val_accuracy: 0.8027 - val_precision: 0.3342 - val_recall: 0.6093 - val_auc: 0.8477 - val_prc: 0.3407\n",
      "Epoch 4/100\n",
      "7191/7191 [==============================] - 66s 9ms/step - loss: 0.4388 - tp: 841945.0000 - fp: 2256285.0000 - tn: 4201333.0000 - fn: 63507.0000 - accuracy: 0.6849 - precision: 0.2718 - recall: 0.9299 - auc: 0.8405 - prc: 0.3289 - val_loss: 0.3150 - val_tp: 89747.0000 - val_fp: 170251.0000 - val_tn: 1444094.0000 - val_fn: 136676.0000 - val_accuracy: 0.8333 - val_precision: 0.3452 - val_recall: 0.3964 - val_auc: 0.8470 - val_prc: 0.3386\n",
      "Epoch 5/100\n",
      "7191/7191 [==============================] - 65s 9ms/step - loss: 0.4382 - tp: 841825.0000 - fp: 2252929.0000 - tn: 4204689.0000 - fn: 63627.0000 - accuracy: 0.6854 - precision: 0.2720 - recall: 0.9297 - auc: 0.8408 - prc: 0.3286 - val_loss: 0.3098 - val_tp: 63419.0000 - val_fp: 121162.0000 - val_tn: 1493183.0000 - val_fn: 163004.0000 - val_accuracy: 0.8456 - val_precision: 0.3436 - val_recall: 0.2801 - val_auc: 0.8473 - val_prc: 0.3383\n",
      "Epoch 6/100\n",
      "7191/7191 [==============================] - 63s 9ms/step - loss: 0.4381 - tp: 842249.0000 - fp: 2252874.0000 - tn: 4204744.0000 - fn: 63203.0000 - accuracy: 0.6854 - precision: 0.2721 - recall: 0.9302 - auc: 0.8408 - prc: 0.3284 - val_loss: 0.2993 - val_tp: 35472.0000 - val_fp: 68814.0000 - val_tn: 1545531.0000 - val_fn: 190951.0000 - val_accuracy: 0.8589 - val_precision: 0.3401 - val_recall: 0.1567 - val_auc: 0.8468 - val_prc: 0.3369\n",
      "Epoch 7/100\n",
      "7191/7191 [==============================] - 64s 9ms/step - loss: 0.4381 - tp: 842299.0000 - fp: 2255345.0000 - tn: 4202273.0000 - fn: 63153.0000 - accuracy: 0.6851 - precision: 0.2719 - recall: 0.9303 - auc: 0.8407 - prc: 0.3280 - val_loss: 0.3033 - val_tp: 44890.0000 - val_fp: 88122.0000 - val_tn: 1526223.0000 - val_fn: 181533.0000 - val_accuracy: 0.8535 - val_precision: 0.3375 - val_recall: 0.1983 - val_auc: 0.8467 - val_prc: 0.3376\n",
      "Epoch 8/100\n",
      "7191/7191 [==============================] - 64s 9ms/step - loss: 0.4382 - tp: 841721.0000 - fp: 2249697.0000 - tn: 4207921.0000 - fn: 63731.0000 - accuracy: 0.6858 - precision: 0.2723 - recall: 0.9296 - auc: 0.8406 - prc: 0.3278 - val_loss: 0.3027 - val_tp: 38578.0000 - val_fp: 74401.0000 - val_tn: 1539944.0000 - val_fn: 187845.0000 - val_accuracy: 0.8575 - val_precision: 0.3415 - val_recall: 0.1704 - val_auc: 0.8434 - val_prc: 0.3314\n",
      "Epoch 9/100\n",
      "7191/7191 [==============================] - 65s 9ms/step - loss: 0.4379 - tp: 842201.0000 - fp: 2253657.0000 - tn: 4203961.0000 - fn: 63251.0000 - accuracy: 0.6853 - precision: 0.2720 - recall: 0.9301 - auc: 0.8409 - prc: 0.3280 - val_loss: 0.2932 - val_tp: 23721.0000 - val_fp: 38329.0000 - val_tn: 1576016.0000 - val_fn: 202702.0000 - val_accuracy: 0.8691 - val_precision: 0.3823 - val_recall: 0.1048 - val_auc: 0.8466 - val_prc: 0.3367\n",
      "Epoch 10/100\n",
      "7191/7191 [==============================] - 64s 9ms/step - loss: 0.4379 - tp: 841993.0000 - fp: 2250869.0000 - tn: 4206749.0000 - fn: 63459.0000 - accuracy: 0.6857 - precision: 0.2722 - recall: 0.9299 - auc: 0.8409 - prc: 0.3280 - val_loss: 0.2930 - val_tp: 23238.0000 - val_fp: 37827.0000 - val_tn: 1576518.0000 - val_fn: 203185.0000 - val_accuracy: 0.8691 - val_precision: 0.3805 - val_recall: 0.1026 - val_auc: 0.8466 - val_prc: 0.3375\n",
      "Epoch 11/100\n",
      "7186/7191 [============================>.] - ETA: 0s - loss: 0.4379 - tp: 842068.0000 - fp: 2253186.0000 - tn: 4200389.0000 - fn: 62821.0000 - accuracy: 0.6853 - precision: 0.2721 - recall: 0.9306 - auc: 0.8409 - prc: 0.3283Restoring model weights from the end of the best epoch: 1.\n",
      "7191/7191 [==============================] - 65s 9ms/step - loss: 0.4379 - tp: 842588.0000 - fp: 2254587.0000 - tn: 4203031.0000 - fn: 62864.0000 - accuracy: 0.6853 - precision: 0.2721 - recall: 0.9306 - auc: 0.8409 - prc: 0.3283 - val_loss: 0.2942 - val_tp: 26997.0000 - val_fp: 45243.0000 - val_tn: 1569102.0000 - val_fn: 199426.0000 - val_accuracy: 0.8671 - val_precision: 0.3737 - val_recall: 0.1192 - val_auc: 0.8462 - val_prc: 0.3368\n",
      "Epoch 11: early stopping\n"
     ]
    }
   ],
   "source": [
    "with tf.device('/GPU:0'):\n",
    "    weighted_model = make_model()\n",
    "    weighted_model.load_weights(initial_weights)\n",
    "\n",
    "    weighted_history = weighted_model.fit(\n",
    "        train_features,\n",
    "        train_labels,\n",
    "        batch_size=BATCH_SIZE,\n",
    "        epochs=EPOCHS,\n",
    "        callbacks=[early_stopping],\n",
    "        validation_data=(val_features, val_labels),\n",
    "        class_weight=class_weight)"
   ]
  },
  {
   "cell_type": "code",
   "execution_count": 69,
   "id": "760ba878",
   "metadata": {},
   "outputs": [
    {
     "name": "stdout",
     "output_type": "stream",
     "text": [
      "71905/71905 [==============================] - 110s 2ms/step\n",
      "ROC AUC: 0.85\n"
     ]
    }
   ],
   "source": [
    "y_pred_prob = weighted_model.predict(test_features).ravel()\n",
    "roc_auc = roc_auc_score(test_labels, y_pred_prob)\n",
    "print(f'ROC AUC: {roc_auc:.2f}')"
   ]
  },
  {
   "cell_type": "code",
   "execution_count": null,
   "id": "181a2ff3",
   "metadata": {},
   "outputs": [],
   "source": []
  }
 ],
 "metadata": {
  "kernelspec": {
   "display_name": "Python 3 (ipykernel)",
   "language": "python",
   "name": "python3"
  },
  "language_info": {
   "codemirror_mode": {
    "name": "ipython",
    "version": 3
   },
   "file_extension": ".py",
   "mimetype": "text/x-python",
   "name": "python",
   "nbconvert_exporter": "python",
   "pygments_lexer": "ipython3",
   "version": "3.9.16"
  }
 },
 "nbformat": 4,
 "nbformat_minor": 5
}
