{
 "cells": [
  {
   "cell_type": "code",
   "execution_count": 1,
   "id": "f731cbfd",
   "metadata": {},
   "outputs": [],
   "source": [
    "import pandas as pd\n",
    "import numpy as np\n",
    "import matplotlib.pyplot as plt\n",
    "from sklearn.preprocessing import LabelEncoder"
   ]
  },
  {
   "cell_type": "code",
   "execution_count": 2,
   "id": "158bc8d4",
   "metadata": {},
   "outputs": [],
   "source": [
    "from sklearn.ensemble import GradientBoostingClassifier\n",
    "from sklearn.model_selection import train_test_split \n",
    "from sklearn.preprocessing import StandardScaler\n",
    "from sklearn.model_selection import cross_val_score\n",
    "from sklearn.metrics import roc_auc_score\n",
    "from hyperopt import hp, fmin, tpe, STATUS_OK, Trials\n",
    "import seaborn as sns\n",
    "from sklearn.model_selection import StratifiedKFold"
   ]
  },
  {
   "cell_type": "code",
   "execution_count": 3,
   "id": "5f71b83c",
   "metadata": {},
   "outputs": [],
   "source": [
    "def reduce_mem(df: pd.DataFrame):\n",
    "    \"This method reduces memory for numeric columns in the dataframe\";\n",
    "\n",
    "    numerics = ['int16', 'int32', 'int64', 'float16', 'float32', 'float64', \"uint16\", \"uint32\", \"uint64\"];\n",
    "    start_mem = df.memory_usage().sum() / 1024**2;\n",
    "\n",
    "    for col in df.columns:\n",
    "        col_type = df[col].dtypes\n",
    "\n",
    "        if col_type in numerics:\n",
    "            c_min = df[col].min();\n",
    "            c_max = df[col].max();\n",
    "\n",
    "            if \"int\" in str(col_type):\n",
    "                if c_min >= np.iinfo(np.int8).min and c_max < np.iinfo(np.int8).max:\n",
    "                    df[col] = df[col].astype(np.int8)\n",
    "                elif c_min >= np.iinfo(np.int16).min and c_max < np.iinfo(np.int16).max:\n",
    "                    df[col] = df[col].astype(np.int16)\n",
    "                elif c_min >= np.iinfo(np.int32).min and c_max < np.iinfo(np.int32).max:\n",
    "                    df[col] = df[col].astype(np.int32)\n",
    "                elif c_min >= np.iinfo(np.int64).min and c_max < np.iinfo(np.int64).max:\n",
    "                    df[col] = df[col].astype(np.int64)  \n",
    "            else:\n",
    "                if c_min >= np.finfo(np.float16).min and c_max < np.finfo(np.float16).max:\n",
    "                    df[col] = df[col].astype(np.float16)\n",
    "                if c_min >= np.finfo(np.float32).min and c_max < np.finfo(np.float32).max:\n",
    "                    df[col] = df[col].astype(np.float32)\n",
    "                else:\n",
    "                    df[col] = df[col].astype(np.float64)  \n",
    "\n",
    "    end_mem = df.memory_usage().sum() / 1024**2\n",
    "\n",
    "    print(f\"Start - end memory:- {start_mem:5.2f} - {end_mem:5.2f} Mb\");\n",
    "    return df;"
   ]
  },
  {
   "cell_type": "code",
   "execution_count": 4,
   "id": "1aad36f2",
   "metadata": {},
   "outputs": [],
   "source": [
    "train = pd.read_csv(\"./playground-series-s4e7/train.csv\")\n",
    "target = pd.read_csv(\"./playground-series-s4e7/test.csv\")"
   ]
  },
  {
   "cell_type": "code",
   "execution_count": 5,
   "id": "435f0267",
   "metadata": {
    "scrolled": false
   },
   "outputs": [
    {
     "name": "stdout",
     "output_type": "stream",
     "text": [
      "<class 'pandas.core.frame.DataFrame'>\n",
      "RangeIndex: 11504798 entries, 0 to 11504797\n",
      "Data columns (total 12 columns):\n",
      " #   Column                Dtype  \n",
      "---  ------                -----  \n",
      " 0   id                    int64  \n",
      " 1   Gender                object \n",
      " 2   Age                   int64  \n",
      " 3   Driving_License       int64  \n",
      " 4   Region_Code           float64\n",
      " 5   Previously_Insured    int64  \n",
      " 6   Vehicle_Age           object \n",
      " 7   Vehicle_Damage        object \n",
      " 8   Annual_Premium        float64\n",
      " 9   Policy_Sales_Channel  float64\n",
      " 10  Vintage               int64  \n",
      " 11  Response              int64  \n",
      "dtypes: float64(3), int64(6), object(3)\n",
      "memory usage: 1.0+ GB\n"
     ]
    }
   ],
   "source": [
    "train.info()"
   ]
  },
  {
   "cell_type": "code",
   "execution_count": 6,
   "id": "3d61143a",
   "metadata": {},
   "outputs": [],
   "source": [
    "train = train.drop(columns=[\"id\"], axis=1)"
   ]
  },
  {
   "cell_type": "code",
   "execution_count": 7,
   "id": "4b1dbeac",
   "metadata": {},
   "outputs": [],
   "source": [
    "target= target.drop(columns=[\"id\"], axis=1)"
   ]
  },
  {
   "cell_type": "code",
   "execution_count": 8,
   "id": "58de623b",
   "metadata": {},
   "outputs": [],
   "source": [
    "category_columns = train.select_dtypes(include=\"object\").columns\n",
    "category_columns = category_columns.tolist()\n",
    "\n",
    "def label_encoding(df):\n",
    "    # Instance of LabelEncoder\n",
    "    label_encoders = {col: LabelEncoder() for col in category_columns}\n",
    "\n",
    "    # Label Encoding\n",
    "    for col in category_columns:\n",
    "    \n",
    "        df[col] = label_encoders[col].fit_transform(df[col])\n",
    "\n",
    "label_encoding(train)\n",
    "label_encoding(target)"
   ]
  },
  {
   "cell_type": "code",
   "execution_count": 9,
   "id": "60161f6d",
   "metadata": {},
   "outputs": [
    {
     "data": {
      "text/html": [
       "<div>\n",
       "<style scoped>\n",
       "    .dataframe tbody tr th:only-of-type {\n",
       "        vertical-align: middle;\n",
       "    }\n",
       "\n",
       "    .dataframe tbody tr th {\n",
       "        vertical-align: top;\n",
       "    }\n",
       "\n",
       "    .dataframe thead th {\n",
       "        text-align: right;\n",
       "    }\n",
       "</style>\n",
       "<table border=\"1\" class=\"dataframe\">\n",
       "  <thead>\n",
       "    <tr style=\"text-align: right;\">\n",
       "      <th></th>\n",
       "      <th>Gender</th>\n",
       "      <th>Age</th>\n",
       "      <th>Driving_License</th>\n",
       "      <th>Region_Code</th>\n",
       "      <th>Previously_Insured</th>\n",
       "      <th>Vehicle_Age</th>\n",
       "      <th>Vehicle_Damage</th>\n",
       "      <th>Annual_Premium</th>\n",
       "      <th>Policy_Sales_Channel</th>\n",
       "      <th>Vintage</th>\n",
       "      <th>Response</th>\n",
       "    </tr>\n",
       "  </thead>\n",
       "  <tbody>\n",
       "    <tr>\n",
       "      <th>0</th>\n",
       "      <td>1</td>\n",
       "      <td>21</td>\n",
       "      <td>1</td>\n",
       "      <td>35.0</td>\n",
       "      <td>0</td>\n",
       "      <td>0</td>\n",
       "      <td>1</td>\n",
       "      <td>65101.0</td>\n",
       "      <td>124.0</td>\n",
       "      <td>187</td>\n",
       "      <td>0</td>\n",
       "    </tr>\n",
       "    <tr>\n",
       "      <th>1</th>\n",
       "      <td>1</td>\n",
       "      <td>43</td>\n",
       "      <td>1</td>\n",
       "      <td>28.0</td>\n",
       "      <td>0</td>\n",
       "      <td>2</td>\n",
       "      <td>1</td>\n",
       "      <td>58911.0</td>\n",
       "      <td>26.0</td>\n",
       "      <td>288</td>\n",
       "      <td>1</td>\n",
       "    </tr>\n",
       "    <tr>\n",
       "      <th>2</th>\n",
       "      <td>0</td>\n",
       "      <td>25</td>\n",
       "      <td>1</td>\n",
       "      <td>14.0</td>\n",
       "      <td>1</td>\n",
       "      <td>1</td>\n",
       "      <td>0</td>\n",
       "      <td>38043.0</td>\n",
       "      <td>152.0</td>\n",
       "      <td>254</td>\n",
       "      <td>0</td>\n",
       "    </tr>\n",
       "    <tr>\n",
       "      <th>3</th>\n",
       "      <td>0</td>\n",
       "      <td>35</td>\n",
       "      <td>1</td>\n",
       "      <td>1.0</td>\n",
       "      <td>0</td>\n",
       "      <td>0</td>\n",
       "      <td>1</td>\n",
       "      <td>2630.0</td>\n",
       "      <td>156.0</td>\n",
       "      <td>76</td>\n",
       "      <td>0</td>\n",
       "    </tr>\n",
       "    <tr>\n",
       "      <th>4</th>\n",
       "      <td>0</td>\n",
       "      <td>36</td>\n",
       "      <td>1</td>\n",
       "      <td>15.0</td>\n",
       "      <td>1</td>\n",
       "      <td>0</td>\n",
       "      <td>0</td>\n",
       "      <td>31951.0</td>\n",
       "      <td>152.0</td>\n",
       "      <td>294</td>\n",
       "      <td>0</td>\n",
       "    </tr>\n",
       "    <tr>\n",
       "      <th>...</th>\n",
       "      <td>...</td>\n",
       "      <td>...</td>\n",
       "      <td>...</td>\n",
       "      <td>...</td>\n",
       "      <td>...</td>\n",
       "      <td>...</td>\n",
       "      <td>...</td>\n",
       "      <td>...</td>\n",
       "      <td>...</td>\n",
       "      <td>...</td>\n",
       "      <td>...</td>\n",
       "    </tr>\n",
       "    <tr>\n",
       "      <th>11504793</th>\n",
       "      <td>1</td>\n",
       "      <td>48</td>\n",
       "      <td>1</td>\n",
       "      <td>6.0</td>\n",
       "      <td>0</td>\n",
       "      <td>0</td>\n",
       "      <td>1</td>\n",
       "      <td>27412.0</td>\n",
       "      <td>26.0</td>\n",
       "      <td>218</td>\n",
       "      <td>0</td>\n",
       "    </tr>\n",
       "    <tr>\n",
       "      <th>11504794</th>\n",
       "      <td>0</td>\n",
       "      <td>26</td>\n",
       "      <td>1</td>\n",
       "      <td>36.0</td>\n",
       "      <td>0</td>\n",
       "      <td>1</td>\n",
       "      <td>1</td>\n",
       "      <td>29509.0</td>\n",
       "      <td>152.0</td>\n",
       "      <td>115</td>\n",
       "      <td>1</td>\n",
       "    </tr>\n",
       "    <tr>\n",
       "      <th>11504795</th>\n",
       "      <td>0</td>\n",
       "      <td>29</td>\n",
       "      <td>1</td>\n",
       "      <td>32.0</td>\n",
       "      <td>1</td>\n",
       "      <td>1</td>\n",
       "      <td>0</td>\n",
       "      <td>2630.0</td>\n",
       "      <td>152.0</td>\n",
       "      <td>189</td>\n",
       "      <td>0</td>\n",
       "    </tr>\n",
       "    <tr>\n",
       "      <th>11504796</th>\n",
       "      <td>0</td>\n",
       "      <td>51</td>\n",
       "      <td>1</td>\n",
       "      <td>28.0</td>\n",
       "      <td>0</td>\n",
       "      <td>0</td>\n",
       "      <td>1</td>\n",
       "      <td>48443.0</td>\n",
       "      <td>26.0</td>\n",
       "      <td>274</td>\n",
       "      <td>1</td>\n",
       "    </tr>\n",
       "    <tr>\n",
       "      <th>11504797</th>\n",
       "      <td>1</td>\n",
       "      <td>25</td>\n",
       "      <td>1</td>\n",
       "      <td>28.0</td>\n",
       "      <td>1</td>\n",
       "      <td>1</td>\n",
       "      <td>0</td>\n",
       "      <td>32855.0</td>\n",
       "      <td>152.0</td>\n",
       "      <td>189</td>\n",
       "      <td>0</td>\n",
       "    </tr>\n",
       "  </tbody>\n",
       "</table>\n",
       "<p>11504798 rows × 11 columns</p>\n",
       "</div>"
      ],
      "text/plain": [
       "          Gender  Age  Driving_License  Region_Code  Previously_Insured  \\\n",
       "0              1   21                1         35.0                   0   \n",
       "1              1   43                1         28.0                   0   \n",
       "2              0   25                1         14.0                   1   \n",
       "3              0   35                1          1.0                   0   \n",
       "4              0   36                1         15.0                   1   \n",
       "...          ...  ...              ...          ...                 ...   \n",
       "11504793       1   48                1          6.0                   0   \n",
       "11504794       0   26                1         36.0                   0   \n",
       "11504795       0   29                1         32.0                   1   \n",
       "11504796       0   51                1         28.0                   0   \n",
       "11504797       1   25                1         28.0                   1   \n",
       "\n",
       "          Vehicle_Age  Vehicle_Damage  Annual_Premium  Policy_Sales_Channel  \\\n",
       "0                   0               1         65101.0                 124.0   \n",
       "1                   2               1         58911.0                  26.0   \n",
       "2                   1               0         38043.0                 152.0   \n",
       "3                   0               1          2630.0                 156.0   \n",
       "4                   0               0         31951.0                 152.0   \n",
       "...               ...             ...             ...                   ...   \n",
       "11504793            0               1         27412.0                  26.0   \n",
       "11504794            1               1         29509.0                 152.0   \n",
       "11504795            1               0          2630.0                 152.0   \n",
       "11504796            0               1         48443.0                  26.0   \n",
       "11504797            1               0         32855.0                 152.0   \n",
       "\n",
       "          Vintage  Response  \n",
       "0             187         0  \n",
       "1             288         1  \n",
       "2             254         0  \n",
       "3              76         0  \n",
       "4             294         0  \n",
       "...           ...       ...  \n",
       "11504793      218         0  \n",
       "11504794      115         1  \n",
       "11504795      189         0  \n",
       "11504796      274         1  \n",
       "11504797      189         0  \n",
       "\n",
       "[11504798 rows x 11 columns]"
      ]
     },
     "execution_count": 9,
     "metadata": {},
     "output_type": "execute_result"
    }
   ],
   "source": [
    "train"
   ]
  },
  {
   "cell_type": "code",
   "execution_count": 10,
   "id": "1c9df379",
   "metadata": {},
   "outputs": [
    {
     "data": {
      "text/html": [
       "<div>\n",
       "<style scoped>\n",
       "    .dataframe tbody tr th:only-of-type {\n",
       "        vertical-align: middle;\n",
       "    }\n",
       "\n",
       "    .dataframe tbody tr th {\n",
       "        vertical-align: top;\n",
       "    }\n",
       "\n",
       "    .dataframe thead th {\n",
       "        text-align: right;\n",
       "    }\n",
       "</style>\n",
       "<table border=\"1\" class=\"dataframe\">\n",
       "  <thead>\n",
       "    <tr style=\"text-align: right;\">\n",
       "      <th></th>\n",
       "      <th>Gender</th>\n",
       "      <th>Age</th>\n",
       "      <th>Driving_License</th>\n",
       "      <th>Region_Code</th>\n",
       "      <th>Previously_Insured</th>\n",
       "      <th>Vehicle_Age</th>\n",
       "      <th>Vehicle_Damage</th>\n",
       "      <th>Annual_Premium</th>\n",
       "      <th>Policy_Sales_Channel</th>\n",
       "      <th>Vintage</th>\n",
       "    </tr>\n",
       "  </thead>\n",
       "  <tbody>\n",
       "    <tr>\n",
       "      <th>0</th>\n",
       "      <td>0</td>\n",
       "      <td>20</td>\n",
       "      <td>1</td>\n",
       "      <td>47.0</td>\n",
       "      <td>0</td>\n",
       "      <td>1</td>\n",
       "      <td>0</td>\n",
       "      <td>2630.0</td>\n",
       "      <td>160.0</td>\n",
       "      <td>228</td>\n",
       "    </tr>\n",
       "    <tr>\n",
       "      <th>1</th>\n",
       "      <td>1</td>\n",
       "      <td>47</td>\n",
       "      <td>1</td>\n",
       "      <td>28.0</td>\n",
       "      <td>0</td>\n",
       "      <td>0</td>\n",
       "      <td>1</td>\n",
       "      <td>37483.0</td>\n",
       "      <td>124.0</td>\n",
       "      <td>123</td>\n",
       "    </tr>\n",
       "    <tr>\n",
       "      <th>2</th>\n",
       "      <td>1</td>\n",
       "      <td>47</td>\n",
       "      <td>1</td>\n",
       "      <td>43.0</td>\n",
       "      <td>0</td>\n",
       "      <td>0</td>\n",
       "      <td>1</td>\n",
       "      <td>2630.0</td>\n",
       "      <td>26.0</td>\n",
       "      <td>271</td>\n",
       "    </tr>\n",
       "    <tr>\n",
       "      <th>3</th>\n",
       "      <td>0</td>\n",
       "      <td>22</td>\n",
       "      <td>1</td>\n",
       "      <td>47.0</td>\n",
       "      <td>1</td>\n",
       "      <td>1</td>\n",
       "      <td>0</td>\n",
       "      <td>24502.0</td>\n",
       "      <td>152.0</td>\n",
       "      <td>115</td>\n",
       "    </tr>\n",
       "    <tr>\n",
       "      <th>4</th>\n",
       "      <td>1</td>\n",
       "      <td>51</td>\n",
       "      <td>1</td>\n",
       "      <td>19.0</td>\n",
       "      <td>0</td>\n",
       "      <td>0</td>\n",
       "      <td>0</td>\n",
       "      <td>34115.0</td>\n",
       "      <td>124.0</td>\n",
       "      <td>148</td>\n",
       "    </tr>\n",
       "    <tr>\n",
       "      <th>...</th>\n",
       "      <td>...</td>\n",
       "      <td>...</td>\n",
       "      <td>...</td>\n",
       "      <td>...</td>\n",
       "      <td>...</td>\n",
       "      <td>...</td>\n",
       "      <td>...</td>\n",
       "      <td>...</td>\n",
       "      <td>...</td>\n",
       "      <td>...</td>\n",
       "    </tr>\n",
       "    <tr>\n",
       "      <th>7669861</th>\n",
       "      <td>1</td>\n",
       "      <td>57</td>\n",
       "      <td>1</td>\n",
       "      <td>28.0</td>\n",
       "      <td>0</td>\n",
       "      <td>0</td>\n",
       "      <td>1</td>\n",
       "      <td>51661.0</td>\n",
       "      <td>124.0</td>\n",
       "      <td>109</td>\n",
       "    </tr>\n",
       "    <tr>\n",
       "      <th>7669862</th>\n",
       "      <td>1</td>\n",
       "      <td>28</td>\n",
       "      <td>1</td>\n",
       "      <td>50.0</td>\n",
       "      <td>1</td>\n",
       "      <td>1</td>\n",
       "      <td>0</td>\n",
       "      <td>25651.0</td>\n",
       "      <td>152.0</td>\n",
       "      <td>184</td>\n",
       "    </tr>\n",
       "    <tr>\n",
       "      <th>7669863</th>\n",
       "      <td>1</td>\n",
       "      <td>47</td>\n",
       "      <td>1</td>\n",
       "      <td>33.0</td>\n",
       "      <td>1</td>\n",
       "      <td>0</td>\n",
       "      <td>0</td>\n",
       "      <td>2630.0</td>\n",
       "      <td>138.0</td>\n",
       "      <td>63</td>\n",
       "    </tr>\n",
       "    <tr>\n",
       "      <th>7669864</th>\n",
       "      <td>1</td>\n",
       "      <td>30</td>\n",
       "      <td>1</td>\n",
       "      <td>28.0</td>\n",
       "      <td>0</td>\n",
       "      <td>1</td>\n",
       "      <td>1</td>\n",
       "      <td>38866.0</td>\n",
       "      <td>124.0</td>\n",
       "      <td>119</td>\n",
       "    </tr>\n",
       "    <tr>\n",
       "      <th>7669865</th>\n",
       "      <td>1</td>\n",
       "      <td>23</td>\n",
       "      <td>1</td>\n",
       "      <td>46.0</td>\n",
       "      <td>1</td>\n",
       "      <td>1</td>\n",
       "      <td>0</td>\n",
       "      <td>27498.0</td>\n",
       "      <td>152.0</td>\n",
       "      <td>79</td>\n",
       "    </tr>\n",
       "  </tbody>\n",
       "</table>\n",
       "<p>7669866 rows × 10 columns</p>\n",
       "</div>"
      ],
      "text/plain": [
       "         Gender  Age  Driving_License  Region_Code  Previously_Insured  \\\n",
       "0             0   20                1         47.0                   0   \n",
       "1             1   47                1         28.0                   0   \n",
       "2             1   47                1         43.0                   0   \n",
       "3             0   22                1         47.0                   1   \n",
       "4             1   51                1         19.0                   0   \n",
       "...         ...  ...              ...          ...                 ...   \n",
       "7669861       1   57                1         28.0                   0   \n",
       "7669862       1   28                1         50.0                   1   \n",
       "7669863       1   47                1         33.0                   1   \n",
       "7669864       1   30                1         28.0                   0   \n",
       "7669865       1   23                1         46.0                   1   \n",
       "\n",
       "         Vehicle_Age  Vehicle_Damage  Annual_Premium  Policy_Sales_Channel  \\\n",
       "0                  1               0          2630.0                 160.0   \n",
       "1                  0               1         37483.0                 124.0   \n",
       "2                  0               1          2630.0                  26.0   \n",
       "3                  1               0         24502.0                 152.0   \n",
       "4                  0               0         34115.0                 124.0   \n",
       "...              ...             ...             ...                   ...   \n",
       "7669861            0               1         51661.0                 124.0   \n",
       "7669862            1               0         25651.0                 152.0   \n",
       "7669863            0               0          2630.0                 138.0   \n",
       "7669864            1               1         38866.0                 124.0   \n",
       "7669865            1               0         27498.0                 152.0   \n",
       "\n",
       "         Vintage  \n",
       "0            228  \n",
       "1            123  \n",
       "2            271  \n",
       "3            115  \n",
       "4            148  \n",
       "...          ...  \n",
       "7669861      109  \n",
       "7669862      184  \n",
       "7669863       63  \n",
       "7669864      119  \n",
       "7669865       79  \n",
       "\n",
       "[7669866 rows x 10 columns]"
      ]
     },
     "execution_count": 10,
     "metadata": {},
     "output_type": "execute_result"
    }
   ],
   "source": [
    "target"
   ]
  },
  {
   "cell_type": "code",
   "execution_count": 11,
   "id": "80b2a2dc",
   "metadata": {
    "scrolled": true
   },
   "outputs": [
    {
     "name": "stdout",
     "output_type": "stream",
     "text": [
      "Start - end memory:- 833.86 - 230.41 Mb\n"
     ]
    }
   ],
   "source": [
    "train = reduce_mem(train)"
   ]
  },
  {
   "cell_type": "code",
   "execution_count": 12,
   "id": "954b9281",
   "metadata": {},
   "outputs": [
    {
     "name": "stdout",
     "output_type": "stream",
     "text": [
      "Start - end memory:- 497.39 - 146.29 Mb\n"
     ]
    }
   ],
   "source": [
    "target = reduce_mem(target)"
   ]
  },
  {
   "cell_type": "code",
   "execution_count": 13,
   "id": "7b0958fb",
   "metadata": {},
   "outputs": [],
   "source": [
    "b=train['Response'][train['Response']==1].count()"
   ]
  },
  {
   "cell_type": "code",
   "execution_count": 14,
   "id": "17fb1c11",
   "metadata": {},
   "outputs": [],
   "source": [
    "a=train['Response'][train['Response']==0].count()"
   ]
  },
  {
   "cell_type": "code",
   "execution_count": 15,
   "id": "5dd73e6c",
   "metadata": {
    "scrolled": true
   },
   "outputs": [
    {
     "data": {
      "text/plain": [
       "0.12299729208631043"
      ]
     },
     "execution_count": 15,
     "metadata": {},
     "output_type": "execute_result"
    }
   ],
   "source": [
    "b/len(train)"
   ]
  },
  {
   "cell_type": "code",
   "execution_count": 16,
   "id": "6850d47a",
   "metadata": {},
   "outputs": [
    {
     "data": {
      "text/plain": [
       "0.8770027079136896"
      ]
     },
     "execution_count": 16,
     "metadata": {},
     "output_type": "execute_result"
    }
   ],
   "source": [
    "a/len(train)"
   ]
  },
  {
   "cell_type": "code",
   "execution_count": 17,
   "id": "54cc282f",
   "metadata": {},
   "outputs": [
    {
     "data": {
      "text/plain": [
       "Gender                  0\n",
       "Age                     0\n",
       "Driving_License         0\n",
       "Region_Code             0\n",
       "Previously_Insured      0\n",
       "Vehicle_Age             0\n",
       "Vehicle_Damage          0\n",
       "Annual_Premium          0\n",
       "Policy_Sales_Channel    0\n",
       "Vintage                 0\n",
       "Response                0\n",
       "dtype: int64"
      ]
     },
     "execution_count": 17,
     "metadata": {},
     "output_type": "execute_result"
    }
   ],
   "source": [
    "train.isna().sum()"
   ]
  },
  {
   "cell_type": "code",
   "execution_count": 18,
   "id": "045f16a9",
   "metadata": {},
   "outputs": [],
   "source": [
    "pd.set_option('display.float_format', lambda x: '%.3f' % x)"
   ]
  },
  {
   "cell_type": "code",
   "execution_count": 19,
   "id": "29a917ba",
   "metadata": {},
   "outputs": [
    {
     "data": {
      "text/html": [
       "<div>\n",
       "<style scoped>\n",
       "    .dataframe tbody tr th:only-of-type {\n",
       "        vertical-align: middle;\n",
       "    }\n",
       "\n",
       "    .dataframe tbody tr th {\n",
       "        vertical-align: top;\n",
       "    }\n",
       "\n",
       "    .dataframe thead th {\n",
       "        text-align: right;\n",
       "    }\n",
       "</style>\n",
       "<table border=\"1\" class=\"dataframe\">\n",
       "  <thead>\n",
       "    <tr style=\"text-align: right;\">\n",
       "      <th></th>\n",
       "      <th>Gender</th>\n",
       "      <th>Age</th>\n",
       "      <th>Driving_License</th>\n",
       "      <th>Region_Code</th>\n",
       "      <th>Previously_Insured</th>\n",
       "      <th>Vehicle_Age</th>\n",
       "      <th>Vehicle_Damage</th>\n",
       "      <th>Annual_Premium</th>\n",
       "      <th>Policy_Sales_Channel</th>\n",
       "      <th>Vintage</th>\n",
       "      <th>Response</th>\n",
       "    </tr>\n",
       "  </thead>\n",
       "  <tbody>\n",
       "    <tr>\n",
       "      <th>count</th>\n",
       "      <td>11504798.000</td>\n",
       "      <td>11504798.000</td>\n",
       "      <td>11504798.000</td>\n",
       "      <td>11504798.000</td>\n",
       "      <td>11504798.000</td>\n",
       "      <td>11504798.000</td>\n",
       "      <td>11504798.000</td>\n",
       "      <td>11504798.000</td>\n",
       "      <td>11504798.000</td>\n",
       "      <td>11504798.000</td>\n",
       "      <td>11504798.000</td>\n",
       "    </tr>\n",
       "    <tr>\n",
       "      <th>mean</th>\n",
       "      <td>0.541</td>\n",
       "      <td>38.384</td>\n",
       "      <td>0.998</td>\n",
       "      <td>26.419</td>\n",
       "      <td>0.463</td>\n",
       "      <td>0.522</td>\n",
       "      <td>0.503</td>\n",
       "      <td>30461.359</td>\n",
       "      <td>112.425</td>\n",
       "      <td>163.898</td>\n",
       "      <td>0.123</td>\n",
       "    </tr>\n",
       "    <tr>\n",
       "      <th>std</th>\n",
       "      <td>0.498</td>\n",
       "      <td>14.993</td>\n",
       "      <td>0.044</td>\n",
       "      <td>12.992</td>\n",
       "      <td>0.499</td>\n",
       "      <td>0.577</td>\n",
       "      <td>0.500</td>\n",
       "      <td>16454.744</td>\n",
       "      <td>54.036</td>\n",
       "      <td>79.980</td>\n",
       "      <td>0.328</td>\n",
       "    </tr>\n",
       "    <tr>\n",
       "      <th>min</th>\n",
       "      <td>0.000</td>\n",
       "      <td>20.000</td>\n",
       "      <td>0.000</td>\n",
       "      <td>0.000</td>\n",
       "      <td>0.000</td>\n",
       "      <td>0.000</td>\n",
       "      <td>0.000</td>\n",
       "      <td>2630.000</td>\n",
       "      <td>1.000</td>\n",
       "      <td>10.000</td>\n",
       "      <td>0.000</td>\n",
       "    </tr>\n",
       "    <tr>\n",
       "      <th>25%</th>\n",
       "      <td>0.000</td>\n",
       "      <td>24.000</td>\n",
       "      <td>1.000</td>\n",
       "      <td>15.000</td>\n",
       "      <td>0.000</td>\n",
       "      <td>0.000</td>\n",
       "      <td>0.000</td>\n",
       "      <td>25277.000</td>\n",
       "      <td>29.000</td>\n",
       "      <td>99.000</td>\n",
       "      <td>0.000</td>\n",
       "    </tr>\n",
       "    <tr>\n",
       "      <th>50%</th>\n",
       "      <td>1.000</td>\n",
       "      <td>36.000</td>\n",
       "      <td>1.000</td>\n",
       "      <td>28.000</td>\n",
       "      <td>0.000</td>\n",
       "      <td>0.000</td>\n",
       "      <td>1.000</td>\n",
       "      <td>31824.000</td>\n",
       "      <td>151.000</td>\n",
       "      <td>166.000</td>\n",
       "      <td>0.000</td>\n",
       "    </tr>\n",
       "    <tr>\n",
       "      <th>75%</th>\n",
       "      <td>1.000</td>\n",
       "      <td>49.000</td>\n",
       "      <td>1.000</td>\n",
       "      <td>35.000</td>\n",
       "      <td>1.000</td>\n",
       "      <td>1.000</td>\n",
       "      <td>1.000</td>\n",
       "      <td>39451.000</td>\n",
       "      <td>152.000</td>\n",
       "      <td>232.000</td>\n",
       "      <td>0.000</td>\n",
       "    </tr>\n",
       "    <tr>\n",
       "      <th>max</th>\n",
       "      <td>1.000</td>\n",
       "      <td>85.000</td>\n",
       "      <td>1.000</td>\n",
       "      <td>52.000</td>\n",
       "      <td>1.000</td>\n",
       "      <td>2.000</td>\n",
       "      <td>1.000</td>\n",
       "      <td>540165.000</td>\n",
       "      <td>163.000</td>\n",
       "      <td>299.000</td>\n",
       "      <td>1.000</td>\n",
       "    </tr>\n",
       "  </tbody>\n",
       "</table>\n",
       "</div>"
      ],
      "text/plain": [
       "            Gender          Age  Driving_License  Region_Code  \\\n",
       "count 11504798.000 11504798.000     11504798.000 11504798.000   \n",
       "mean         0.541       38.384            0.998       26.419   \n",
       "std          0.498       14.993            0.044       12.992   \n",
       "min          0.000       20.000            0.000        0.000   \n",
       "25%          0.000       24.000            1.000       15.000   \n",
       "50%          1.000       36.000            1.000       28.000   \n",
       "75%          1.000       49.000            1.000       35.000   \n",
       "max          1.000       85.000            1.000       52.000   \n",
       "\n",
       "       Previously_Insured  Vehicle_Age  Vehicle_Damage  Annual_Premium  \\\n",
       "count        11504798.000 11504798.000    11504798.000    11504798.000   \n",
       "mean                0.463        0.522           0.503       30461.359   \n",
       "std                 0.499        0.577           0.500       16454.744   \n",
       "min                 0.000        0.000           0.000        2630.000   \n",
       "25%                 0.000        0.000           0.000       25277.000   \n",
       "50%                 0.000        0.000           1.000       31824.000   \n",
       "75%                 1.000        1.000           1.000       39451.000   \n",
       "max                 1.000        2.000           1.000      540165.000   \n",
       "\n",
       "       Policy_Sales_Channel      Vintage     Response  \n",
       "count          11504798.000 11504798.000 11504798.000  \n",
       "mean                112.425      163.898        0.123  \n",
       "std                  54.036       79.980        0.328  \n",
       "min                   1.000       10.000        0.000  \n",
       "25%                  29.000       99.000        0.000  \n",
       "50%                 151.000      166.000        0.000  \n",
       "75%                 152.000      232.000        0.000  \n",
       "max                 163.000      299.000        1.000  "
      ]
     },
     "execution_count": 19,
     "metadata": {},
     "output_type": "execute_result"
    }
   ],
   "source": [
    "train.describe()"
   ]
  },
  {
   "cell_type": "code",
   "execution_count": 20,
   "id": "c1129107",
   "metadata": {},
   "outputs": [],
   "source": [
    "x = train.drop(columns=['Response'],axis=1)\n",
    "y = train[\"Response\"]"
   ]
  },
  {
   "cell_type": "code",
   "execution_count": 22,
   "id": "984b361b",
   "metadata": {},
   "outputs": [],
   "source": [
    "X_train, X_val, y_train, y_val = train_test_split(x, y, test_size=0.2, random_state=42, stratify=y)"
   ]
  },
  {
   "cell_type": "code",
   "execution_count": 23,
   "id": "4a48f6c1",
   "metadata": {},
   "outputs": [],
   "source": [
    "gbc = GradientBoostingClassifier(n_estimators=100, learning_rate=0.01, max_depth=3,verbose=1)"
   ]
  },
  {
   "cell_type": "code",
   "execution_count": null,
   "id": "739fd9cd",
   "metadata": {},
   "outputs": [],
   "source": []
  },
  {
   "cell_type": "code",
   "execution_count": 25,
   "id": "24b37843",
   "metadata": {},
   "outputs": [
    {
     "name": "stdout",
     "output_type": "stream",
     "text": [
      "      Iter       Train Loss   Remaining Time \n",
      "         1           0.7424           29.07m\n",
      "         2           0.7392           28.27m\n",
      "         3           0.7361           27.88m\n",
      "         4           0.7330           27.68m\n",
      "         5           0.7300           27.40m\n",
      "         6           0.7271           27.24m\n",
      "         7           0.7242           27.15m\n",
      "         8           0.7214           27.16m\n",
      "         9           0.7187           27.21m\n",
      "        10           0.7160           27.06m\n",
      "        20           0.6918           24.40m\n",
      "        30           0.6718           22.47m\n",
      "        40           0.6550           19.81m\n",
      "        50           0.6408           16.80m\n",
      "        60           0.6286           13.63m\n",
      "        70           0.6180           10.20m\n",
      "        80           0.6089            6.80m\n",
      "        90           0.6010            3.40m\n",
      "       100           0.5938            0.00s\n"
     ]
    },
    {
     "data": {
      "text/html": [
       "<style>#sk-container-id-1 {color: black;background-color: white;}#sk-container-id-1 pre{padding: 0;}#sk-container-id-1 div.sk-toggleable {background-color: white;}#sk-container-id-1 label.sk-toggleable__label {cursor: pointer;display: block;width: 100%;margin-bottom: 0;padding: 0.3em;box-sizing: border-box;text-align: center;}#sk-container-id-1 label.sk-toggleable__label-arrow:before {content: \"▸\";float: left;margin-right: 0.25em;color: #696969;}#sk-container-id-1 label.sk-toggleable__label-arrow:hover:before {color: black;}#sk-container-id-1 div.sk-estimator:hover label.sk-toggleable__label-arrow:before {color: black;}#sk-container-id-1 div.sk-toggleable__content {max-height: 0;max-width: 0;overflow: hidden;text-align: left;background-color: #f0f8ff;}#sk-container-id-1 div.sk-toggleable__content pre {margin: 0.2em;color: black;border-radius: 0.25em;background-color: #f0f8ff;}#sk-container-id-1 input.sk-toggleable__control:checked~div.sk-toggleable__content {max-height: 200px;max-width: 100%;overflow: auto;}#sk-container-id-1 input.sk-toggleable__control:checked~label.sk-toggleable__label-arrow:before {content: \"▾\";}#sk-container-id-1 div.sk-estimator input.sk-toggleable__control:checked~label.sk-toggleable__label {background-color: #d4ebff;}#sk-container-id-1 div.sk-label input.sk-toggleable__control:checked~label.sk-toggleable__label {background-color: #d4ebff;}#sk-container-id-1 input.sk-hidden--visually {border: 0;clip: rect(1px 1px 1px 1px);clip: rect(1px, 1px, 1px, 1px);height: 1px;margin: -1px;overflow: hidden;padding: 0;position: absolute;width: 1px;}#sk-container-id-1 div.sk-estimator {font-family: monospace;background-color: #f0f8ff;border: 1px dotted black;border-radius: 0.25em;box-sizing: border-box;margin-bottom: 0.5em;}#sk-container-id-1 div.sk-estimator:hover {background-color: #d4ebff;}#sk-container-id-1 div.sk-parallel-item::after {content: \"\";width: 100%;border-bottom: 1px solid gray;flex-grow: 1;}#sk-container-id-1 div.sk-label:hover label.sk-toggleable__label {background-color: #d4ebff;}#sk-container-id-1 div.sk-serial::before {content: \"\";position: absolute;border-left: 1px solid gray;box-sizing: border-box;top: 0;bottom: 0;left: 50%;z-index: 0;}#sk-container-id-1 div.sk-serial {display: flex;flex-direction: column;align-items: center;background-color: white;padding-right: 0.2em;padding-left: 0.2em;position: relative;}#sk-container-id-1 div.sk-item {position: relative;z-index: 1;}#sk-container-id-1 div.sk-parallel {display: flex;align-items: stretch;justify-content: center;background-color: white;position: relative;}#sk-container-id-1 div.sk-item::before, #sk-container-id-1 div.sk-parallel-item::before {content: \"\";position: absolute;border-left: 1px solid gray;box-sizing: border-box;top: 0;bottom: 0;left: 50%;z-index: -1;}#sk-container-id-1 div.sk-parallel-item {display: flex;flex-direction: column;z-index: 1;position: relative;background-color: white;}#sk-container-id-1 div.sk-parallel-item:first-child::after {align-self: flex-end;width: 50%;}#sk-container-id-1 div.sk-parallel-item:last-child::after {align-self: flex-start;width: 50%;}#sk-container-id-1 div.sk-parallel-item:only-child::after {width: 0;}#sk-container-id-1 div.sk-dashed-wrapped {border: 1px dashed gray;margin: 0 0.4em 0.5em 0.4em;box-sizing: border-box;padding-bottom: 0.4em;background-color: white;}#sk-container-id-1 div.sk-label label {font-family: monospace;font-weight: bold;display: inline-block;line-height: 1.2em;}#sk-container-id-1 div.sk-label-container {text-align: center;}#sk-container-id-1 div.sk-container {/* jupyter's `normalize.less` sets `[hidden] { display: none; }` but bootstrap.min.css set `[hidden] { display: none !important; }` so we also need the `!important` here to be able to override the default hidden behavior on the sphinx rendered scikit-learn.org. See: https://github.com/scikit-learn/scikit-learn/issues/21755 */display: inline-block !important;position: relative;}#sk-container-id-1 div.sk-text-repr-fallback {display: none;}</style><div id=\"sk-container-id-1\" class=\"sk-top-container\"><div class=\"sk-text-repr-fallback\"><pre>GradientBoostingClassifier(learning_rate=0.01, verbose=1)</pre><b>In a Jupyter environment, please rerun this cell to show the HTML representation or trust the notebook. <br />On GitHub, the HTML representation is unable to render, please try loading this page with nbviewer.org.</b></div><div class=\"sk-container\" hidden><div class=\"sk-item\"><div class=\"sk-estimator sk-toggleable\"><input class=\"sk-toggleable__control sk-hidden--visually\" id=\"sk-estimator-id-1\" type=\"checkbox\" checked><label for=\"sk-estimator-id-1\" class=\"sk-toggleable__label sk-toggleable__label-arrow\">GradientBoostingClassifier</label><div class=\"sk-toggleable__content\"><pre>GradientBoostingClassifier(learning_rate=0.01, verbose=1)</pre></div></div></div></div></div>"
      ],
      "text/plain": [
       "GradientBoostingClassifier(learning_rate=0.01, verbose=1)"
      ]
     },
     "execution_count": 25,
     "metadata": {},
     "output_type": "execute_result"
    }
   ],
   "source": [
    "gbc.fit(X_train,y_train)"
   ]
  },
  {
   "cell_type": "code",
   "execution_count": 29,
   "id": "0fc8f304",
   "metadata": {},
   "outputs": [],
   "source": [
    "val_result = gbc.predict(X_val)"
   ]
  },
  {
   "cell_type": "code",
   "execution_count": 30,
   "id": "2a3db3e8",
   "metadata": {},
   "outputs": [
    {
     "data": {
      "text/plain": [
       "array([0, 0, 0, ..., 0, 0, 0], dtype=int8)"
      ]
     },
     "execution_count": 30,
     "metadata": {},
     "output_type": "execute_result"
    }
   ],
   "source": [
    "val_result"
   ]
  },
  {
   "cell_type": "code",
   "execution_count": 32,
   "id": "69040ad4",
   "metadata": {},
   "outputs": [
    {
     "data": {
      "text/plain": [
       "0.5"
      ]
     },
     "execution_count": 32,
     "metadata": {},
     "output_type": "execute_result"
    }
   ],
   "source": [
    "roc_auc_score(y_val,val_result)"
   ]
  },
  {
   "cell_type": "code",
   "execution_count": 33,
   "id": "e6ffe50d",
   "metadata": {},
   "outputs": [],
   "source": [
    "from sklearn.metrics import classification_report"
   ]
  },
  {
   "cell_type": "code",
   "execution_count": 35,
   "id": "c967837f",
   "metadata": {},
   "outputs": [
    {
     "name": "stderr",
     "output_type": "stream",
     "text": [
      "C:\\Users\\OSY\\anaconda3\\envs\\osy\\lib\\site-packages\\sklearn\\metrics\\_classification.py:1344: UndefinedMetricWarning: Precision and F-score are ill-defined and being set to 0.0 in labels with no predicted samples. Use `zero_division` parameter to control this behavior.\n",
      "  _warn_prf(average, modifier, msg_start, len(result))\n",
      "C:\\Users\\OSY\\anaconda3\\envs\\osy\\lib\\site-packages\\sklearn\\metrics\\_classification.py:1344: UndefinedMetricWarning: Precision and F-score are ill-defined and being set to 0.0 in labels with no predicted samples. Use `zero_division` parameter to control this behavior.\n",
      "  _warn_prf(average, modifier, msg_start, len(result))\n"
     ]
    },
    {
     "name": "stdout",
     "output_type": "stream",
     "text": [
      "              precision    recall  f1-score   support\n",
      "\n",
      "           0       0.88      1.00      0.93   2017948\n",
      "           1       0.00      0.00      0.00    283012\n",
      "\n",
      "    accuracy                           0.88   2300960\n",
      "   macro avg       0.44      0.50      0.47   2300960\n",
      "weighted avg       0.77      0.88      0.82   2300960\n",
      "\n"
     ]
    },
    {
     "name": "stderr",
     "output_type": "stream",
     "text": [
      "C:\\Users\\OSY\\anaconda3\\envs\\osy\\lib\\site-packages\\sklearn\\metrics\\_classification.py:1344: UndefinedMetricWarning: Precision and F-score are ill-defined and being set to 0.0 in labels with no predicted samples. Use `zero_division` parameter to control this behavior.\n",
      "  _warn_prf(average, modifier, msg_start, len(result))\n"
     ]
    }
   ],
   "source": [
    "print(classification_report(y_val, val_result))"
   ]
  },
  {
   "cell_type": "code",
   "execution_count": null,
   "id": "4593e7eb",
   "metadata": {},
   "outputs": [],
   "source": [
    "a=gbc.predict(target)"
   ]
  },
  {
   "cell_type": "code",
   "execution_count": null,
   "id": "5f34c485",
   "metadata": {},
   "outputs": [],
   "source": [
    "submit = pd.read_csv(\"./playground-series-s4e7/sample_submission.csv\")\n",
    "pred = a \n",
    "submit[\"Response\"] = pred\n",
    "submit.to_csv(\"submission_GBC.csv\", index=False)\n",
    "submit.head()"
   ]
  }
 ],
 "metadata": {
  "kernelspec": {
   "display_name": "Python 3 (ipykernel)",
   "language": "python",
   "name": "python3"
  },
  "language_info": {
   "codemirror_mode": {
    "name": "ipython",
    "version": 3
   },
   "file_extension": ".py",
   "mimetype": "text/x-python",
   "name": "python",
   "nbconvert_exporter": "python",
   "pygments_lexer": "ipython3",
   "version": "3.9.16"
  }
 },
 "nbformat": 4,
 "nbformat_minor": 5
}
