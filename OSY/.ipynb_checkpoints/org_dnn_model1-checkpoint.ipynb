{
 "cells": [
  {
   "cell_type": "code",
   "execution_count": 36,
   "id": "208ac8e8",
   "metadata": {},
   "outputs": [],
   "source": [
    "import tensorflow as tf\n",
    "from tensorflow import keras\n",
    "import matplotlib as mpl\n",
    "import matplotlib.pyplot as plt\n",
    "import numpy as np\n",
    "import pandas as pd\n",
    "import seaborn as sns\n",
    "import sklearn\n",
    "import random\n",
    "from sklearn.metrics import confusion_matrix\n",
    "from sklearn.model_selection import train_test_split\n",
    "from sklearn.preprocessing import StandardScaler\n",
    "from sklearn.metrics import roc_auc_score\n",
    "from sklearn.preprocessing import LabelEncoder\n",
    "import os\n",
    "import tempfile"
   ]
  },
  {
   "cell_type": "code",
   "execution_count": 13,
   "id": "da066e1b",
   "metadata": {},
   "outputs": [
    {
     "data": {
      "text/plain": [
       "[name: \"/device:CPU:0\"\n",
       " device_type: \"CPU\"\n",
       " memory_limit: 268435456\n",
       " locality {\n",
       " }\n",
       " incarnation: 16685760490571652381\n",
       " xla_global_id: -1,\n",
       " name: \"/device:GPU:0\"\n",
       " device_type: \"GPU\"\n",
       " memory_limit: 1734816564\n",
       " locality {\n",
       "   bus_id: 1\n",
       "   links {\n",
       "   }\n",
       " }\n",
       " incarnation: 17689795060599595296\n",
       " physical_device_desc: \"device: 0, name: NVIDIA GeForce RTX 3050 Laptop GPU, pci bus id: 0000:01:00.0, compute capability: 8.6\"\n",
       " xla_global_id: 416903419]"
      ]
     },
     "execution_count": 13,
     "metadata": {},
     "output_type": "execute_result"
    }
   ],
   "source": [
    "from tensorflow.python.client import device_lib\n",
    "device_lib.list_local_devices()"
   ]
  },
  {
   "cell_type": "code",
   "execution_count": 14,
   "id": "38d6331c",
   "metadata": {},
   "outputs": [],
   "source": [
    "def my_seed_everywhere(seed: int = 42):\n",
    "    random.seed(seed) # random\n",
    "    np.random.seed(seed) # np\n",
    "    os.environ[\"PYTHONHASHSEED\"] = str(seed) # os\n",
    "    tf.random.set_seed(seed) # tensorflow\n",
    "\n",
    "my_seed = 42\n",
    "my_seed_everywhere(my_seed)"
   ]
  },
  {
   "cell_type": "code",
   "execution_count": 15,
   "id": "ae2a45fa",
   "metadata": {},
   "outputs": [],
   "source": [
    "train = pd.read_csv(\"./playground-series-s4e7/train.csv\")\n",
    "target = pd.read_csv(\"./playground-series-s4e7/test.csv\")"
   ]
  },
  {
   "cell_type": "code",
   "execution_count": 16,
   "id": "8272b063",
   "metadata": {},
   "outputs": [
    {
     "name": "stdout",
     "output_type": "stream",
     "text": [
      "Examples:\n",
      "    Total: 11504798\n",
      "    Positive: 1415059 (12.30% of total)\n",
      "\n"
     ]
    }
   ],
   "source": [
    "neg, pos = np.bincount(train['Response'])\n",
    "total = neg + pos\n",
    "print('Examples:\\n    Total: {}\\n    Positive: {} ({:.2f}% of total)\\n'.format(\n",
    "    total, pos, 100 * pos / total))"
   ]
  },
  {
   "cell_type": "code",
   "execution_count": 17,
   "id": "efc483d3",
   "metadata": {},
   "outputs": [],
   "source": [
    "category_columns = train.select_dtypes(include=\"object\").columns\n",
    "category_columns = category_columns.tolist()\n",
    "\n",
    "def label_encoding(df):\n",
    "    # Instance of LabelEncoder\n",
    "    label_encoders = {col: LabelEncoder() for col in category_columns}\n",
    "\n",
    "    # Label Encoding\n",
    "    for col in category_columns:\n",
    "        df[col] = label_encoders[col].fit_transform(df[col])\n",
    "\n",
    "label_encoding(train)"
   ]
  },
  {
   "cell_type": "code",
   "execution_count": 18,
   "id": "7ee9511c",
   "metadata": {},
   "outputs": [],
   "source": [
    "category_columns = target.select_dtypes(include=\"object\").columns\n",
    "category_columns = category_columns.tolist()\n",
    "\n",
    "def label_encoding(df):\n",
    "    # Instance of LabelEncoder\n",
    "    label_encoders = {col: LabelEncoder() for col in category_columns}\n",
    "\n",
    "    # Label Encoding\n",
    "    for col in category_columns:\n",
    "        df[col] = label_encoders[col].fit_transform(df[col])\n",
    "\n",
    "label_encoding(target)"
   ]
  },
  {
   "cell_type": "code",
   "execution_count": 19,
   "id": "d94a3b52",
   "metadata": {},
   "outputs": [],
   "source": [
    "train = train.drop(columns=['id'])\n",
    "target = target.drop(columns=['id'])"
   ]
  },
  {
   "cell_type": "code",
   "execution_count": 20,
   "id": "1f4e4c57",
   "metadata": {},
   "outputs": [
    {
     "data": {
      "text/html": [
       "<div>\n",
       "<style scoped>\n",
       "    .dataframe tbody tr th:only-of-type {\n",
       "        vertical-align: middle;\n",
       "    }\n",
       "\n",
       "    .dataframe tbody tr th {\n",
       "        vertical-align: top;\n",
       "    }\n",
       "\n",
       "    .dataframe thead th {\n",
       "        text-align: right;\n",
       "    }\n",
       "</style>\n",
       "<table border=\"1\" class=\"dataframe\">\n",
       "  <thead>\n",
       "    <tr style=\"text-align: right;\">\n",
       "      <th></th>\n",
       "      <th>Gender</th>\n",
       "      <th>Age</th>\n",
       "      <th>Driving_License</th>\n",
       "      <th>Region_Code</th>\n",
       "      <th>Previously_Insured</th>\n",
       "      <th>Vehicle_Age</th>\n",
       "      <th>Vehicle_Damage</th>\n",
       "      <th>Annual_Premium</th>\n",
       "      <th>Policy_Sales_Channel</th>\n",
       "      <th>Vintage</th>\n",
       "    </tr>\n",
       "  </thead>\n",
       "  <tbody>\n",
       "    <tr>\n",
       "      <th>0</th>\n",
       "      <td>0</td>\n",
       "      <td>20</td>\n",
       "      <td>1</td>\n",
       "      <td>47.0</td>\n",
       "      <td>0</td>\n",
       "      <td>1</td>\n",
       "      <td>0</td>\n",
       "      <td>2630.0</td>\n",
       "      <td>160.0</td>\n",
       "      <td>228</td>\n",
       "    </tr>\n",
       "    <tr>\n",
       "      <th>1</th>\n",
       "      <td>1</td>\n",
       "      <td>47</td>\n",
       "      <td>1</td>\n",
       "      <td>28.0</td>\n",
       "      <td>0</td>\n",
       "      <td>0</td>\n",
       "      <td>1</td>\n",
       "      <td>37483.0</td>\n",
       "      <td>124.0</td>\n",
       "      <td>123</td>\n",
       "    </tr>\n",
       "    <tr>\n",
       "      <th>2</th>\n",
       "      <td>1</td>\n",
       "      <td>47</td>\n",
       "      <td>1</td>\n",
       "      <td>43.0</td>\n",
       "      <td>0</td>\n",
       "      <td>0</td>\n",
       "      <td>1</td>\n",
       "      <td>2630.0</td>\n",
       "      <td>26.0</td>\n",
       "      <td>271</td>\n",
       "    </tr>\n",
       "    <tr>\n",
       "      <th>3</th>\n",
       "      <td>0</td>\n",
       "      <td>22</td>\n",
       "      <td>1</td>\n",
       "      <td>47.0</td>\n",
       "      <td>1</td>\n",
       "      <td>1</td>\n",
       "      <td>0</td>\n",
       "      <td>24502.0</td>\n",
       "      <td>152.0</td>\n",
       "      <td>115</td>\n",
       "    </tr>\n",
       "    <tr>\n",
       "      <th>4</th>\n",
       "      <td>1</td>\n",
       "      <td>51</td>\n",
       "      <td>1</td>\n",
       "      <td>19.0</td>\n",
       "      <td>0</td>\n",
       "      <td>0</td>\n",
       "      <td>0</td>\n",
       "      <td>34115.0</td>\n",
       "      <td>124.0</td>\n",
       "      <td>148</td>\n",
       "    </tr>\n",
       "    <tr>\n",
       "      <th>...</th>\n",
       "      <td>...</td>\n",
       "      <td>...</td>\n",
       "      <td>...</td>\n",
       "      <td>...</td>\n",
       "      <td>...</td>\n",
       "      <td>...</td>\n",
       "      <td>...</td>\n",
       "      <td>...</td>\n",
       "      <td>...</td>\n",
       "      <td>...</td>\n",
       "    </tr>\n",
       "    <tr>\n",
       "      <th>7669861</th>\n",
       "      <td>1</td>\n",
       "      <td>57</td>\n",
       "      <td>1</td>\n",
       "      <td>28.0</td>\n",
       "      <td>0</td>\n",
       "      <td>0</td>\n",
       "      <td>1</td>\n",
       "      <td>51661.0</td>\n",
       "      <td>124.0</td>\n",
       "      <td>109</td>\n",
       "    </tr>\n",
       "    <tr>\n",
       "      <th>7669862</th>\n",
       "      <td>1</td>\n",
       "      <td>28</td>\n",
       "      <td>1</td>\n",
       "      <td>50.0</td>\n",
       "      <td>1</td>\n",
       "      <td>1</td>\n",
       "      <td>0</td>\n",
       "      <td>25651.0</td>\n",
       "      <td>152.0</td>\n",
       "      <td>184</td>\n",
       "    </tr>\n",
       "    <tr>\n",
       "      <th>7669863</th>\n",
       "      <td>1</td>\n",
       "      <td>47</td>\n",
       "      <td>1</td>\n",
       "      <td>33.0</td>\n",
       "      <td>1</td>\n",
       "      <td>0</td>\n",
       "      <td>0</td>\n",
       "      <td>2630.0</td>\n",
       "      <td>138.0</td>\n",
       "      <td>63</td>\n",
       "    </tr>\n",
       "    <tr>\n",
       "      <th>7669864</th>\n",
       "      <td>1</td>\n",
       "      <td>30</td>\n",
       "      <td>1</td>\n",
       "      <td>28.0</td>\n",
       "      <td>0</td>\n",
       "      <td>1</td>\n",
       "      <td>1</td>\n",
       "      <td>38866.0</td>\n",
       "      <td>124.0</td>\n",
       "      <td>119</td>\n",
       "    </tr>\n",
       "    <tr>\n",
       "      <th>7669865</th>\n",
       "      <td>1</td>\n",
       "      <td>23</td>\n",
       "      <td>1</td>\n",
       "      <td>46.0</td>\n",
       "      <td>1</td>\n",
       "      <td>1</td>\n",
       "      <td>0</td>\n",
       "      <td>27498.0</td>\n",
       "      <td>152.0</td>\n",
       "      <td>79</td>\n",
       "    </tr>\n",
       "  </tbody>\n",
       "</table>\n",
       "<p>7669866 rows × 10 columns</p>\n",
       "</div>"
      ],
      "text/plain": [
       "         Gender  Age  Driving_License  Region_Code  Previously_Insured  \\\n",
       "0             0   20                1         47.0                   0   \n",
       "1             1   47                1         28.0                   0   \n",
       "2             1   47                1         43.0                   0   \n",
       "3             0   22                1         47.0                   1   \n",
       "4             1   51                1         19.0                   0   \n",
       "...         ...  ...              ...          ...                 ...   \n",
       "7669861       1   57                1         28.0                   0   \n",
       "7669862       1   28                1         50.0                   1   \n",
       "7669863       1   47                1         33.0                   1   \n",
       "7669864       1   30                1         28.0                   0   \n",
       "7669865       1   23                1         46.0                   1   \n",
       "\n",
       "         Vehicle_Age  Vehicle_Damage  Annual_Premium  Policy_Sales_Channel  \\\n",
       "0                  1               0          2630.0                 160.0   \n",
       "1                  0               1         37483.0                 124.0   \n",
       "2                  0               1          2630.0                  26.0   \n",
       "3                  1               0         24502.0                 152.0   \n",
       "4                  0               0         34115.0                 124.0   \n",
       "...              ...             ...             ...                   ...   \n",
       "7669861            0               1         51661.0                 124.0   \n",
       "7669862            1               0         25651.0                 152.0   \n",
       "7669863            0               0          2630.0                 138.0   \n",
       "7669864            1               1         38866.0                 124.0   \n",
       "7669865            1               0         27498.0                 152.0   \n",
       "\n",
       "         Vintage  \n",
       "0            228  \n",
       "1            123  \n",
       "2            271  \n",
       "3            115  \n",
       "4            148  \n",
       "...          ...  \n",
       "7669861      109  \n",
       "7669862      184  \n",
       "7669863       63  \n",
       "7669864      119  \n",
       "7669865       79  \n",
       "\n",
       "[7669866 rows x 10 columns]"
      ]
     },
     "execution_count": 20,
     "metadata": {},
     "output_type": "execute_result"
    }
   ],
   "source": [
    "target"
   ]
  },
  {
   "cell_type": "code",
   "execution_count": 21,
   "id": "75bfe93c",
   "metadata": {},
   "outputs": [],
   "source": [
    "# Use a utility from sklearn to split and shuffle your dataset.\n",
    "train_df, test_df = train_test_split(train, test_size=0.2)\n",
    "train_df, val_df = train_test_split(train_df, test_size=0.2)\n",
    "\n",
    "# Form np arrays of labels and features.\n",
    "train_labels = np.array(train_df.pop('Response'))\n",
    "bool_train_labels = train_labels != 0\n",
    "val_labels = np.array(val_df.pop('Response'))\n",
    "test_labels = np.array(test_df.pop('Response'))\n",
    "\n",
    "train_features = np.array(train_df)\n",
    "val_features = np.array(val_df)\n",
    "test_features = np.array(test_df)"
   ]
  },
  {
   "cell_type": "code",
   "execution_count": 22,
   "id": "c59ca44e",
   "metadata": {},
   "outputs": [
    {
     "name": "stderr",
     "output_type": "stream",
     "text": [
      "C:\\Users\\OSY\\anaconda3\\envs\\osy\\lib\\site-packages\\sklearn\\base.py:432: UserWarning: X has feature names, but StandardScaler was fitted without feature names\n",
      "  warnings.warn(\n"
     ]
    },
    {
     "name": "stdout",
     "output_type": "stream",
     "text": [
      "Training labels shape: (7363070,)\n",
      "Validation labels shape: (1840768,)\n",
      "Test labels shape: (2300960,)\n",
      "Training features shape: (7363070, 10)\n",
      "Validation features shape: (1840768, 10)\n",
      "Test features shape: (2300960, 10)\n",
      "Target features shape: (7669866, 10)\n"
     ]
    }
   ],
   "source": [
    "scaler = StandardScaler()\n",
    "train_features = scaler.fit_transform(train_features)\n",
    "\n",
    "val_features = scaler.transform(val_features)\n",
    "test_features = scaler.transform(test_features)\n",
    "target_features = scaler.transform(target)\n",
    "\n",
    "train_features = np.clip(train_features, -5, 5)\n",
    "val_features = np.clip(val_features, -5, 5)\n",
    "test_features = np.clip(test_features, -5, 5)\n",
    "\n",
    "\n",
    "print('Training labels shape:', train_labels.shape)\n",
    "print('Validation labels shape:', val_labels.shape)\n",
    "print('Test labels shape:', test_labels.shape)\n",
    "\n",
    "print('Training features shape:', train_features.shape)\n",
    "print('Validation features shape:', val_features.shape)\n",
    "print('Test features shape:', test_features.shape)\n",
    "print('Target features shape:', target_features.shape)"
   ]
  },
  {
   "cell_type": "code",
   "execution_count": 27,
   "id": "0e0d23f7",
   "metadata": {},
   "outputs": [],
   "source": [
    "import tensorflow as tf\n",
    "from tensorflow import keras\n",
    "\n",
    "# Define the metrics\n",
    "METRICS = [\n",
    "    keras.metrics.TruePositives(name='tp'),\n",
    "    keras.metrics.FalsePositives(name='fp'),\n",
    "    keras.metrics.TrueNegatives(name='tn'),\n",
    "    keras.metrics.FalseNegatives(name='fn'),\n",
    "    keras.metrics.BinaryAccuracy(name='accuracy'),\n",
    "    keras.metrics.Precision(name='precision'),\n",
    "    keras.metrics.Recall(name='recall'),\n",
    "    keras.metrics.AUC(name='auc'),\n",
    "    keras.metrics.AUC(name='prc', curve='PR'),  # precision-recall curve\n",
    "]\n",
    "\n",
    "def make_model(metrics=METRICS, output_bias=None):\n",
    "    if output_bias is not None:\n",
    "        output_bias = tf.keras.initializers.Constant(output_bias)\n",
    "    \n",
    "    model = keras.Sequential([\n",
    "        keras.layers.Dense(\n",
    "            8, activation='relu',\n",
    "            input_shape=(train_features.shape[-1],)\n",
    "        ),\n",
    "        keras.layers.Dropout(0.5),\n",
    "        keras.layers.Dense(\n",
    "            1, activation='sigmoid',\n",
    "            bias_initializer=output_bias\n",
    "        ),\n",
    "    ])\n",
    "\n",
    "    model.compile(\n",
    "        optimizer=keras.optimizers.Adam(learning_rate=1e-3),\n",
    "        loss=keras.losses.BinaryCrossentropy(),\n",
    "        metrics=metrics\n",
    "    )\n",
    "\n",
    "    return model\n"
   ]
  },
  {
   "cell_type": "code",
   "execution_count": 28,
   "id": "de7dffa2",
   "metadata": {},
   "outputs": [],
   "source": [
    "# Define the metrics\n",
    "METRICS = [\n",
    "    keras.metrics.TruePositives(name='tp'),\n",
    "    keras.metrics.FalsePositives(name='fp'),\n",
    "    keras.metrics.TrueNegatives(name='tn'),\n",
    "    keras.metrics.FalseNegatives(name='fn'),\n",
    "    keras.metrics.BinaryAccuracy(name='accuracy'),\n",
    "    keras.metrics.Precision(name='precision'),\n",
    "    keras.metrics.Recall(name='recall'),\n",
    "    keras.metrics.AUC(name='auc'),\n",
    "    keras.metrics.AUC(name='prc', curve='PR'),  # precision-recall curve\n",
    "]\n",
    "def make_model(metrics=METRICS, output_bias=None):\n",
    "    if output_bias is not None:\n",
    "        output_bias = tf.keras.initializers.Constant(output_bias)\n",
    "    \n",
    "    model = keras.Sequential([\n",
    "    keras.layers.Dense(16, activation='relu', input_shape=(train_features.shape[-1],)),\n",
    "    \n",
    "    # 두 번째 은닉층: 12개의 뉴런, ReLU 활성화 함수\n",
    "    keras.layers.Dense(12, activation='relu'),\n",
    "    \n",
    "    # 드롭아웃 레이어: 50%의 뉴런을 랜덤하게 비활성화\n",
    "    keras.layers.Dropout(0.5),\n",
    "    \n",
    "    # 세 번째 은닉층: 8개의 뉴런, ReLU 활성화 함수\n",
    "    keras.layers.Dense(8, activation='relu'),\n",
    "    \n",
    "    # 출력층: 1개의 뉴런, 시그모이드 활성화 함수, 바이어스 초기화\n",
    "    keras.layers.Dense(1, activation='sigmoid', bias_initializer=output_bias),\n",
    "    ])\n",
    "\n",
    "    model.compile(\n",
    "        optimizer=keras.optimizers.Adam(learning_rate=1e-3),\n",
    "        loss=keras.losses.BinaryCrossentropy(),\n",
    "        metrics=metrics\n",
    "    )\n",
    "\n",
    "    return model"
   ]
  },
  {
   "cell_type": "code",
   "execution_count": 29,
   "id": "734679bc",
   "metadata": {},
   "outputs": [],
   "source": [
    "EPOCHS = 100\n",
    "BATCH_SIZE = 1024\n",
    "\n",
    "early_stopping = tf.keras.callbacks.EarlyStopping(\n",
    "    monitor='val_prc', \n",
    "    verbose=1,\n",
    "    patience=10,\n",
    "    mode='max',\n",
    "    restore_best_weights=True)"
   ]
  },
  {
   "cell_type": "code",
   "execution_count": 30,
   "id": "b770323d",
   "metadata": {},
   "outputs": [
    {
     "name": "stdout",
     "output_type": "stream",
     "text": [
      "Model: \"sequential_1\"\n",
      "_________________________________________________________________\n",
      " Layer (type)                Output Shape              Param #   \n",
      "=================================================================\n",
      " dense_4 (Dense)             (None, 16)                176       \n",
      "                                                                 \n",
      " dense_5 (Dense)             (None, 12)                204       \n",
      "                                                                 \n",
      " dropout_1 (Dropout)         (None, 12)                0         \n",
      "                                                                 \n",
      " dense_6 (Dense)             (None, 8)                 104       \n",
      "                                                                 \n",
      " dense_7 (Dense)             (None, 1)                 9         \n",
      "                                                                 \n",
      "=================================================================\n",
      "Total params: 493\n",
      "Trainable params: 493\n",
      "Non-trainable params: 0\n",
      "_________________________________________________________________\n"
     ]
    }
   ],
   "source": [
    "model = make_model()\n",
    "model.summary()"
   ]
  },
  {
   "cell_type": "code",
   "execution_count": 31,
   "id": "067aa4d6",
   "metadata": {
    "scrolled": true
   },
   "outputs": [
    {
     "name": "stdout",
     "output_type": "stream",
     "text": [
      "1/1 [==============================] - 3s 3s/step\n"
     ]
    },
    {
     "data": {
      "text/plain": [
       "array([[0.22663157],\n",
       "       [0.18727216],\n",
       "       [0.21960346],\n",
       "       [0.26848558],\n",
       "       [0.3194563 ],\n",
       "       [0.20331745],\n",
       "       [0.20786275],\n",
       "       [0.19915336],\n",
       "       [0.2474247 ],\n",
       "       [0.45842505]], dtype=float32)"
      ]
     },
     "execution_count": 31,
     "metadata": {},
     "output_type": "execute_result"
    }
   ],
   "source": [
    "model.predict(train_features[:10])"
   ]
  },
  {
   "cell_type": "code",
   "execution_count": 32,
   "id": "b700ea34",
   "metadata": {},
   "outputs": [
    {
     "name": "stdout",
     "output_type": "stream",
     "text": [
      "Loss: 0.4425\n"
     ]
    }
   ],
   "source": [
    "results = model.evaluate(train_features, train_labels, batch_size=BATCH_SIZE, verbose=0)\n",
    "print(\"Loss: {:0.4f}\".format(results[0]))"
   ]
  },
  {
   "cell_type": "code",
   "execution_count": 33,
   "id": "ccbf52a9",
   "metadata": {},
   "outputs": [
    {
     "data": {
      "text/plain": [
       "array([-1.96434774])"
      ]
     },
     "execution_count": 33,
     "metadata": {},
     "output_type": "execute_result"
    }
   ],
   "source": [
    "initial_bias = np.log([pos/neg])\n",
    "initial_bias"
   ]
  },
  {
   "cell_type": "code",
   "execution_count": 34,
   "id": "c332e1f9",
   "metadata": {},
   "outputs": [
    {
     "name": "stdout",
     "output_type": "stream",
     "text": [
      "1/1 [==============================] - 0s 83ms/step\n"
     ]
    },
    {
     "data": {
      "text/plain": [
       "array([[0.1381229 ],\n",
       "       [0.10144159],\n",
       "       [0.09427759],\n",
       "       [0.10900233],\n",
       "       [0.10541287],\n",
       "       [0.14126775],\n",
       "       [0.10278052],\n",
       "       [0.10101482],\n",
       "       [0.11846524],\n",
       "       [0.1099581 ]], dtype=float32)"
      ]
     },
     "execution_count": 34,
     "metadata": {},
     "output_type": "execute_result"
    }
   ],
   "source": [
    "model = make_model(output_bias=initial_bias)\n",
    "model.predict(train_features[:10])"
   ]
  },
  {
   "cell_type": "code",
   "execution_count": 35,
   "id": "c77aa788",
   "metadata": {},
   "outputs": [
    {
     "name": "stdout",
     "output_type": "stream",
     "text": [
      "Loss: 0.3726\n"
     ]
    }
   ],
   "source": [
    "results = model.evaluate(train_features, train_labels, batch_size=BATCH_SIZE, verbose=0)\n",
    "print(\"Loss: {:0.4f}\".format(results[0]))"
   ]
  },
  {
   "cell_type": "code",
   "execution_count": 37,
   "id": "b2f4be94",
   "metadata": {},
   "outputs": [],
   "source": [
    "initial_weights = os.path.join(tempfile.mkdtemp(), 'initial_weights')\n",
    "model.save_weights(initial_weights)"
   ]
  },
  {
   "cell_type": "code",
   "execution_count": 38,
   "id": "a29da903",
   "metadata": {},
   "outputs": [
    {
     "name": "stdout",
     "output_type": "stream",
     "text": [
      "Weight for class 0: 0.57\n",
      "Weight for class 1: 4.07\n"
     ]
    }
   ],
   "source": [
    "weight_for_0 = (1 / neg) * (total / 2.0)\n",
    "weight_for_1 = (1 / pos) * (total / 2.0)\n",
    "\n",
    "class_weight = {0: weight_for_0, 1: weight_for_1}\n",
    "\n",
    "print('Weight for class 0: {:.2f}'.format(weight_for_0))\n",
    "print('Weight for class 1: {:.2f}'.format(weight_for_1))"
   ]
  },
  {
   "cell_type": "code",
   "execution_count": 39,
   "id": "266f2465",
   "metadata": {},
   "outputs": [
    {
     "name": "stdout",
     "output_type": "stream",
     "text": [
      "Epoch 1/100\n",
      "7191/7191 [==============================] - 67s 9ms/step - loss: 0.2722 - tp: 4086.0000 - fp: 41573.0000 - tn: 19331284.0000 - fn: 2712270.0000 - accuracy: 0.8753 - precision: 0.0895 - recall: 0.0015 - auc: 0.6454 - prc: 0.1734 - val_loss: 0.2691 - val_tp: 0.0000e+00 - val_fp: 0.0000e+00 - val_tn: 1614345.0000 - val_fn: 226423.0000 - val_accuracy: 0.8770 - val_precision: 0.0000e+00 - val_recall: 0.0000e+00 - val_auc: 0.8555 - val_prc: 0.3629\n",
      "Epoch 2/100\n",
      "7191/7191 [==============================] - 64s 9ms/step - loss: 0.2679 - tp: 5696.0000 - fp: 5900.0000 - tn: 6451718.0000 - fn: 899756.0000 - accuracy: 0.8770 - precision: 0.4912 - recall: 0.0063 - auc: 0.8521 - prc: 0.3567 - val_loss: 0.2719 - val_tp: 0.0000e+00 - val_fp: 0.0000e+00 - val_tn: 1614345.0000 - val_fn: 226423.0000 - val_accuracy: 0.8770 - val_precision: 0.0000e+00 - val_recall: 0.0000e+00 - val_auc: 0.8561 - val_prc: 0.3653\n",
      "Epoch 3/100\n",
      "7191/7191 [==============================] - 61s 9ms/step - loss: 0.2673 - tp: 7108.0000 - fp: 7032.0000 - tn: 6450586.0000 - fn: 898344.0000 - accuracy: 0.8770 - precision: 0.5027 - recall: 0.0079 - auc: 0.8532 - prc: 0.3601 - val_loss: 0.2738 - val_tp: 0.0000e+00 - val_fp: 0.0000e+00 - val_tn: 1614345.0000 - val_fn: 226423.0000 - val_accuracy: 0.8770 - val_precision: 0.0000e+00 - val_recall: 0.0000e+00 - val_auc: 0.8560 - val_prc: 0.3663\n",
      "Epoch 4/100\n",
      "7191/7191 [==============================] - 63s 9ms/step - loss: 0.2670 - tp: 8424.0000 - fp: 8443.0000 - tn: 6449175.0000 - fn: 897028.0000 - accuracy: 0.8770 - precision: 0.4994 - recall: 0.0093 - auc: 0.8537 - prc: 0.3618 - val_loss: 0.2750 - val_tp: 0.0000e+00 - val_fp: 0.0000e+00 - val_tn: 1614345.0000 - val_fn: 226423.0000 - val_accuracy: 0.8770 - val_precision: 0.0000e+00 - val_recall: 0.0000e+00 - val_auc: 0.8554 - val_prc: 0.3652\n",
      "Epoch 5/100\n",
      "7191/7191 [==============================] - 63s 9ms/step - loss: 0.2668 - tp: 9402.0000 - fp: 9184.0000 - tn: 6448434.0000 - fn: 896050.0000 - accuracy: 0.8771 - precision: 0.5059 - recall: 0.0104 - auc: 0.8540 - prc: 0.3626 - val_loss: 0.2781 - val_tp: 0.0000e+00 - val_fp: 0.0000e+00 - val_tn: 1614345.0000 - val_fn: 226423.0000 - val_accuracy: 0.8770 - val_precision: 0.0000e+00 - val_recall: 0.0000e+00 - val_auc: 0.8481 - val_prc: 0.3548\n",
      "Epoch 6/100\n",
      "7191/7191 [==============================] - 62s 9ms/step - loss: 0.2667 - tp: 10565.0000 - fp: 10315.0000 - tn: 6447303.0000 - fn: 894887.0000 - accuracy: 0.8771 - precision: 0.5060 - recall: 0.0117 - auc: 0.8542 - prc: 0.3632 - val_loss: 0.2795 - val_tp: 0.0000e+00 - val_fp: 0.0000e+00 - val_tn: 1614345.0000 - val_fn: 226423.0000 - val_accuracy: 0.8770 - val_precision: 0.0000e+00 - val_recall: 0.0000e+00 - val_auc: 0.8467 - val_prc: 0.3543\n",
      "Epoch 7/100\n",
      "7191/7191 [==============================] - 62s 9ms/step - loss: 0.2667 - tp: 10239.0000 - fp: 10004.0000 - tn: 6447614.0000 - fn: 895213.0000 - accuracy: 0.8771 - precision: 0.5058 - recall: 0.0113 - auc: 0.8542 - prc: 0.3632 - val_loss: 0.2790 - val_tp: 0.0000e+00 - val_fp: 0.0000e+00 - val_tn: 1614345.0000 - val_fn: 226423.0000 - val_accuracy: 0.8770 - val_precision: 0.0000e+00 - val_recall: 0.0000e+00 - val_auc: 0.8484 - val_prc: 0.3572\n",
      "Epoch 8/100\n",
      "7191/7191 [==============================] - 63s 9ms/step - loss: 0.2666 - tp: 9837.0000 - fp: 9491.0000 - tn: 6448127.0000 - fn: 895615.0000 - accuracy: 0.8771 - precision: 0.5090 - recall: 0.0109 - auc: 0.8543 - prc: 0.3635 - val_loss: 0.2800 - val_tp: 0.0000e+00 - val_fp: 0.0000e+00 - val_tn: 1614345.0000 - val_fn: 226423.0000 - val_accuracy: 0.8770 - val_precision: 0.0000e+00 - val_recall: 0.0000e+00 - val_auc: 0.8449 - val_prc: 0.3511\n",
      "Epoch 9/100\n",
      "7191/7191 [==============================] - 65s 9ms/step - loss: 0.2665 - tp: 10855.0000 - fp: 10399.0000 - tn: 6447219.0000 - fn: 894597.0000 - accuracy: 0.8771 - precision: 0.5107 - recall: 0.0120 - auc: 0.8545 - prc: 0.3641 - val_loss: 0.2800 - val_tp: 0.0000e+00 - val_fp: 0.0000e+00 - val_tn: 1614345.0000 - val_fn: 226423.0000 - val_accuracy: 0.8770 - val_precision: 0.0000e+00 - val_recall: 0.0000e+00 - val_auc: 0.8396 - val_prc: 0.3396\n",
      "Epoch 10/100\n",
      "7191/7191 [==============================] - 65s 9ms/step - loss: 0.2665 - tp: 11095.0000 - fp: 10804.0000 - tn: 6446814.0000 - fn: 894357.0000 - accuracy: 0.8771 - precision: 0.5066 - recall: 0.0123 - auc: 0.8546 - prc: 0.3642 - val_loss: 0.2787 - val_tp: 0.0000e+00 - val_fp: 0.0000e+00 - val_tn: 1614345.0000 - val_fn: 226423.0000 - val_accuracy: 0.8770 - val_precision: 0.0000e+00 - val_recall: 0.0000e+00 - val_auc: 0.8459 - val_prc: 0.3483\n",
      "Epoch 11/100\n",
      "7191/7191 [==============================] - 63s 9ms/step - loss: 0.2665 - tp: 10512.0000 - fp: 10306.0000 - tn: 6447312.0000 - fn: 894940.0000 - accuracy: 0.8771 - precision: 0.5049 - recall: 0.0116 - auc: 0.8545 - prc: 0.3639 - val_loss: 0.2812 - val_tp: 0.0000e+00 - val_fp: 0.0000e+00 - val_tn: 1614345.0000 - val_fn: 226423.0000 - val_accuracy: 0.8770 - val_precision: 0.0000e+00 - val_recall: 0.0000e+00 - val_auc: 0.8480 - val_prc: 0.3524\n",
      "Epoch 12/100\n",
      "7191/7191 [==============================] - 63s 9ms/step - loss: 0.2665 - tp: 10622.0000 - fp: 10463.0000 - tn: 6447155.0000 - fn: 894830.0000 - accuracy: 0.8770 - precision: 0.5038 - recall: 0.0117 - auc: 0.8546 - prc: 0.3643 - val_loss: 0.2800 - val_tp: 0.0000e+00 - val_fp: 0.0000e+00 - val_tn: 1614345.0000 - val_fn: 226423.0000 - val_accuracy: 0.8770 - val_precision: 0.0000e+00 - val_recall: 0.0000e+00 - val_auc: 0.8499 - val_prc: 0.3584\n",
      "Epoch 13/100\n",
      "7186/7191 [============================>.] - ETA: 0s - loss: 0.2665 - tp: 11043.0000 - fp: 10803.0000 - tn: 6442784.0000 - fn: 893834.0000 - accuracy: 0.8771 - precision: 0.5055 - recall: 0.0122 - auc: 0.8547 - prc: 0.3645Restoring model weights from the end of the best epoch: 3.\n",
      "7191/7191 [==============================] - 62s 9ms/step - loss: 0.2665 - tp: 11048.0000 - fp: 10806.0000 - tn: 6446812.0000 - fn: 894404.0000 - accuracy: 0.8771 - precision: 0.5055 - recall: 0.0122 - auc: 0.8547 - prc: 0.3645 - val_loss: 0.2832 - val_tp: 0.0000e+00 - val_fp: 0.0000e+00 - val_tn: 1614345.0000 - val_fn: 226423.0000 - val_accuracy: 0.8770 - val_precision: 0.0000e+00 - val_recall: 0.0000e+00 - val_auc: 0.8390 - val_prc: 0.3285\n",
      "Epoch 13: early stopping\n"
     ]
    }
   ],
   "source": [
    "with tf.device('/GPU:0'):\n",
    "    model = make_model()\n",
    "    model.load_weights(initial_weights)\n",
    "    baseline_history = model.fit(\n",
    "        train_features,\n",
    "        train_labels,\n",
    "        batch_size=BATCH_SIZE,\n",
    "        epochs=EPOCHS,\n",
    "        callbacks=[early_stopping],\n",
    "        validation_data=(val_features, val_labels))"
   ]
  },
  {
   "cell_type": "code",
   "execution_count": null,
   "id": "92567836",
   "metadata": {},
   "outputs": [
    {
     "name": "stdout",
     "output_type": "stream",
     "text": [
      "71905/71905 [==============================] - 116s 2ms/step\n"
     ]
    }
   ],
   "source": [
    "y_pred_prob = model.predict(test_features).ravel()\n",
    "roc_auc = roc_auc_score(test_labels, y_pred_prob)\n",
    "print(f'ROC AUC: {roc_auc:.2f}')"
   ]
  },
  {
   "cell_type": "code",
   "execution_count": 24,
   "id": "fc2088d0",
   "metadata": {
    "scrolled": true
   },
   "outputs": [
    {
     "name": "stdout",
     "output_type": "stream",
     "text": [
      "Epoch 1/10\n",
      " 316/7191 [>.............................] - ETA: 51s - loss: 0.7488 - tp: 147888.0000 - fp: 400934.0000 - tn: 14063016.0000 - fn: 1881726.0000 - accuracy: 0.8616 - precision: 0.2695 - recall: 0.0729 - auc: 0.5810 - prc: 0.1622"
     ]
    },
    {
     "ename": "KeyboardInterrupt",
     "evalue": "",
     "output_type": "error",
     "traceback": [
      "\u001b[1;31m---------------------------------------------------------------------------\u001b[0m",
      "\u001b[1;31mKeyboardInterrupt\u001b[0m                         Traceback (most recent call last)",
      "\u001b[1;32m~\\AppData\\Local\\Temp\\ipykernel_30360\\17733368.py\u001b[0m in \u001b[0;36m<cell line: 4>\u001b[1;34m()\u001b[0m\n\u001b[0;32m      2\u001b[0m \u001b[0mweighted_model\u001b[0m\u001b[1;33m.\u001b[0m\u001b[0mload_weights\u001b[0m\u001b[1;33m(\u001b[0m\u001b[0minitial_weights\u001b[0m\u001b[1;33m)\u001b[0m\u001b[1;33m\u001b[0m\u001b[1;33m\u001b[0m\u001b[0m\n\u001b[0;32m      3\u001b[0m \u001b[1;33m\u001b[0m\u001b[0m\n\u001b[1;32m----> 4\u001b[1;33m weighted_history = weighted_model.fit(\n\u001b[0m\u001b[0;32m      5\u001b[0m     \u001b[0mtrain_features\u001b[0m\u001b[1;33m,\u001b[0m\u001b[1;33m\u001b[0m\u001b[1;33m\u001b[0m\u001b[0m\n\u001b[0;32m      6\u001b[0m     \u001b[0mtrain_labels\u001b[0m\u001b[1;33m,\u001b[0m\u001b[1;33m\u001b[0m\u001b[1;33m\u001b[0m\u001b[0m\n",
      "\u001b[1;32m~\\anaconda3\\envs\\osy\\lib\\site-packages\\keras\\utils\\traceback_utils.py\u001b[0m in \u001b[0;36merror_handler\u001b[1;34m(*args, **kwargs)\u001b[0m\n\u001b[0;32m     63\u001b[0m         \u001b[0mfiltered_tb\u001b[0m \u001b[1;33m=\u001b[0m \u001b[1;32mNone\u001b[0m\u001b[1;33m\u001b[0m\u001b[1;33m\u001b[0m\u001b[0m\n\u001b[0;32m     64\u001b[0m         \u001b[1;32mtry\u001b[0m\u001b[1;33m:\u001b[0m\u001b[1;33m\u001b[0m\u001b[1;33m\u001b[0m\u001b[0m\n\u001b[1;32m---> 65\u001b[1;33m             \u001b[1;32mreturn\u001b[0m \u001b[0mfn\u001b[0m\u001b[1;33m(\u001b[0m\u001b[1;33m*\u001b[0m\u001b[0margs\u001b[0m\u001b[1;33m,\u001b[0m \u001b[1;33m**\u001b[0m\u001b[0mkwargs\u001b[0m\u001b[1;33m)\u001b[0m\u001b[1;33m\u001b[0m\u001b[1;33m\u001b[0m\u001b[0m\n\u001b[0m\u001b[0;32m     66\u001b[0m         \u001b[1;32mexcept\u001b[0m \u001b[0mException\u001b[0m \u001b[1;32mas\u001b[0m \u001b[0me\u001b[0m\u001b[1;33m:\u001b[0m\u001b[1;33m\u001b[0m\u001b[1;33m\u001b[0m\u001b[0m\n\u001b[0;32m     67\u001b[0m             \u001b[0mfiltered_tb\u001b[0m \u001b[1;33m=\u001b[0m \u001b[0m_process_traceback_frames\u001b[0m\u001b[1;33m(\u001b[0m\u001b[0me\u001b[0m\u001b[1;33m.\u001b[0m\u001b[0m__traceback__\u001b[0m\u001b[1;33m)\u001b[0m\u001b[1;33m\u001b[0m\u001b[1;33m\u001b[0m\u001b[0m\n",
      "\u001b[1;32m~\\anaconda3\\envs\\osy\\lib\\site-packages\\keras\\engine\\training.py\u001b[0m in \u001b[0;36mfit\u001b[1;34m(self, x, y, batch_size, epochs, verbose, callbacks, validation_split, validation_data, shuffle, class_weight, sample_weight, initial_epoch, steps_per_epoch, validation_steps, validation_batch_size, validation_freq, max_queue_size, workers, use_multiprocessing)\u001b[0m\n\u001b[0;32m   1562\u001b[0m                         ):\n\u001b[0;32m   1563\u001b[0m                             \u001b[0mcallbacks\u001b[0m\u001b[1;33m.\u001b[0m\u001b[0mon_train_batch_begin\u001b[0m\u001b[1;33m(\u001b[0m\u001b[0mstep\u001b[0m\u001b[1;33m)\u001b[0m\u001b[1;33m\u001b[0m\u001b[1;33m\u001b[0m\u001b[0m\n\u001b[1;32m-> 1564\u001b[1;33m                             \u001b[0mtmp_logs\u001b[0m \u001b[1;33m=\u001b[0m \u001b[0mself\u001b[0m\u001b[1;33m.\u001b[0m\u001b[0mtrain_function\u001b[0m\u001b[1;33m(\u001b[0m\u001b[0miterator\u001b[0m\u001b[1;33m)\u001b[0m\u001b[1;33m\u001b[0m\u001b[1;33m\u001b[0m\u001b[0m\n\u001b[0m\u001b[0;32m   1565\u001b[0m                             \u001b[1;32mif\u001b[0m \u001b[0mdata_handler\u001b[0m\u001b[1;33m.\u001b[0m\u001b[0mshould_sync\u001b[0m\u001b[1;33m:\u001b[0m\u001b[1;33m\u001b[0m\u001b[1;33m\u001b[0m\u001b[0m\n\u001b[0;32m   1566\u001b[0m                                 \u001b[0mcontext\u001b[0m\u001b[1;33m.\u001b[0m\u001b[0masync_wait\u001b[0m\u001b[1;33m(\u001b[0m\u001b[1;33m)\u001b[0m\u001b[1;33m\u001b[0m\u001b[1;33m\u001b[0m\u001b[0m\n",
      "\u001b[1;32m~\\anaconda3\\envs\\osy\\lib\\site-packages\\tensorflow\\python\\util\\traceback_utils.py\u001b[0m in \u001b[0;36merror_handler\u001b[1;34m(*args, **kwargs)\u001b[0m\n\u001b[0;32m    148\u001b[0m     \u001b[0mfiltered_tb\u001b[0m \u001b[1;33m=\u001b[0m \u001b[1;32mNone\u001b[0m\u001b[1;33m\u001b[0m\u001b[1;33m\u001b[0m\u001b[0m\n\u001b[0;32m    149\u001b[0m     \u001b[1;32mtry\u001b[0m\u001b[1;33m:\u001b[0m\u001b[1;33m\u001b[0m\u001b[1;33m\u001b[0m\u001b[0m\n\u001b[1;32m--> 150\u001b[1;33m       \u001b[1;32mreturn\u001b[0m \u001b[0mfn\u001b[0m\u001b[1;33m(\u001b[0m\u001b[1;33m*\u001b[0m\u001b[0margs\u001b[0m\u001b[1;33m,\u001b[0m \u001b[1;33m**\u001b[0m\u001b[0mkwargs\u001b[0m\u001b[1;33m)\u001b[0m\u001b[1;33m\u001b[0m\u001b[1;33m\u001b[0m\u001b[0m\n\u001b[0m\u001b[0;32m    151\u001b[0m     \u001b[1;32mexcept\u001b[0m \u001b[0mException\u001b[0m \u001b[1;32mas\u001b[0m \u001b[0me\u001b[0m\u001b[1;33m:\u001b[0m\u001b[1;33m\u001b[0m\u001b[1;33m\u001b[0m\u001b[0m\n\u001b[0;32m    152\u001b[0m       \u001b[0mfiltered_tb\u001b[0m \u001b[1;33m=\u001b[0m \u001b[0m_process_traceback_frames\u001b[0m\u001b[1;33m(\u001b[0m\u001b[0me\u001b[0m\u001b[1;33m.\u001b[0m\u001b[0m__traceback__\u001b[0m\u001b[1;33m)\u001b[0m\u001b[1;33m\u001b[0m\u001b[1;33m\u001b[0m\u001b[0m\n",
      "\u001b[1;32m~\\anaconda3\\envs\\osy\\lib\\site-packages\\tensorflow\\python\\eager\\def_function.py\u001b[0m in \u001b[0;36m__call__\u001b[1;34m(self, *args, **kwds)\u001b[0m\n\u001b[0;32m    913\u001b[0m \u001b[1;33m\u001b[0m\u001b[0m\n\u001b[0;32m    914\u001b[0m       \u001b[1;32mwith\u001b[0m \u001b[0mOptionalXlaContext\u001b[0m\u001b[1;33m(\u001b[0m\u001b[0mself\u001b[0m\u001b[1;33m.\u001b[0m\u001b[0m_jit_compile\u001b[0m\u001b[1;33m)\u001b[0m\u001b[1;33m:\u001b[0m\u001b[1;33m\u001b[0m\u001b[1;33m\u001b[0m\u001b[0m\n\u001b[1;32m--> 915\u001b[1;33m         \u001b[0mresult\u001b[0m \u001b[1;33m=\u001b[0m \u001b[0mself\u001b[0m\u001b[1;33m.\u001b[0m\u001b[0m_call\u001b[0m\u001b[1;33m(\u001b[0m\u001b[1;33m*\u001b[0m\u001b[0margs\u001b[0m\u001b[1;33m,\u001b[0m \u001b[1;33m**\u001b[0m\u001b[0mkwds\u001b[0m\u001b[1;33m)\u001b[0m\u001b[1;33m\u001b[0m\u001b[1;33m\u001b[0m\u001b[0m\n\u001b[0m\u001b[0;32m    916\u001b[0m \u001b[1;33m\u001b[0m\u001b[0m\n\u001b[0;32m    917\u001b[0m       \u001b[0mnew_tracing_count\u001b[0m \u001b[1;33m=\u001b[0m \u001b[0mself\u001b[0m\u001b[1;33m.\u001b[0m\u001b[0mexperimental_get_tracing_count\u001b[0m\u001b[1;33m(\u001b[0m\u001b[1;33m)\u001b[0m\u001b[1;33m\u001b[0m\u001b[1;33m\u001b[0m\u001b[0m\n",
      "\u001b[1;32m~\\anaconda3\\envs\\osy\\lib\\site-packages\\tensorflow\\python\\eager\\def_function.py\u001b[0m in \u001b[0;36m_call\u001b[1;34m(self, *args, **kwds)\u001b[0m\n\u001b[0;32m    945\u001b[0m       \u001b[1;31m# In this case we have created variables on the first call, so we run the\u001b[0m\u001b[1;33m\u001b[0m\u001b[1;33m\u001b[0m\u001b[0m\n\u001b[0;32m    946\u001b[0m       \u001b[1;31m# defunned version which is guaranteed to never create variables.\u001b[0m\u001b[1;33m\u001b[0m\u001b[1;33m\u001b[0m\u001b[0m\n\u001b[1;32m--> 947\u001b[1;33m       \u001b[1;32mreturn\u001b[0m \u001b[0mself\u001b[0m\u001b[1;33m.\u001b[0m\u001b[0m_stateless_fn\u001b[0m\u001b[1;33m(\u001b[0m\u001b[1;33m*\u001b[0m\u001b[0margs\u001b[0m\u001b[1;33m,\u001b[0m \u001b[1;33m**\u001b[0m\u001b[0mkwds\u001b[0m\u001b[1;33m)\u001b[0m  \u001b[1;31m# pylint: disable=not-callable\u001b[0m\u001b[1;33m\u001b[0m\u001b[1;33m\u001b[0m\u001b[0m\n\u001b[0m\u001b[0;32m    948\u001b[0m     \u001b[1;32melif\u001b[0m \u001b[0mself\u001b[0m\u001b[1;33m.\u001b[0m\u001b[0m_stateful_fn\u001b[0m \u001b[1;32mis\u001b[0m \u001b[1;32mnot\u001b[0m \u001b[1;32mNone\u001b[0m\u001b[1;33m:\u001b[0m\u001b[1;33m\u001b[0m\u001b[1;33m\u001b[0m\u001b[0m\n\u001b[0;32m    949\u001b[0m       \u001b[1;31m# Release the lock early so that multiple threads can perform the call\u001b[0m\u001b[1;33m\u001b[0m\u001b[1;33m\u001b[0m\u001b[0m\n",
      "\u001b[1;32m~\\anaconda3\\envs\\osy\\lib\\site-packages\\tensorflow\\python\\eager\\function.py\u001b[0m in \u001b[0;36m__call__\u001b[1;34m(self, *args, **kwargs)\u001b[0m\n\u001b[0;32m   2494\u001b[0m       (graph_function,\n\u001b[0;32m   2495\u001b[0m        filtered_flat_args) = self._maybe_define_function(args, kwargs)\n\u001b[1;32m-> 2496\u001b[1;33m     return graph_function._call_flat(\n\u001b[0m\u001b[0;32m   2497\u001b[0m         filtered_flat_args, captured_inputs=graph_function.captured_inputs)  # pylint: disable=protected-access\n\u001b[0;32m   2498\u001b[0m \u001b[1;33m\u001b[0m\u001b[0m\n",
      "\u001b[1;32m~\\anaconda3\\envs\\osy\\lib\\site-packages\\tensorflow\\python\\eager\\function.py\u001b[0m in \u001b[0;36m_call_flat\u001b[1;34m(self, args, captured_inputs, cancellation_manager)\u001b[0m\n\u001b[0;32m   1860\u001b[0m         and executing_eagerly):\n\u001b[0;32m   1861\u001b[0m       \u001b[1;31m# No tape is watching; skip to running the function.\u001b[0m\u001b[1;33m\u001b[0m\u001b[1;33m\u001b[0m\u001b[0m\n\u001b[1;32m-> 1862\u001b[1;33m       return self._build_call_outputs(self._inference_function.call(\n\u001b[0m\u001b[0;32m   1863\u001b[0m           ctx, args, cancellation_manager=cancellation_manager))\n\u001b[0;32m   1864\u001b[0m     forward_backward = self._select_forward_and_backward_functions(\n",
      "\u001b[1;32m~\\anaconda3\\envs\\osy\\lib\\site-packages\\tensorflow\\python\\eager\\function.py\u001b[0m in \u001b[0;36mcall\u001b[1;34m(self, ctx, args, cancellation_manager)\u001b[0m\n\u001b[0;32m    497\u001b[0m       \u001b[1;32mwith\u001b[0m \u001b[0m_InterpolateFunctionError\u001b[0m\u001b[1;33m(\u001b[0m\u001b[0mself\u001b[0m\u001b[1;33m)\u001b[0m\u001b[1;33m:\u001b[0m\u001b[1;33m\u001b[0m\u001b[1;33m\u001b[0m\u001b[0m\n\u001b[0;32m    498\u001b[0m         \u001b[1;32mif\u001b[0m \u001b[0mcancellation_manager\u001b[0m \u001b[1;32mis\u001b[0m \u001b[1;32mNone\u001b[0m\u001b[1;33m:\u001b[0m\u001b[1;33m\u001b[0m\u001b[1;33m\u001b[0m\u001b[0m\n\u001b[1;32m--> 499\u001b[1;33m           outputs = execute.execute(\n\u001b[0m\u001b[0;32m    500\u001b[0m               \u001b[0mstr\u001b[0m\u001b[1;33m(\u001b[0m\u001b[0mself\u001b[0m\u001b[1;33m.\u001b[0m\u001b[0msignature\u001b[0m\u001b[1;33m.\u001b[0m\u001b[0mname\u001b[0m\u001b[1;33m)\u001b[0m\u001b[1;33m,\u001b[0m\u001b[1;33m\u001b[0m\u001b[1;33m\u001b[0m\u001b[0m\n\u001b[0;32m    501\u001b[0m               \u001b[0mnum_outputs\u001b[0m\u001b[1;33m=\u001b[0m\u001b[0mself\u001b[0m\u001b[1;33m.\u001b[0m\u001b[0m_num_outputs\u001b[0m\u001b[1;33m,\u001b[0m\u001b[1;33m\u001b[0m\u001b[1;33m\u001b[0m\u001b[0m\n",
      "\u001b[1;32m~\\anaconda3\\envs\\osy\\lib\\site-packages\\tensorflow\\python\\eager\\execute.py\u001b[0m in \u001b[0;36mquick_execute\u001b[1;34m(op_name, num_outputs, inputs, attrs, ctx, name)\u001b[0m\n\u001b[0;32m     52\u001b[0m   \u001b[1;32mtry\u001b[0m\u001b[1;33m:\u001b[0m\u001b[1;33m\u001b[0m\u001b[1;33m\u001b[0m\u001b[0m\n\u001b[0;32m     53\u001b[0m     \u001b[0mctx\u001b[0m\u001b[1;33m.\u001b[0m\u001b[0mensure_initialized\u001b[0m\u001b[1;33m(\u001b[0m\u001b[1;33m)\u001b[0m\u001b[1;33m\u001b[0m\u001b[1;33m\u001b[0m\u001b[0m\n\u001b[1;32m---> 54\u001b[1;33m     tensors = pywrap_tfe.TFE_Py_Execute(ctx._handle, device_name, op_name,\n\u001b[0m\u001b[0;32m     55\u001b[0m                                         inputs, attrs, num_outputs)\n\u001b[0;32m     56\u001b[0m   \u001b[1;32mexcept\u001b[0m \u001b[0mcore\u001b[0m\u001b[1;33m.\u001b[0m\u001b[0m_NotOkStatusException\u001b[0m \u001b[1;32mas\u001b[0m \u001b[0me\u001b[0m\u001b[1;33m:\u001b[0m\u001b[1;33m\u001b[0m\u001b[1;33m\u001b[0m\u001b[0m\n",
      "\u001b[1;31mKeyboardInterrupt\u001b[0m: "
     ]
    }
   ],
   "source": [
    "# weighted_model = make_model()\n",
    "# weighted_model.load_weights(initial_weights)\n",
    "\n",
    "# weighted_history = weighted_model.fit(\n",
    "#     train_features,\n",
    "#     train_labels,\n",
    "#     batch_size=BATCH_SIZE,\n",
    "#     epochs=EPOCHS,\n",
    "#     callbacks=[early_stopping],\n",
    "#     validation_data=(val_features, val_labels),\n",
    "#     class_weight=class_weight)"
   ]
  },
  {
   "cell_type": "code",
   "execution_count": null,
   "id": "d6ef7077",
   "metadata": {},
   "outputs": [],
   "source": []
  }
 ],
 "metadata": {
  "kernelspec": {
   "display_name": "Python 3 (ipykernel)",
   "language": "python",
   "name": "python3"
  },
  "language_info": {
   "codemirror_mode": {
    "name": "ipython",
    "version": 3
   },
   "file_extension": ".py",
   "mimetype": "text/x-python",
   "name": "python",
   "nbconvert_exporter": "python",
   "pygments_lexer": "ipython3",
   "version": "3.9.16"
  }
 },
 "nbformat": 4,
 "nbformat_minor": 5
}
