{
 "cells": [
  {
   "cell_type": "code",
   "execution_count": 1,
   "metadata": {},
   "outputs": [],
   "source": [
    "import pandas as pd\n",
    "import matplotlib.pyplot as plt\n",
    "import seaborn as sns\n",
    "import matplotlib as mpl\n",
    "%matplotlib inline\n",
    "\n",
    "\n",
    "df_train = pd.read_csv('./train.csv')\n",
    "df_test = pd.read_csv('./test.csv')\n"
   ]
  },
  {
   "cell_type": "code",
   "execution_count": 3,
   "metadata": {},
   "outputs": [],
   "source": [
    "df_train = df_train.drop(columns =['id'])\n",
    "df_test= df_test.drop(columns= ['id'])"
   ]
  },
  {
   "cell_type": "code",
   "execution_count": 4,
   "metadata": {},
   "outputs": [],
   "source": [
    "binary_features_names= ['Previously_Insured','Driving_License','Gender','Vehicle_Damage']\n",
    "cont_features_names = ['Age','Annual_Premium','Vintage']\n",
    "ordinal_features_names= ['Vehicle_Age',]"
   ]
  },
  {
   "cell_type": "code",
   "execution_count": 5,
   "metadata": {},
   "outputs": [],
   "source": [
    "from sklearn import preprocessing\n",
    "train_model = df_train.copy()\n",
    "test_model = df_test.copy()\n",
    "\n",
    "\n",
    "\n",
    "oe = preprocessing.OrdinalEncoder()\n",
    "train_model[ordinal_features_names] = oe.fit_transform(train_model.filter(ordinal_features_names)).astype('int')\n",
    "train_model[binary_features_names] = oe.fit_transform(train_model.filter(binary_features_names)).astype('int')\n",
    "\n",
    "test_model[ordinal_features_names] = oe.fit_transform(test_model.filter(ordinal_features_names)).astype('int')\n",
    "test_model[binary_features_names] = oe.fit_transform(test_model.filter(binary_features_names)).astype('int')\n"
   ]
  },
  {
   "cell_type": "markdown",
   "metadata": {},
   "source": [
    "Region_code (-0.001, 26.0] < (26.0, 29.0] < (29.0, 52.0]\n",
    "Policy_Sales_Channel [(0.999, 124.0], (124.0, 152.0], (152.0, 163.0]]\n"
   ]
  },
  {
   "cell_type": "code",
   "execution_count": 19,
   "metadata": {},
   "outputs": [],
   "source": [
    "def Region_code_preprocessing(df):\n",
    "    if df < 26:\n",
    "        return 0\n",
    "    elif 26<= df <29:\n",
    "        return 1\n",
    "    else:\n",
    "        return 2\n",
    "def policy_code_preprocsssing(df):\n",
    "    if df < 124:\n",
    "        return 0\n",
    "    elif df < 152:\n",
    "        return 1\n",
    "    else:\n",
    "        return 2\n",
    "\n",
    "train_model['Region_Code'] = train_model['Region_Code'].apply(Region_code_preprocessing)\n",
    "train_model['Policy_Sales_Channel'] = train_model['Policy_Sales_Channel'].apply(policy_code_preprocsssing)\n",
    "test_model['Region_Code'] = test_model['Region_Code'].apply(Region_code_preprocessing)\n",
    "test_model['Policy_Sales_Channel'] = test_model['Policy_Sales_Channel'].apply(policy_code_preprocsssing)\n"
   ]
  },
  {
   "cell_type": "code",
   "execution_count": 10,
   "metadata": {},
   "outputs": [
    {
     "name": "stdout",
     "output_type": "stream",
     "text": [
      "Train set size: (11447274, 10)\n",
      "Dev set size: (57524, 10)\n"
     ]
    }
   ],
   "source": [
    "from sklearn.model_selection import train_test_split\n",
    "\n",
    "X = train_model.loc[:, train_model.columns != \"Response\"]\n",
    "y = train_model['Response']\n",
    "\n",
    "\n",
    "X_train, X_dev, y_train, y_dev = train_test_split(X, y, test_size=0.005, random_state=42)\n",
    "\n",
    "print(\"Train set size:\", X_train.shape)\n",
    "print(\"Dev set size:\", X_dev.shape)"
   ]
  },
  {
   "cell_type": "code",
   "execution_count": 16,
   "metadata": {},
   "outputs": [
    {
     "name": "stderr",
     "output_type": "stream",
     "text": [
      "/opt/miniconda3/envs/tensorflow/lib/python3.8/site-packages/xgboost/core.py:158: UserWarning: [18:53:07] WARNING: /Users/runner/work/xgboost/xgboost/src/learner.cc:740: \n",
      "Parameters: { \"use_label_encoder\" } are not used.\n",
      "\n",
      "  warnings.warn(smsg, UserWarning)\n"
     ]
    },
    {
     "name": "stdout",
     "output_type": "stream",
     "text": [
      "[0]\tvalidation_0-auc:0.78888\n",
      "[500]\tvalidation_0-auc:0.88021\n",
      "[1000]\tvalidation_0-auc:0.88213\n",
      "[1500]\tvalidation_0-auc:0.88319\n",
      "[2000]\tvalidation_0-auc:0.88373\n",
      "[2500]\tvalidation_0-auc:0.88413\n",
      "[3000]\tvalidation_0-auc:0.88446\n",
      "[3500]\tvalidation_0-auc:0.88465\n",
      "[4000]\tvalidation_0-auc:0.88481\n",
      "[4500]\tvalidation_0-auc:0.88499\n",
      "[5000]\tvalidation_0-auc:0.88509\n",
      "[5500]\tvalidation_0-auc:0.88521\n",
      "[6000]\tvalidation_0-auc:0.88531\n",
      "[6500]\tvalidation_0-auc:0.88532\n",
      "[7000]\tvalidation_0-auc:0.88535\n",
      "[7500]\tvalidation_0-auc:0.88540\n",
      "[8000]\tvalidation_0-auc:0.88544\n",
      "[8500]\tvalidation_0-auc:0.88549\n",
      "[9000]\tvalidation_0-auc:0.88559\n",
      "[9500]\tvalidation_0-auc:0.88560\n",
      "[10000]\tvalidation_0-auc:0.88559\n",
      "[10500]\tvalidation_0-auc:0.88555\n",
      "[11000]\tvalidation_0-auc:0.88557\n",
      "[11500]\tvalidation_0-auc:0.88557\n",
      "[11999]\tvalidation_0-auc:0.88557\n"
     ]
    },
    {
     "data": {
      "text/html": [
       "<style>#sk-container-id-1 {color: black;}#sk-container-id-1 pre{padding: 0;}#sk-container-id-1 div.sk-toggleable {background-color: white;}#sk-container-id-1 label.sk-toggleable__label {cursor: pointer;display: block;width: 100%;margin-bottom: 0;padding: 0.3em;box-sizing: border-box;text-align: center;}#sk-container-id-1 label.sk-toggleable__label-arrow:before {content: \"▸\";float: left;margin-right: 0.25em;color: #696969;}#sk-container-id-1 label.sk-toggleable__label-arrow:hover:before {color: black;}#sk-container-id-1 div.sk-estimator:hover label.sk-toggleable__label-arrow:before {color: black;}#sk-container-id-1 div.sk-toggleable__content {max-height: 0;max-width: 0;overflow: hidden;text-align: left;background-color: #f0f8ff;}#sk-container-id-1 div.sk-toggleable__content pre {margin: 0.2em;color: black;border-radius: 0.25em;background-color: #f0f8ff;}#sk-container-id-1 input.sk-toggleable__control:checked~div.sk-toggleable__content {max-height: 200px;max-width: 100%;overflow: auto;}#sk-container-id-1 input.sk-toggleable__control:checked~label.sk-toggleable__label-arrow:before {content: \"▾\";}#sk-container-id-1 div.sk-estimator input.sk-toggleable__control:checked~label.sk-toggleable__label {background-color: #d4ebff;}#sk-container-id-1 div.sk-label input.sk-toggleable__control:checked~label.sk-toggleable__label {background-color: #d4ebff;}#sk-container-id-1 input.sk-hidden--visually {border: 0;clip: rect(1px 1px 1px 1px);clip: rect(1px, 1px, 1px, 1px);height: 1px;margin: -1px;overflow: hidden;padding: 0;position: absolute;width: 1px;}#sk-container-id-1 div.sk-estimator {font-family: monospace;background-color: #f0f8ff;border: 1px dotted black;border-radius: 0.25em;box-sizing: border-box;margin-bottom: 0.5em;}#sk-container-id-1 div.sk-estimator:hover {background-color: #d4ebff;}#sk-container-id-1 div.sk-parallel-item::after {content: \"\";width: 100%;border-bottom: 1px solid gray;flex-grow: 1;}#sk-container-id-1 div.sk-label:hover label.sk-toggleable__label {background-color: #d4ebff;}#sk-container-id-1 div.sk-serial::before {content: \"\";position: absolute;border-left: 1px solid gray;box-sizing: border-box;top: 0;bottom: 0;left: 50%;z-index: 0;}#sk-container-id-1 div.sk-serial {display: flex;flex-direction: column;align-items: center;background-color: white;padding-right: 0.2em;padding-left: 0.2em;position: relative;}#sk-container-id-1 div.sk-item {position: relative;z-index: 1;}#sk-container-id-1 div.sk-parallel {display: flex;align-items: stretch;justify-content: center;background-color: white;position: relative;}#sk-container-id-1 div.sk-item::before, #sk-container-id-1 div.sk-parallel-item::before {content: \"\";position: absolute;border-left: 1px solid gray;box-sizing: border-box;top: 0;bottom: 0;left: 50%;z-index: -1;}#sk-container-id-1 div.sk-parallel-item {display: flex;flex-direction: column;z-index: 1;position: relative;background-color: white;}#sk-container-id-1 div.sk-parallel-item:first-child::after {align-self: flex-end;width: 50%;}#sk-container-id-1 div.sk-parallel-item:last-child::after {align-self: flex-start;width: 50%;}#sk-container-id-1 div.sk-parallel-item:only-child::after {width: 0;}#sk-container-id-1 div.sk-dashed-wrapped {border: 1px dashed gray;margin: 0 0.4em 0.5em 0.4em;box-sizing: border-box;padding-bottom: 0.4em;background-color: white;}#sk-container-id-1 div.sk-label label {font-family: monospace;font-weight: bold;display: inline-block;line-height: 1.2em;}#sk-container-id-1 div.sk-label-container {text-align: center;}#sk-container-id-1 div.sk-container {/* jupyter's `normalize.less` sets `[hidden] { display: none; }` but bootstrap.min.css set `[hidden] { display: none !important; }` so we also need the `!important` here to be able to override the default hidden behavior on the sphinx rendered scikit-learn.org. See: https://github.com/scikit-learn/scikit-learn/issues/21755 */display: inline-block !important;position: relative;}#sk-container-id-1 div.sk-text-repr-fallback {display: none;}</style><div id=\"sk-container-id-1\" class=\"sk-top-container\"><div class=\"sk-text-repr-fallback\"><pre>XGBClassifier(alpha=1.302348865795227e-06, base_score=None, booster=None,\n",
       "              callbacks=None, colsample_bylevel=None, colsample_bynode=None,\n",
       "              colsample_bytree=0.2590672912533101, device=None,\n",
       "              early_stopping_rounds=None, enable_categorical=False,\n",
       "              eval_metric=&#x27;auc&#x27;, feature_types=None, gamma=0.8399887056014855,\n",
       "              grow_policy=None, importance_type=None,\n",
       "              interaction_constraints=None, learning_rate=0.061800451723613786,\n",
       "              max_bin=71284, max_cat_threshold=None, max_cat_to_onehot=None,\n",
       "              max_delta_step=None, max_depth=15, max_leaves=None,\n",
       "              min_child_weight=10, missing=nan, monotone_constraints=None,\n",
       "              multi_strategy=None, n_estimators=12000, n_jobs=None,\n",
       "              num_parallel_tree=None, ...)</pre><b>In a Jupyter environment, please rerun this cell to show the HTML representation or trust the notebook. <br />On GitHub, the HTML representation is unable to render, please try loading this page with nbviewer.org.</b></div><div class=\"sk-container\" hidden><div class=\"sk-item\"><div class=\"sk-estimator sk-toggleable\"><input class=\"sk-toggleable__control sk-hidden--visually\" id=\"sk-estimator-id-1\" type=\"checkbox\" checked><label for=\"sk-estimator-id-1\" class=\"sk-toggleable__label sk-toggleable__label-arrow\">XGBClassifier</label><div class=\"sk-toggleable__content\"><pre>XGBClassifier(alpha=1.302348865795227e-06, base_score=None, booster=None,\n",
       "              callbacks=None, colsample_bylevel=None, colsample_bynode=None,\n",
       "              colsample_bytree=0.2590672912533101, device=None,\n",
       "              early_stopping_rounds=None, enable_categorical=False,\n",
       "              eval_metric=&#x27;auc&#x27;, feature_types=None, gamma=0.8399887056014855,\n",
       "              grow_policy=None, importance_type=None,\n",
       "              interaction_constraints=None, learning_rate=0.061800451723613786,\n",
       "              max_bin=71284, max_cat_threshold=None, max_cat_to_onehot=None,\n",
       "              max_delta_step=None, max_depth=15, max_leaves=None,\n",
       "              min_child_weight=10, missing=nan, monotone_constraints=None,\n",
       "              multi_strategy=None, n_estimators=12000, n_jobs=None,\n",
       "              num_parallel_tree=None, ...)</pre></div></div></div></div></div>"
      ],
      "text/plain": [
       "XGBClassifier(alpha=1.302348865795227e-06, base_score=None, booster=None,\n",
       "              callbacks=None, colsample_bylevel=None, colsample_bynode=None,\n",
       "              colsample_bytree=0.2590672912533101, device=None,\n",
       "              early_stopping_rounds=None, enable_categorical=False,\n",
       "              eval_metric='auc', feature_types=None, gamma=0.8399887056014855,\n",
       "              grow_policy=None, importance_type=None,\n",
       "              interaction_constraints=None, learning_rate=0.061800451723613786,\n",
       "              max_bin=71284, max_cat_threshold=None, max_cat_to_onehot=None,\n",
       "              max_delta_step=None, max_depth=15, max_leaves=None,\n",
       "              min_child_weight=10, missing=nan, monotone_constraints=None,\n",
       "              multi_strategy=None, n_estimators=12000, n_jobs=None,\n",
       "              num_parallel_tree=None, ...)"
      ]
     },
     "execution_count": 16,
     "metadata": {},
     "output_type": "execute_result"
    }
   ],
   "source": [
    "from xgboost import XGBClassifier\n",
    "from sklearn.model_selection import train_test_split\n",
    "from sklearn.metrics import roc_auc_score\n",
    "\n",
    "# 최적의 하이퍼파라미터\n",
    "best_params = {\n",
    "    'alpha': 1.302348865795227e-06, \n",
    "    'max_depth': 15, \n",
    "    'learning_rate': 0.061800451723613786, \n",
    "    'subsample': 0.7098803046786328, \n",
    "    'colsample_bytree': 0.2590672912533101, \n",
    "    'min_child_weight': 10, \n",
    "    'gamma': 0.8399887056014855, \n",
    "    'reg_alpha': 0.0016943548302122801, \n",
    "    'max_bin': 71284,\n",
    "}\n",
    "\n",
    "# XGBoost 모델 초기화\n",
    "best_xgb_model = XGBClassifier(\n",
    "    **best_params, \n",
    "    n_estimators=12000, \n",
    "    random_state=42, \n",
    "    use_label_encoder=False,\n",
    "    eval_metric=\"auc\"\n",
    ")\n",
    "\n",
    "# 모델 학습\n",
    "best_xgb_model.fit(\n",
    "    X_train, \n",
    "    y_train, \n",
    "    eval_set=[(X_dev, y_dev)], \n",
    "    verbose=500\n",
    ")\n"
   ]
  },
  {
   "cell_type": "code",
   "execution_count": 17,
   "metadata": {},
   "outputs": [
    {
     "name": "stdout",
     "output_type": "stream",
     "text": [
      "0.8855710323101429\n"
     ]
    }
   ],
   "source": [
    "y_pred_prob = best_xgb_model.predict_proba(X_dev)[:, 1]\n",
    "score = roc_auc_score(y_dev, y_pred_prob)\n",
    "print(score)"
   ]
  },
  {
   "cell_type": "code",
   "execution_count": 20,
   "metadata": {},
   "outputs": [],
   "source": [
    "preb_prob = best_xgb_model.predict_proba(test_model)[:, 1]\n",
    "\n",
    "submission = pd.read_csv(\"/kaggle/input/playground-series-s4e7/sample_submission.csv\")\n",
    "submission[\"Response\"] = preb_prob\n",
    "\n",
    "submission.to_csv(\"submissiongboost_4.csv\", index=False)\n"
   ]
  }
 ],
 "metadata": {
  "kernelspec": {
   "display_name": "Python 3.9.19",
   "language": "python",
   "name": "python3"
  },
  "language_info": {
   "codemirror_mode": {
    "name": "ipython",
    "version": 3
   },
   "file_extension": ".py",
   "mimetype": "text/x-python",
   "name": "python",
   "nbconvert_exporter": "python",
   "pygments_lexer": "ipython3",
   "version": "3.8.19"
  },
  "orig_nbformat": 4,
  "vscode": {
   "interpreter": {
    "hash": "ee7d7838ef53998fd22ad7449b76e48b4013ea11e59d28ee193f2cd757746339"
   }
  }
 },
 "nbformat": 4,
 "nbformat_minor": 2
}
